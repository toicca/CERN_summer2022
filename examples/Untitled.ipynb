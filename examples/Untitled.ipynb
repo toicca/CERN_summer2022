{
 "cells": [
  {
   "cell_type": "markdown",
   "id": "7418d8df",
   "metadata": {},
   "source": [
    "# Testing"
   ]
  },
  {
   "cell_type": "markdown",
   "id": "03cf737d",
   "metadata": {},
   "source": [
    "## Attention please"
   ]
  },
  {
   "cell_type": "markdown",
   "id": "c1c2b577",
   "metadata": {},
   "source": [
    "### Who sent for me?"
   ]
  },
  {
   "cell_type": "code",
   "execution_count": 1,
   "id": "4c1e8b5b",
   "metadata": {
    "ExecuteTime": {
     "end_time": "2022-07-26T18:22:35.397449Z",
     "start_time": "2022-07-26T18:22:35.391212Z"
    }
   },
   "outputs": [
    {
     "name": "stdout",
     "output_type": "stream",
     "text": [
      "chicka chicka slim shady\n"
     ]
    }
   ],
   "source": [
    "print(\"chicka chicka slim shady\")"
   ]
  }
 ],
 "metadata": {
  "hide_input": false,
  "kernelspec": {
   "display_name": "Python 3",
   "language": "python",
   "name": "python3"
  },
  "language_info": {
   "codemirror_mode": {
    "name": "ipython",
    "version": 3
   },
   "file_extension": ".py",
   "mimetype": "text/x-python",
   "name": "python",
   "nbconvert_exporter": "python",
   "pygments_lexer": "ipython3",
   "version": "3.9.12"
  },
  "latex_envs": {
   "LaTeX_envs_menu_present": true,
   "autoclose": false,
   "autocomplete": true,
   "bibliofile": "biblio.bib",
   "cite_by": "apalike",
   "current_citInitial": 1,
   "eqLabelWithNumbers": true,
   "eqNumInitial": 1,
   "hotkeys": {
    "equation": "Ctrl-E",
    "itemize": "Ctrl-I"
   },
   "labels_anchors": false,
   "latex_user_defs": false,
   "report_style_numbering": false,
   "user_envs_cfg": false
  },
  "toc": {
   "base_numbering": 1,
   "nav_menu": {},
   "number_sections": true,
   "sideBar": true,
   "skip_h1_title": false,
   "title_cell": "Table of Contents",
   "title_sidebar": "Contents",
   "toc_cell": false,
   "toc_position": {},
   "toc_section_display": true,
   "toc_window_display": false
  }
 },
 "nbformat": 4,
 "nbformat_minor": 5
}
