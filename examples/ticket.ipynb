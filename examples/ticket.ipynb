{
 "cells": [
  {
   "cell_type": "markdown",
   "id": "f334e0a8",
   "metadata": {},
   "source": [
    "# Response"
   ]
  },
  {
   "cell_type": "markdown",
   "id": "89163465",
   "metadata": {},
   "source": [
    "## Libraries and macros"
   ]
  },
  {
   "cell_type": "code",
   "execution_count": 1,
   "id": "02c2ac5f",
   "metadata": {
    "ExecuteTime": {
     "end_time": "2022-06-27T17:02:30.274257Z",
     "start_time": "2022-06-27T17:02:25.132366Z"
    },
    "scrolled": true
   },
   "outputs": [
    {
     "name": "stdout",
     "output_type": "stream",
     "text": [
      "Welcome to JupyROOT 6.27/01\n"
     ]
    }
   ],
   "source": [
    "import ROOT\n",
    "\n",
    "RDataFrame = ROOT.RDF.Experimental.Distributed.Spark.RDataFrame\n",
    "initialize = ROOT.RDF.Experimental.Distributed.initialize\n",
    "\n",
    "# def myinit():\n",
    "#      # ROOT.gSystem.Load('root://eosuser.cern.ch//eos/user/n/ntoikka/code/macros/./Nhelpers_C.so')\n",
    "#     id_code = \"\"\"\n",
    "# auto id_pair(ROOT::RVec<float> v, ROOT::RVec<int> idx) {\n",
    "#     ROOT::RVec<float> result;\n",
    "#     int size = Max(idx)+1;\n",
    "#     result.resize(size);\n",
    "\n",
    "#     for (int i=0; i<idx.size(); i++) {\n",
    "#         if (idx[i] >= 0) {\n",
    "#             result[idx[i]] = v[i];\n",
    "#         }\n",
    "#     }\n",
    "\n",
    "#     return result;\n",
    "#  }\"\"\"\n",
    "\n",
    "#     ROOT.gInterpreter.Declare(id_code)\n",
    "        \n",
    "# initialize(myinit)"
   ]
  },
  {
   "cell_type": "code",
   "execution_count": 2,
   "id": "ecfa072e",
   "metadata": {
    "ExecuteTime": {
     "end_time": "2022-06-27T16:55:13.975452Z",
     "start_time": "2022-06-27T16:55:13.004885Z"
    }
   },
   "outputs": [
    {
     "ename": "NameError",
     "evalue": "name 'df' is not defined",
     "output_type": "error",
     "traceback": [
      "\u001b[0;31m---------------------------------------------------------------------------\u001b[0m",
      "\u001b[0;31mNameError\u001b[0m                                 Traceback (most recent call last)",
      "\u001b[0;32m/tmp/ipykernel_3866/1957067266.py\u001b[0m in \u001b[0;36m<module>\u001b[0;34m\u001b[0m\n\u001b[0;32m----> 1\u001b[0;31m \u001b[0mdf\u001b[0m\u001b[0;34m.\u001b[0m\u001b[0m_headnode\u001b[0m\u001b[0;34m.\u001b[0m\u001b[0mbackend\u001b[0m\u001b[0;34m.\u001b[0m\u001b[0mdistribute_headers\u001b[0m\u001b[0;34m(\u001b[0m\u001b[0;34m\"../macros/myheader.hpp\"\u001b[0m\u001b[0;34m)\u001b[0m\u001b[0;34m\u001b[0m\u001b[0;34m\u001b[0m\u001b[0m\n\u001b[0m",
      "\u001b[0;31mNameError\u001b[0m: name 'df' is not defined"
     ]
    }
   ],
   "source": [
    "df._headnode.backend.distribute_headers(\"../macros/myheader.hpp\")"
   ]
  },
  {
   "cell_type": "code",
   "execution_count": null,
   "id": "c755d578",
   "metadata": {
    "ExecuteTime": {
     "end_time": "2022-06-27T12:07:36.206377Z",
     "start_time": "2022-06-27T12:07:36.044922Z"
    }
   },
   "outputs": [],
   "source": [
    "id_code = \"\"\"\n",
    "auto id_pair(ROOT::RVec<float> v, ROOT::RVec<int> idx) {\n",
    "    ROOT::RVec<float> result;\n",
    "    int size = Max(idx)+1;\n",
    "    result.resize(size);\n",
    "\n",
    "    for (int i=0; i<idx.size(); i++) {\n",
    "        if (idx[i] >= 0) {\n",
    "            result[idx[i]] = v[i];\n",
    "        }\n",
    "    }\n",
    "\n",
    "    return result;\n",
    " }\"\"\"\n",
    "\n",
    "ROOT.gInterpreter.Declare(id_code)"
   ]
  },
  {
   "cell_type": "code",
   "execution_count": 4,
   "id": "8ea0252b",
   "metadata": {
    "ExecuteTime": {
     "end_time": "2022-06-27T16:56:18.388920Z",
     "start_time": "2022-06-27T16:55:55.719057Z"
    }
   },
   "outputs": [
    {
     "name": "stderr",
     "output_type": "stream",
     "text": [
      "\r",
      "[Stage 0:>                                                        (0 + 10) / 10]\r"
     ]
    },
    {
     "name": "stdout",
     "output_type": "stream",
     "text": [
      "22/06/27 18:56:09 WARN TaskSetManager: Lost task 0.0 in stage 0.0 (TID 0) (10.100.38.190 executor 5): org.apache.spark.api.python.PythonException: Traceback (most recent call last):\n",
      "  File \"/cvmfs/sft-nightlies.cern.ch/lcg/nightlies/devswan/Mon/spark/3.3.0-cern1/x86_64-centos7-gcc11-opt/python/lib/pyspark.zip/pyspark/worker.py\", line 686, in main\n",
      "    process()\n",
      "  File \"/cvmfs/sft-nightlies.cern.ch/lcg/nightlies/devswan/Mon/spark/3.3.0-cern1/x86_64-centos7-gcc11-opt/python/lib/pyspark.zip/pyspark/worker.py\", line 676, in process\n",
      "    out_iter = func(split_index, iterator)\n",
      "  File \"/cvmfs/sft-nightlies.cern.ch/lcg/views/devswan/Mon/x86_64-centos7-gcc11-opt/python/pyspark/rdd.py\", line 3472, in pipeline_func\n",
      "    return func(split, prev_func(split, iterator))\n",
      "  File \"/cvmfs/sft-nightlies.cern.ch/lcg/views/devswan/Mon/x86_64-centos7-gcc11-opt/python/pyspark/rdd.py\", line 3472, in pipeline_func\n",
      "    return func(split, prev_func(split, iterator))\n",
      "  File \"/cvmfs/sft-nightlies.cern.ch/lcg/views/devswan/Mon/x86_64-centos7-gcc11-opt/python/pyspark/rdd.py\", line 540, in func\n",
      "    return f(iterator)\n",
      "  File \"/cvmfs/sft-nightlies.cern.ch/lcg/views/devswan/Mon/x86_64-centos7-gcc11-opt/python/pyspark/rdd.py\", line 2554, in combineLocally\n",
      "    merger.mergeValues(iterator)\n",
      "  File \"/cvmfs/sft-nightlies.cern.ch/lcg/nightlies/devswan/Mon/spark/3.3.0-cern1/x86_64-centos7-gcc11-opt/python/lib/pyspark.zip/pyspark/shuffle.py\", line 253, in mergeValues\n",
      "    for k, v in iterator:\n",
      "  File \"/cvmfs/sft-nightlies.cern.ch/lcg/views/devswan/Mon/x86_64-centos7-gcc11-opt/python/pyspark/rdd.py\", line 1430, in mapPartition\n",
      "    for obj in iterator:\n",
      "  File \"/cvmfs/sft-nightlies.cern.ch/lcg/views/devswan/Mon/x86_64-centos7-gcc11-opt/python/pyspark/rdd.py\", line 1416, in aggregatePartition\n",
      "    for obj in iterator:\n",
      "  File \"/cvmfs/sft-nightlies.cern.ch/lcg/nightlies/devswan/Mon/spark/3.3.0-cern1/x86_64-centos7-gcc11-opt/python/lib/pyspark.zip/pyspark/util.py\", line 81, in wrapper\n",
      "    return f(*args, **kwargs)\n",
      "  File \"/cvmfs/sft-nightlies.cern.ch/lcg/views/devswan/Mon/x86_64-centos7-gcc11-opt/lib/DistRDF/Backends/Spark/Backend.py\", line 128, in spark_mapper\n",
      "    return mapper(current_range)\n",
      "  File \"/cvmfs/sft-nightlies.cern.ch/lcg/views/devswan/Mon/x86_64-centos7-gcc11-opt/lib/DistRDF/Backends/Base.py\", line 107, in distrdf_mapper\n",
      "    rdf_plus = build_rdf_from_range(current_range)\n",
      "  File \"/cvmfs/sft-nightlies.cern.ch/lcg/views/devswan/Mon/x86_64-centos7-gcc11-opt/lib/DistRDF/HeadNode.py\", line 510, in build_rdf_from_range\n",
      "    chain, entries_in_trees = build_chain_from_range(current_range)\n",
      "  File \"/cvmfs/sft-nightlies.cern.ch/lcg/views/devswan/Mon/x86_64-centos7-gcc11-opt/lib/DistRDF/HeadNode.py\", line 470, in build_chain_from_range\n",
      "    clustered_range, entries_in_trees = Ranges.get_clustered_range_from_percs(current_range)\n",
      "  File \"/cvmfs/sft-nightlies.cern.ch/lcg/views/devswan/Mon/x86_64-centos7-gcc11-opt/lib/DistRDF/Ranges.py\", line 295, in get_clustered_range_from_percs\n",
      "    clusters, entries = get_clusters_and_entries(treename, filename)\n",
      "  File \"/cvmfs/sft-nightlies.cern.ch/lcg/views/devswan/Mon/x86_64-centos7-gcc11-opt/lib/DistRDF/Ranges.py\", line 170, in get_clusters_and_entries\n",
      "    tfile = ROOT.TFile.Open(filename)\n",
      "  File \"/cvmfs/sft-nightlies.cern.ch/lcg/views/devswan/Mon/x86_64-centos7-gcc11-opt/lib/ROOT/_pythonization/_tfile.py\", line 103, in _TFileOpen\n",
      "    raise OSError('Failed to open file {}'.format(str(args[0])))\n",
      "OSError: Failed to open file /eos/user/n/ntoikka/data/20UL18JMENano_106X_upgrade2018_realistic_v16_L1v1-v1/30000/EAB5816F-5C3D-5247-AB9F-94B8BECDEF08.root\n",
      "\n",
      "\tat org.apache.spark.api.python.BasePythonRunner$ReaderIterator.handlePythonException(PythonRunner.scala:559)\n",
      "\tat org.apache.spark.api.python.PythonRunner$$anon$3.read(PythonRunner.scala:765)\n",
      "\tat org.apache.spark.api.python.PythonRunner$$anon$3.read(PythonRunner.scala:747)\n",
      "\tat org.apache.spark.api.python.BasePythonRunner$ReaderIterator.hasNext(PythonRunner.scala:512)\n",
      "\tat org.apache.spark.InterruptibleIterator.hasNext(InterruptibleIterator.scala:37)\n",
      "\tat scala.collection.Iterator$GroupedIterator.fill(Iterator.scala:1211)\n",
      "\tat scala.collection.Iterator$GroupedIterator.hasNext(Iterator.scala:1217)\n",
      "\tat scala.collection.Iterator$$anon$10.hasNext(Iterator.scala:460)\n",
      "\tat org.apache.spark.shuffle.sort.BypassMergeSortShuffleWriter.write(BypassMergeSortShuffleWriter.java:140)\n",
      "\tat org.apache.spark.shuffle.ShuffleWriteProcessor.write(ShuffleWriteProcessor.scala:59)\n",
      "\tat org.apache.spark.scheduler.ShuffleMapTask.runTask(ShuffleMapTask.scala:99)\n",
      "\tat org.apache.spark.scheduler.ShuffleMapTask.runTask(ShuffleMapTask.scala:52)\n",
      "\tat org.apache.spark.scheduler.Task.run(Task.scala:136)\n",
      "\tat org.apache.spark.executor.Executor$TaskRunner.$anonfun$run$3(Executor.scala:548)\n",
      "\tat org.apache.spark.util.Utils$.tryWithSafeFinally(Utils.scala:1504)\n",
      "\tat org.apache.spark.executor.Executor$TaskRunner.run(Executor.scala:551)\n",
      "\tat java.base/java.util.concurrent.ThreadPoolExecutor.runWorker(ThreadPoolExecutor.java:1128)\n",
      "\tat java.base/java.util.concurrent.ThreadPoolExecutor$Worker.run(ThreadPoolExecutor.java:628)\n",
      "\tat java.base/java.lang.Thread.run(Thread.java:829)\n",
      "\n",
      "22/06/27 18:56:17 ERROR TaskSetManager: Task 7 in stage 0.0 failed 4 times; aborting job\n",
      "22/06/27 18:56:17 WARN TaskSetManager: Lost task 2.3 in stage 0.0 (TID 31) (10.100.38.190 executor 5): TaskKilled (Stage cancelled)\n",
      "22/06/27 18:56:17 WARN TaskSetManager: Lost task 5.3 in stage 0.0 (TID 30) (10.100.38.190 executor 5): TaskKilled (Stage cancelled)\n"
     ]
    },
    {
     "name": "stderr",
     "output_type": "stream",
     "text": [
      "\r",
      "[Stage 0:>                                                         (0 + 6) / 10]\r"
     ]
    },
    {
     "ename": "Py4JJavaError",
     "evalue": "An error occurred while calling z:org.apache.spark.api.python.PythonRDD.collectAndServe.\n: org.apache.spark.SparkException: Job aborted due to stage failure: Task 7 in stage 0.0 failed 4 times, most recent failure: Lost task 7.3 in stage 0.0 (TID 28) (10.100.54.187 executor 1): org.apache.spark.api.python.PythonException: Traceback (most recent call last):\n  File \"/cvmfs/sft-nightlies.cern.ch/lcg/nightlies/devswan/Mon/spark/3.3.0-cern1/x86_64-centos7-gcc11-opt/python/lib/pyspark.zip/pyspark/worker.py\", line 686, in main\n    process()\n  File \"/cvmfs/sft-nightlies.cern.ch/lcg/nightlies/devswan/Mon/spark/3.3.0-cern1/x86_64-centos7-gcc11-opt/python/lib/pyspark.zip/pyspark/worker.py\", line 676, in process\n    out_iter = func(split_index, iterator)\n  File \"/cvmfs/sft-nightlies.cern.ch/lcg/views/devswan/Mon/x86_64-centos7-gcc11-opt/python/pyspark/rdd.py\", line 3472, in pipeline_func\n    return func(split, prev_func(split, iterator))\n  File \"/cvmfs/sft-nightlies.cern.ch/lcg/views/devswan/Mon/x86_64-centos7-gcc11-opt/python/pyspark/rdd.py\", line 3472, in pipeline_func\n    return func(split, prev_func(split, iterator))\n  File \"/cvmfs/sft-nightlies.cern.ch/lcg/views/devswan/Mon/x86_64-centos7-gcc11-opt/python/pyspark/rdd.py\", line 540, in func\n    return f(iterator)\n  File \"/cvmfs/sft-nightlies.cern.ch/lcg/views/devswan/Mon/x86_64-centos7-gcc11-opt/python/pyspark/rdd.py\", line 2554, in combineLocally\n    merger.mergeValues(iterator)\n  File \"/cvmfs/sft-nightlies.cern.ch/lcg/nightlies/devswan/Mon/spark/3.3.0-cern1/x86_64-centos7-gcc11-opt/python/lib/pyspark.zip/pyspark/shuffle.py\", line 253, in mergeValues\n    for k, v in iterator:\n  File \"/cvmfs/sft-nightlies.cern.ch/lcg/views/devswan/Mon/x86_64-centos7-gcc11-opt/python/pyspark/rdd.py\", line 1430, in mapPartition\n    for obj in iterator:\n  File \"/cvmfs/sft-nightlies.cern.ch/lcg/views/devswan/Mon/x86_64-centos7-gcc11-opt/python/pyspark/rdd.py\", line 1416, in aggregatePartition\n    for obj in iterator:\n  File \"/cvmfs/sft-nightlies.cern.ch/lcg/nightlies/devswan/Mon/spark/3.3.0-cern1/x86_64-centos7-gcc11-opt/python/lib/pyspark.zip/pyspark/util.py\", line 81, in wrapper\n    return f(*args, **kwargs)\n  File \"/cvmfs/sft-nightlies.cern.ch/lcg/views/devswan/Mon/x86_64-centos7-gcc11-opt/lib/DistRDF/Backends/Spark/Backend.py\", line 128, in spark_mapper\n    return mapper(current_range)\n  File \"/cvmfs/sft-nightlies.cern.ch/lcg/views/devswan/Mon/x86_64-centos7-gcc11-opt/lib/DistRDF/Backends/Base.py\", line 107, in distrdf_mapper\n    rdf_plus = build_rdf_from_range(current_range)\n  File \"/cvmfs/sft-nightlies.cern.ch/lcg/views/devswan/Mon/x86_64-centos7-gcc11-opt/lib/DistRDF/HeadNode.py\", line 510, in build_rdf_from_range\n    chain, entries_in_trees = build_chain_from_range(current_range)\n  File \"/cvmfs/sft-nightlies.cern.ch/lcg/views/devswan/Mon/x86_64-centos7-gcc11-opt/lib/DistRDF/HeadNode.py\", line 470, in build_chain_from_range\n    clustered_range, entries_in_trees = Ranges.get_clustered_range_from_percs(current_range)\n  File \"/cvmfs/sft-nightlies.cern.ch/lcg/views/devswan/Mon/x86_64-centos7-gcc11-opt/lib/DistRDF/Ranges.py\", line 295, in get_clustered_range_from_percs\n    clusters, entries = get_clusters_and_entries(treename, filename)\n  File \"/cvmfs/sft-nightlies.cern.ch/lcg/views/devswan/Mon/x86_64-centos7-gcc11-opt/lib/DistRDF/Ranges.py\", line 170, in get_clusters_and_entries\n    tfile = ROOT.TFile.Open(filename)\n  File \"/cvmfs/sft-nightlies.cern.ch/lcg/views/devswan/Mon/x86_64-centos7-gcc11-opt/lib/ROOT/_pythonization/_tfile.py\", line 103, in _TFileOpen\n    raise OSError('Failed to open file {}'.format(str(args[0])))\nOSError: Failed to open file /eos/user/n/ntoikka/data/20UL18JMENano_106X_upgrade2018_realistic_v16_L1v1-v1/30000/EAB5816F-5C3D-5247-AB9F-94B8BECDEF08.root\n\n\tat org.apache.spark.api.python.BasePythonRunner$ReaderIterator.handlePythonException(PythonRunner.scala:559)\n\tat org.apache.spark.api.python.PythonRunner$$anon$3.read(PythonRunner.scala:765)\n\tat org.apache.spark.api.python.PythonRunner$$anon$3.read(PythonRunner.scala:747)\n\tat org.apache.spark.api.python.BasePythonRunner$ReaderIterator.hasNext(PythonRunner.scala:512)\n\tat org.apache.spark.InterruptibleIterator.hasNext(InterruptibleIterator.scala:37)\n\tat scala.collection.Iterator$GroupedIterator.fill(Iterator.scala:1211)\n\tat scala.collection.Iterator$GroupedIterator.hasNext(Iterator.scala:1217)\n\tat scala.collection.Iterator$$anon$10.hasNext(Iterator.scala:460)\n\tat org.apache.spark.shuffle.sort.BypassMergeSortShuffleWriter.write(BypassMergeSortShuffleWriter.java:140)\n\tat org.apache.spark.shuffle.ShuffleWriteProcessor.write(ShuffleWriteProcessor.scala:59)\n\tat org.apache.spark.scheduler.ShuffleMapTask.runTask(ShuffleMapTask.scala:99)\n\tat org.apache.spark.scheduler.ShuffleMapTask.runTask(ShuffleMapTask.scala:52)\n\tat org.apache.spark.scheduler.Task.run(Task.scala:136)\n\tat org.apache.spark.executor.Executor$TaskRunner.$anonfun$run$3(Executor.scala:548)\n\tat org.apache.spark.util.Utils$.tryWithSafeFinally(Utils.scala:1504)\n\tat org.apache.spark.executor.Executor$TaskRunner.run(Executor.scala:551)\n\tat java.base/java.util.concurrent.ThreadPoolExecutor.runWorker(ThreadPoolExecutor.java:1128)\n\tat java.base/java.util.concurrent.ThreadPoolExecutor$Worker.run(ThreadPoolExecutor.java:628)\n\tat java.base/java.lang.Thread.run(Thread.java:829)\n\nDriver stacktrace:\n\tat org.apache.spark.scheduler.DAGScheduler.failJobAndIndependentStages(DAGScheduler.scala:2672)\n\tat org.apache.spark.scheduler.DAGScheduler.$anonfun$abortStage$2(DAGScheduler.scala:2608)\n\tat org.apache.spark.scheduler.DAGScheduler.$anonfun$abortStage$2$adapted(DAGScheduler.scala:2607)\n\tat scala.collection.mutable.ResizableArray.foreach(ResizableArray.scala:62)\n\tat scala.collection.mutable.ResizableArray.foreach$(ResizableArray.scala:55)\n\tat scala.collection.mutable.ArrayBuffer.foreach(ArrayBuffer.scala:49)\n\tat org.apache.spark.scheduler.DAGScheduler.abortStage(DAGScheduler.scala:2607)\n\tat org.apache.spark.scheduler.DAGScheduler.$anonfun$handleTaskSetFailed$1(DAGScheduler.scala:1182)\n\tat org.apache.spark.scheduler.DAGScheduler.$anonfun$handleTaskSetFailed$1$adapted(DAGScheduler.scala:1182)\n\tat scala.Option.foreach(Option.scala:407)\n\tat org.apache.spark.scheduler.DAGScheduler.handleTaskSetFailed(DAGScheduler.scala:1182)\n\tat org.apache.spark.scheduler.DAGSchedulerEventProcessLoop.doOnReceive(DAGScheduler.scala:2860)\n\tat org.apache.spark.scheduler.DAGSchedulerEventProcessLoop.onReceive(DAGScheduler.scala:2802)\n\tat org.apache.spark.scheduler.DAGSchedulerEventProcessLoop.onReceive(DAGScheduler.scala:2791)\n\tat org.apache.spark.util.EventLoop$$anon$1.run(EventLoop.scala:49)\n\tat org.apache.spark.scheduler.DAGScheduler.runJob(DAGScheduler.scala:952)\n\tat org.apache.spark.SparkContext.runJob(SparkContext.scala:2228)\n\tat org.apache.spark.SparkContext.runJob(SparkContext.scala:2249)\n\tat org.apache.spark.SparkContext.runJob(SparkContext.scala:2268)\n\tat org.apache.spark.SparkContext.runJob(SparkContext.scala:2293)\n\tat org.apache.spark.rdd.RDD.$anonfun$collect$1(RDD.scala:1021)\n\tat org.apache.spark.rdd.RDDOperationScope$.withScope(RDDOperationScope.scala:151)\n\tat org.apache.spark.rdd.RDDOperationScope$.withScope(RDDOperationScope.scala:112)\n\tat org.apache.spark.rdd.RDD.withScope(RDD.scala:406)\n\tat org.apache.spark.rdd.RDD.collect(RDD.scala:1020)\n\tat org.apache.spark.api.python.PythonRDD$.collectAndServe(PythonRDD.scala:180)\n\tat org.apache.spark.api.python.PythonRDD.collectAndServe(PythonRDD.scala)\n\tat java.base/jdk.internal.reflect.NativeMethodAccessorImpl.invoke0(Native Method)\n\tat java.base/jdk.internal.reflect.NativeMethodAccessorImpl.invoke(NativeMethodAccessorImpl.java:62)\n\tat java.base/jdk.internal.reflect.DelegatingMethodAccessorImpl.invoke(DelegatingMethodAccessorImpl.java:43)\n\tat java.base/java.lang.reflect.Method.invoke(Method.java:566)\n\tat py4j.reflection.MethodInvoker.invoke(MethodInvoker.java:244)\n\tat py4j.reflection.ReflectionEngine.invoke(ReflectionEngine.java:357)\n\tat py4j.Gateway.invoke(Gateway.java:282)\n\tat py4j.commands.AbstractCommand.invokeMethod(AbstractCommand.java:132)\n\tat py4j.commands.CallCommand.execute(CallCommand.java:79)\n\tat py4j.ClientServerConnection.waitForCommands(ClientServerConnection.java:182)\n\tat py4j.ClientServerConnection.run(ClientServerConnection.java:106)\n\tat java.base/java.lang.Thread.run(Thread.java:829)\nCaused by: org.apache.spark.api.python.PythonException: Traceback (most recent call last):\n  File \"/cvmfs/sft-nightlies.cern.ch/lcg/nightlies/devswan/Mon/spark/3.3.0-cern1/x86_64-centos7-gcc11-opt/python/lib/pyspark.zip/pyspark/worker.py\", line 686, in main\n    process()\n  File \"/cvmfs/sft-nightlies.cern.ch/lcg/nightlies/devswan/Mon/spark/3.3.0-cern1/x86_64-centos7-gcc11-opt/python/lib/pyspark.zip/pyspark/worker.py\", line 676, in process\n    out_iter = func(split_index, iterator)\n  File \"/cvmfs/sft-nightlies.cern.ch/lcg/views/devswan/Mon/x86_64-centos7-gcc11-opt/python/pyspark/rdd.py\", line 3472, in pipeline_func\n    return func(split, prev_func(split, iterator))\n  File \"/cvmfs/sft-nightlies.cern.ch/lcg/views/devswan/Mon/x86_64-centos7-gcc11-opt/python/pyspark/rdd.py\", line 3472, in pipeline_func\n    return func(split, prev_func(split, iterator))\n  File \"/cvmfs/sft-nightlies.cern.ch/lcg/views/devswan/Mon/x86_64-centos7-gcc11-opt/python/pyspark/rdd.py\", line 540, in func\n    return f(iterator)\n  File \"/cvmfs/sft-nightlies.cern.ch/lcg/views/devswan/Mon/x86_64-centos7-gcc11-opt/python/pyspark/rdd.py\", line 2554, in combineLocally\n    merger.mergeValues(iterator)\n  File \"/cvmfs/sft-nightlies.cern.ch/lcg/nightlies/devswan/Mon/spark/3.3.0-cern1/x86_64-centos7-gcc11-opt/python/lib/pyspark.zip/pyspark/shuffle.py\", line 253, in mergeValues\n    for k, v in iterator:\n  File \"/cvmfs/sft-nightlies.cern.ch/lcg/views/devswan/Mon/x86_64-centos7-gcc11-opt/python/pyspark/rdd.py\", line 1430, in mapPartition\n    for obj in iterator:\n  File \"/cvmfs/sft-nightlies.cern.ch/lcg/views/devswan/Mon/x86_64-centos7-gcc11-opt/python/pyspark/rdd.py\", line 1416, in aggregatePartition\n    for obj in iterator:\n  File \"/cvmfs/sft-nightlies.cern.ch/lcg/nightlies/devswan/Mon/spark/3.3.0-cern1/x86_64-centos7-gcc11-opt/python/lib/pyspark.zip/pyspark/util.py\", line 81, in wrapper\n    return f(*args, **kwargs)\n  File \"/cvmfs/sft-nightlies.cern.ch/lcg/views/devswan/Mon/x86_64-centos7-gcc11-opt/lib/DistRDF/Backends/Spark/Backend.py\", line 128, in spark_mapper\n    return mapper(current_range)\n  File \"/cvmfs/sft-nightlies.cern.ch/lcg/views/devswan/Mon/x86_64-centos7-gcc11-opt/lib/DistRDF/Backends/Base.py\", line 107, in distrdf_mapper\n    rdf_plus = build_rdf_from_range(current_range)\n  File \"/cvmfs/sft-nightlies.cern.ch/lcg/views/devswan/Mon/x86_64-centos7-gcc11-opt/lib/DistRDF/HeadNode.py\", line 510, in build_rdf_from_range\n    chain, entries_in_trees = build_chain_from_range(current_range)\n  File \"/cvmfs/sft-nightlies.cern.ch/lcg/views/devswan/Mon/x86_64-centos7-gcc11-opt/lib/DistRDF/HeadNode.py\", line 470, in build_chain_from_range\n    clustered_range, entries_in_trees = Ranges.get_clustered_range_from_percs(current_range)\n  File \"/cvmfs/sft-nightlies.cern.ch/lcg/views/devswan/Mon/x86_64-centos7-gcc11-opt/lib/DistRDF/Ranges.py\", line 295, in get_clustered_range_from_percs\n    clusters, entries = get_clusters_and_entries(treename, filename)\n  File \"/cvmfs/sft-nightlies.cern.ch/lcg/views/devswan/Mon/x86_64-centos7-gcc11-opt/lib/DistRDF/Ranges.py\", line 170, in get_clusters_and_entries\n    tfile = ROOT.TFile.Open(filename)\n  File \"/cvmfs/sft-nightlies.cern.ch/lcg/views/devswan/Mon/x86_64-centos7-gcc11-opt/lib/ROOT/_pythonization/_tfile.py\", line 103, in _TFileOpen\n    raise OSError('Failed to open file {}'.format(str(args[0])))\nOSError: Failed to open file /eos/user/n/ntoikka/data/20UL18JMENano_106X_upgrade2018_realistic_v16_L1v1-v1/30000/EAB5816F-5C3D-5247-AB9F-94B8BECDEF08.root\n\n\tat org.apache.spark.api.python.BasePythonRunner$ReaderIterator.handlePythonException(PythonRunner.scala:559)\n\tat org.apache.spark.api.python.PythonRunner$$anon$3.read(PythonRunner.scala:765)\n\tat org.apache.spark.api.python.PythonRunner$$anon$3.read(PythonRunner.scala:747)\n\tat org.apache.spark.api.python.BasePythonRunner$ReaderIterator.hasNext(PythonRunner.scala:512)\n\tat org.apache.spark.InterruptibleIterator.hasNext(InterruptibleIterator.scala:37)\n\tat scala.collection.Iterator$GroupedIterator.fill(Iterator.scala:1211)\n\tat scala.collection.Iterator$GroupedIterator.hasNext(Iterator.scala:1217)\n\tat scala.collection.Iterator$$anon$10.hasNext(Iterator.scala:460)\n\tat org.apache.spark.shuffle.sort.BypassMergeSortShuffleWriter.write(BypassMergeSortShuffleWriter.java:140)\n\tat org.apache.spark.shuffle.ShuffleWriteProcessor.write(ShuffleWriteProcessor.scala:59)\n\tat org.apache.spark.scheduler.ShuffleMapTask.runTask(ShuffleMapTask.scala:99)\n\tat org.apache.spark.scheduler.ShuffleMapTask.runTask(ShuffleMapTask.scala:52)\n\tat org.apache.spark.scheduler.Task.run(Task.scala:136)\n\tat org.apache.spark.executor.Executor$TaskRunner.$anonfun$run$3(Executor.scala:548)\n\tat org.apache.spark.util.Utils$.tryWithSafeFinally(Utils.scala:1504)\n\tat org.apache.spark.executor.Executor$TaskRunner.run(Executor.scala:551)\n\tat java.base/java.util.concurrent.ThreadPoolExecutor.runWorker(ThreadPoolExecutor.java:1128)\n\tat java.base/java.util.concurrent.ThreadPoolExecutor$Worker.run(ThreadPoolExecutor.java:628)\n\t... 1 more\n",
     "output_type": "error",
     "traceback": [
      "\u001b[0;31m---------------------------------------------------------------------------\u001b[0m",
      "\u001b[0;31mPy4JJavaError\u001b[0m                             Traceback (most recent call last)",
      "\u001b[0;32m/tmp/ipykernel_3866/2773847095.py\u001b[0m in \u001b[0;36m<module>\u001b[0;34m\u001b[0m\n\u001b[1;32m      3\u001b[0m \u001b[0mdf\u001b[0m \u001b[0;34m=\u001b[0m \u001b[0mRDataFrame\u001b[0m\u001b[0;34m(\u001b[0m\u001b[0mchain\u001b[0m\u001b[0;34m,\u001b[0m \u001b[0msparkcontext\u001b[0m\u001b[0;34m=\u001b[0m\u001b[0msc\u001b[0m\u001b[0;34m)\u001b[0m\u001b[0;34m\u001b[0m\u001b[0;34m\u001b[0m\u001b[0m\n\u001b[1;32m      4\u001b[0m \u001b[0mdf\u001b[0m\u001b[0;34m.\u001b[0m\u001b[0m_headnode\u001b[0m\u001b[0;34m.\u001b[0m\u001b[0mbackend\u001b[0m\u001b[0;34m.\u001b[0m\u001b[0mdistribute_headers\u001b[0m\u001b[0;34m(\u001b[0m\u001b[0;34m\"../macros/Nhelpers.hpp\"\u001b[0m\u001b[0;34m)\u001b[0m\u001b[0;34m\u001b[0m\u001b[0;34m\u001b[0m\u001b[0m\n\u001b[0;32m----> 5\u001b[0;31m \u001b[0mprint\u001b[0m\u001b[0;34m(\u001b[0m\u001b[0mdf\u001b[0m\u001b[0;34m.\u001b[0m\u001b[0mCount\u001b[0m\u001b[0;34m(\u001b[0m\u001b[0;34m)\u001b[0m\u001b[0;34m.\u001b[0m\u001b[0mGetValue\u001b[0m\u001b[0;34m(\u001b[0m\u001b[0;34m)\u001b[0m\u001b[0;34m)\u001b[0m\u001b[0;34m\u001b[0m\u001b[0;34m\u001b[0m\u001b[0m\n\u001b[0m",
      "\u001b[0;32m/cvmfs/sft-nightlies.cern.ch/lcg/views/devswan/Mon/x86_64-centos7-gcc11-opt/lib/DistRDF/Proxy.py\u001b[0m in \u001b[0;36mGetValue\u001b[0;34m(self)\u001b[0m\n\u001b[1;32m    186\u001b[0m         \u001b[0mreturning\u001b[0m \u001b[0mthe\u001b[0m \u001b[0mvalue\u001b[0m\u001b[0;34m.\u001b[0m\u001b[0;34m\u001b[0m\u001b[0;34m\u001b[0m\u001b[0m\n\u001b[1;32m    187\u001b[0m         \"\"\"\n\u001b[0;32m--> 188\u001b[0;31m         \u001b[0mexecute_graph\u001b[0m\u001b[0;34m(\u001b[0m\u001b[0mself\u001b[0m\u001b[0;34m.\u001b[0m\u001b[0mproxied_node\u001b[0m\u001b[0;34m)\u001b[0m\u001b[0;34m\u001b[0m\u001b[0;34m\u001b[0m\u001b[0m\n\u001b[0m\u001b[1;32m    189\u001b[0m         \u001b[0;32mreturn\u001b[0m \u001b[0mself\u001b[0m\u001b[0;34m.\u001b[0m\u001b[0mproxied_node\u001b[0m\u001b[0;34m.\u001b[0m\u001b[0mvalue\u001b[0m\u001b[0;34m\u001b[0m\u001b[0;34m\u001b[0m\u001b[0m\n\u001b[1;32m    190\u001b[0m \u001b[0;34m\u001b[0m\u001b[0m\n",
      "\u001b[0;32m/cvmfs/sft-nightlies.cern.ch/lcg/views/devswan/Mon/x86_64-centos7-gcc11-opt/lib/DistRDF/Proxy.py\u001b[0m in \u001b[0;36mexecute_graph\u001b[0;34m(node)\u001b[0m\n\u001b[1;32m     53\u001b[0m             \u001b[0;31m# All the information needed to reconstruct the computation graph on\u001b[0m\u001b[0;34m\u001b[0m\u001b[0;34m\u001b[0m\u001b[0m\n\u001b[1;32m     54\u001b[0m             \u001b[0;31m# the workers is contained in the head node\u001b[0m\u001b[0;34m\u001b[0m\u001b[0;34m\u001b[0m\u001b[0m\n\u001b[0;32m---> 55\u001b[0;31m             \u001b[0mnode\u001b[0m\u001b[0;34m.\u001b[0m\u001b[0mget_head\u001b[0m\u001b[0;34m(\u001b[0m\u001b[0;34m)\u001b[0m\u001b[0;34m.\u001b[0m\u001b[0mexecute_graph\u001b[0m\u001b[0;34m(\u001b[0m\u001b[0;34m)\u001b[0m\u001b[0;34m\u001b[0m\u001b[0;34m\u001b[0m\u001b[0m\n\u001b[0m\u001b[1;32m     56\u001b[0m \u001b[0;34m\u001b[0m\u001b[0m\n\u001b[1;32m     57\u001b[0m \u001b[0;34m\u001b[0m\u001b[0m\n",
      "\u001b[0;32m/cvmfs/sft-nightlies.cern.ch/lcg/views/devswan/Mon/x86_64-centos7-gcc11-opt/lib/DistRDF/HeadNode.py\u001b[0m in \u001b[0;36mexecute_graph\u001b[0;34m(self)\u001b[0m\n\u001b[1;32m    171\u001b[0m         \u001b[0;31m# Execute graph distributedly and return the aggregated results from all\u001b[0m\u001b[0;34m\u001b[0m\u001b[0;34m\u001b[0m\u001b[0m\n\u001b[1;32m    172\u001b[0m         \u001b[0;31m# tasks\u001b[0m\u001b[0;34m\u001b[0m\u001b[0;34m\u001b[0m\u001b[0m\n\u001b[0;32m--> 173\u001b[0;31m         \u001b[0mreturned_values\u001b[0m \u001b[0;34m=\u001b[0m \u001b[0mself\u001b[0m\u001b[0;34m.\u001b[0m\u001b[0mbackend\u001b[0m\u001b[0;34m.\u001b[0m\u001b[0mProcessAndMerge\u001b[0m\u001b[0;34m(\u001b[0m\u001b[0mself\u001b[0m\u001b[0;34m.\u001b[0m\u001b[0m_build_ranges\u001b[0m\u001b[0;34m(\u001b[0m\u001b[0;34m)\u001b[0m\u001b[0;34m,\u001b[0m \u001b[0mmapper\u001b[0m\u001b[0;34m,\u001b[0m \u001b[0mdistrdf_reducer\u001b[0m\u001b[0;34m)\u001b[0m\u001b[0;34m\u001b[0m\u001b[0;34m\u001b[0m\u001b[0m\n\u001b[0m\u001b[1;32m    174\u001b[0m         \u001b[0;31m# Perform any extra checks that may be needed according to the\u001b[0m\u001b[0;34m\u001b[0m\u001b[0;34m\u001b[0m\u001b[0m\n\u001b[1;32m    175\u001b[0m         \u001b[0;31m# type of the head node\u001b[0m\u001b[0;34m\u001b[0m\u001b[0;34m\u001b[0m\u001b[0m\n",
      "\u001b[0;32m/cvmfs/sft-nightlies.cern.ch/lcg/views/devswan/Mon/x86_64-centos7-gcc11-opt/lib/DistRDF/Backends/Spark/Backend.py\u001b[0m in \u001b[0;36mProcessAndMerge\u001b[0;34m(self, ranges, mapper, reducer)\u001b[0m\n\u001b[1;32m    132\u001b[0m \u001b[0;34m\u001b[0m\u001b[0m\n\u001b[1;32m    133\u001b[0m         \u001b[0;31m# Map-Reduce using Spark\u001b[0m\u001b[0;34m\u001b[0m\u001b[0;34m\u001b[0m\u001b[0m\n\u001b[0;32m--> 134\u001b[0;31m         \u001b[0;32mreturn\u001b[0m \u001b[0mparallel_collection\u001b[0m\u001b[0;34m.\u001b[0m\u001b[0mmap\u001b[0m\u001b[0;34m(\u001b[0m\u001b[0mspark_mapper\u001b[0m\u001b[0;34m)\u001b[0m\u001b[0;34m.\u001b[0m\u001b[0mtreeReduce\u001b[0m\u001b[0;34m(\u001b[0m\u001b[0mreducer\u001b[0m\u001b[0;34m)\u001b[0m\u001b[0;34m\u001b[0m\u001b[0;34m\u001b[0m\u001b[0m\n\u001b[0m\u001b[1;32m    135\u001b[0m \u001b[0;34m\u001b[0m\u001b[0m\n\u001b[1;32m    136\u001b[0m     \u001b[0;32mdef\u001b[0m \u001b[0mdistribute_unique_paths\u001b[0m\u001b[0;34m(\u001b[0m\u001b[0mself\u001b[0m\u001b[0;34m,\u001b[0m \u001b[0mpaths\u001b[0m\u001b[0;34m)\u001b[0m\u001b[0;34m:\u001b[0m\u001b[0;34m\u001b[0m\u001b[0;34m\u001b[0m\u001b[0m\n",
      "\u001b[0;32m/cvmfs/sft-nightlies.cern.ch/lcg/views/devswan/Mon/x86_64-centos7-gcc11-opt/python/pyspark/rdd.py\u001b[0m in \u001b[0;36mtreeReduce\u001b[0;34m(self, f, depth)\u001b[0m\n\u001b[1;32m   1295\u001b[0m                 \u001b[0;32mreturn\u001b[0m \u001b[0mf\u001b[0m\u001b[0;34m(\u001b[0m\u001b[0mx\u001b[0m\u001b[0;34m[\u001b[0m\u001b[0;36m0\u001b[0m\u001b[0;34m]\u001b[0m\u001b[0;34m,\u001b[0m \u001b[0my\u001b[0m\u001b[0;34m[\u001b[0m\u001b[0;36m0\u001b[0m\u001b[0;34m]\u001b[0m\u001b[0;34m)\u001b[0m\u001b[0;34m,\u001b[0m \u001b[0;32mFalse\u001b[0m\u001b[0;34m\u001b[0m\u001b[0;34m\u001b[0m\u001b[0m\n\u001b[1;32m   1296\u001b[0m \u001b[0;34m\u001b[0m\u001b[0m\n\u001b[0;32m-> 1297\u001b[0;31m         \u001b[0mreduced\u001b[0m \u001b[0;34m=\u001b[0m \u001b[0mself\u001b[0m\u001b[0;34m.\u001b[0m\u001b[0mmap\u001b[0m\u001b[0;34m(\u001b[0m\u001b[0;32mlambda\u001b[0m \u001b[0mx\u001b[0m\u001b[0;34m:\u001b[0m \u001b[0;34m(\u001b[0m\u001b[0mx\u001b[0m\u001b[0;34m,\u001b[0m \u001b[0;32mFalse\u001b[0m\u001b[0;34m)\u001b[0m\u001b[0;34m)\u001b[0m\u001b[0;34m.\u001b[0m\u001b[0mtreeAggregate\u001b[0m\u001b[0;34m(\u001b[0m\u001b[0mzeroValue\u001b[0m\u001b[0;34m,\u001b[0m \u001b[0mop\u001b[0m\u001b[0;34m,\u001b[0m \u001b[0mop\u001b[0m\u001b[0;34m,\u001b[0m \u001b[0mdepth\u001b[0m\u001b[0;34m)\u001b[0m\u001b[0;34m\u001b[0m\u001b[0;34m\u001b[0m\u001b[0m\n\u001b[0m\u001b[1;32m   1298\u001b[0m         \u001b[0;32mif\u001b[0m \u001b[0mreduced\u001b[0m\u001b[0;34m[\u001b[0m\u001b[0;36m1\u001b[0m\u001b[0;34m]\u001b[0m\u001b[0;34m:\u001b[0m\u001b[0;34m\u001b[0m\u001b[0;34m\u001b[0m\u001b[0m\n\u001b[1;32m   1299\u001b[0m             \u001b[0;32mraise\u001b[0m \u001b[0mValueError\u001b[0m\u001b[0;34m(\u001b[0m\u001b[0;34m\"Cannot reduce empty RDD.\"\u001b[0m\u001b[0;34m)\u001b[0m\u001b[0;34m\u001b[0m\u001b[0;34m\u001b[0m\u001b[0m\n",
      "\u001b[0;32m/cvmfs/sft-nightlies.cern.ch/lcg/views/devswan/Mon/x86_64-centos7-gcc11-opt/python/pyspark/rdd.py\u001b[0m in \u001b[0;36mtreeAggregate\u001b[0;34m(self, zeroValue, seqOp, combOp, depth)\u001b[0m\n\u001b[1;32m   1437\u001b[0m             )\n\u001b[1;32m   1438\u001b[0m \u001b[0;34m\u001b[0m\u001b[0m\n\u001b[0;32m-> 1439\u001b[0;31m         \u001b[0;32mreturn\u001b[0m \u001b[0mpartiallyAggregated\u001b[0m\u001b[0;34m.\u001b[0m\u001b[0mreduce\u001b[0m\u001b[0;34m(\u001b[0m\u001b[0mcombOp\u001b[0m\u001b[0;34m)\u001b[0m\u001b[0;34m\u001b[0m\u001b[0;34m\u001b[0m\u001b[0m\n\u001b[0m\u001b[1;32m   1440\u001b[0m \u001b[0;34m\u001b[0m\u001b[0m\n\u001b[1;32m   1441\u001b[0m     \u001b[0;34m@\u001b[0m\u001b[0moverload\u001b[0m\u001b[0;34m\u001b[0m\u001b[0;34m\u001b[0m\u001b[0m\n",
      "\u001b[0;32m/cvmfs/sft-nightlies.cern.ch/lcg/views/devswan/Mon/x86_64-centos7-gcc11-opt/python/pyspark/rdd.py\u001b[0m in \u001b[0;36mreduce\u001b[0;34m(self, f)\u001b[0m\n\u001b[1;32m   1248\u001b[0m             \u001b[0;32myield\u001b[0m \u001b[0mreduce\u001b[0m\u001b[0;34m(\u001b[0m\u001b[0mf\u001b[0m\u001b[0;34m,\u001b[0m \u001b[0miterator\u001b[0m\u001b[0;34m,\u001b[0m \u001b[0minitial\u001b[0m\u001b[0;34m)\u001b[0m\u001b[0;34m\u001b[0m\u001b[0;34m\u001b[0m\u001b[0m\n\u001b[1;32m   1249\u001b[0m \u001b[0;34m\u001b[0m\u001b[0m\n\u001b[0;32m-> 1250\u001b[0;31m         \u001b[0mvals\u001b[0m \u001b[0;34m=\u001b[0m \u001b[0mself\u001b[0m\u001b[0;34m.\u001b[0m\u001b[0mmapPartitions\u001b[0m\u001b[0;34m(\u001b[0m\u001b[0mfunc\u001b[0m\u001b[0;34m)\u001b[0m\u001b[0;34m.\u001b[0m\u001b[0mcollect\u001b[0m\u001b[0;34m(\u001b[0m\u001b[0;34m)\u001b[0m\u001b[0;34m\u001b[0m\u001b[0;34m\u001b[0m\u001b[0m\n\u001b[0m\u001b[1;32m   1251\u001b[0m         \u001b[0;32mif\u001b[0m \u001b[0mvals\u001b[0m\u001b[0;34m:\u001b[0m\u001b[0;34m\u001b[0m\u001b[0;34m\u001b[0m\u001b[0m\n\u001b[1;32m   1252\u001b[0m             \u001b[0;32mreturn\u001b[0m \u001b[0mreduce\u001b[0m\u001b[0;34m(\u001b[0m\u001b[0mf\u001b[0m\u001b[0;34m,\u001b[0m \u001b[0mvals\u001b[0m\u001b[0;34m)\u001b[0m\u001b[0;34m\u001b[0m\u001b[0;34m\u001b[0m\u001b[0m\n",
      "\u001b[0;32m/cvmfs/sft-nightlies.cern.ch/lcg/views/devswan/Mon/x86_64-centos7-gcc11-opt/python/pyspark/rdd.py\u001b[0m in \u001b[0;36mcollect\u001b[0;34m(self)\u001b[0m\n\u001b[1;32m   1195\u001b[0m         \u001b[0;32mwith\u001b[0m \u001b[0mSCCallSiteSync\u001b[0m\u001b[0;34m(\u001b[0m\u001b[0mself\u001b[0m\u001b[0;34m.\u001b[0m\u001b[0mcontext\u001b[0m\u001b[0;34m)\u001b[0m\u001b[0;34m:\u001b[0m\u001b[0;34m\u001b[0m\u001b[0;34m\u001b[0m\u001b[0m\n\u001b[1;32m   1196\u001b[0m             \u001b[0;32massert\u001b[0m \u001b[0mself\u001b[0m\u001b[0;34m.\u001b[0m\u001b[0mctx\u001b[0m\u001b[0;34m.\u001b[0m\u001b[0m_jvm\u001b[0m \u001b[0;32mis\u001b[0m \u001b[0;32mnot\u001b[0m \u001b[0;32mNone\u001b[0m\u001b[0;34m\u001b[0m\u001b[0;34m\u001b[0m\u001b[0m\n\u001b[0;32m-> 1197\u001b[0;31m             \u001b[0msock_info\u001b[0m \u001b[0;34m=\u001b[0m \u001b[0mself\u001b[0m\u001b[0;34m.\u001b[0m\u001b[0mctx\u001b[0m\u001b[0;34m.\u001b[0m\u001b[0m_jvm\u001b[0m\u001b[0;34m.\u001b[0m\u001b[0mPythonRDD\u001b[0m\u001b[0;34m.\u001b[0m\u001b[0mcollectAndServe\u001b[0m\u001b[0;34m(\u001b[0m\u001b[0mself\u001b[0m\u001b[0;34m.\u001b[0m\u001b[0m_jrdd\u001b[0m\u001b[0;34m.\u001b[0m\u001b[0mrdd\u001b[0m\u001b[0;34m(\u001b[0m\u001b[0;34m)\u001b[0m\u001b[0;34m)\u001b[0m\u001b[0;34m\u001b[0m\u001b[0;34m\u001b[0m\u001b[0m\n\u001b[0m\u001b[1;32m   1198\u001b[0m         \u001b[0;32mreturn\u001b[0m \u001b[0mlist\u001b[0m\u001b[0;34m(\u001b[0m\u001b[0m_load_from_socket\u001b[0m\u001b[0;34m(\u001b[0m\u001b[0msock_info\u001b[0m\u001b[0;34m,\u001b[0m \u001b[0mself\u001b[0m\u001b[0;34m.\u001b[0m\u001b[0m_jrdd_deserializer\u001b[0m\u001b[0;34m)\u001b[0m\u001b[0;34m)\u001b[0m\u001b[0;34m\u001b[0m\u001b[0;34m\u001b[0m\u001b[0m\n\u001b[1;32m   1199\u001b[0m \u001b[0;34m\u001b[0m\u001b[0m\n",
      "\u001b[0;32m/cvmfs/sft-nightlies.cern.ch/lcg/views/devswan/Mon/x86_64-centos7-gcc11-opt/lib/python3.9/site-packages/py4j/java_gateway.py\u001b[0m in \u001b[0;36m__call__\u001b[0;34m(self, *args)\u001b[0m\n\u001b[1;32m   1319\u001b[0m \u001b[0;34m\u001b[0m\u001b[0m\n\u001b[1;32m   1320\u001b[0m         \u001b[0manswer\u001b[0m \u001b[0;34m=\u001b[0m \u001b[0mself\u001b[0m\u001b[0;34m.\u001b[0m\u001b[0mgateway_client\u001b[0m\u001b[0;34m.\u001b[0m\u001b[0msend_command\u001b[0m\u001b[0;34m(\u001b[0m\u001b[0mcommand\u001b[0m\u001b[0;34m)\u001b[0m\u001b[0;34m\u001b[0m\u001b[0;34m\u001b[0m\u001b[0m\n\u001b[0;32m-> 1321\u001b[0;31m         return_value = get_return_value(\n\u001b[0m\u001b[1;32m   1322\u001b[0m             answer, self.gateway_client, self.target_id, self.name)\n\u001b[1;32m   1323\u001b[0m \u001b[0;34m\u001b[0m\u001b[0m\n",
      "\u001b[0;32m/cvmfs/sft-nightlies.cern.ch/lcg/views/devswan/Mon/x86_64-centos7-gcc11-opt/python/pyspark/sql/utils.py\u001b[0m in \u001b[0;36mdeco\u001b[0;34m(*a, **kw)\u001b[0m\n\u001b[1;32m    188\u001b[0m     \u001b[0;32mdef\u001b[0m \u001b[0mdeco\u001b[0m\u001b[0;34m(\u001b[0m\u001b[0;34m*\u001b[0m\u001b[0ma\u001b[0m\u001b[0;34m:\u001b[0m \u001b[0mAny\u001b[0m\u001b[0;34m,\u001b[0m \u001b[0;34m**\u001b[0m\u001b[0mkw\u001b[0m\u001b[0;34m:\u001b[0m \u001b[0mAny\u001b[0m\u001b[0;34m)\u001b[0m \u001b[0;34m->\u001b[0m \u001b[0mAny\u001b[0m\u001b[0;34m:\u001b[0m\u001b[0;34m\u001b[0m\u001b[0;34m\u001b[0m\u001b[0m\n\u001b[1;32m    189\u001b[0m         \u001b[0;32mtry\u001b[0m\u001b[0;34m:\u001b[0m\u001b[0;34m\u001b[0m\u001b[0;34m\u001b[0m\u001b[0m\n\u001b[0;32m--> 190\u001b[0;31m             \u001b[0;32mreturn\u001b[0m \u001b[0mf\u001b[0m\u001b[0;34m(\u001b[0m\u001b[0;34m*\u001b[0m\u001b[0ma\u001b[0m\u001b[0;34m,\u001b[0m \u001b[0;34m**\u001b[0m\u001b[0mkw\u001b[0m\u001b[0;34m)\u001b[0m\u001b[0;34m\u001b[0m\u001b[0;34m\u001b[0m\u001b[0m\n\u001b[0m\u001b[1;32m    191\u001b[0m         \u001b[0;32mexcept\u001b[0m \u001b[0mPy4JJavaError\u001b[0m \u001b[0;32mas\u001b[0m \u001b[0me\u001b[0m\u001b[0;34m:\u001b[0m\u001b[0;34m\u001b[0m\u001b[0;34m\u001b[0m\u001b[0m\n\u001b[1;32m    192\u001b[0m             \u001b[0mconverted\u001b[0m \u001b[0;34m=\u001b[0m \u001b[0mconvert_exception\u001b[0m\u001b[0;34m(\u001b[0m\u001b[0me\u001b[0m\u001b[0;34m.\u001b[0m\u001b[0mjava_exception\u001b[0m\u001b[0;34m)\u001b[0m\u001b[0;34m\u001b[0m\u001b[0;34m\u001b[0m\u001b[0m\n",
      "\u001b[0;32m/cvmfs/sft-nightlies.cern.ch/lcg/views/devswan/Mon/x86_64-centos7-gcc11-opt/lib/python3.9/site-packages/py4j/protocol.py\u001b[0m in \u001b[0;36mget_return_value\u001b[0;34m(answer, gateway_client, target_id, name)\u001b[0m\n\u001b[1;32m    324\u001b[0m             \u001b[0mvalue\u001b[0m \u001b[0;34m=\u001b[0m \u001b[0mOUTPUT_CONVERTER\u001b[0m\u001b[0;34m[\u001b[0m\u001b[0mtype\u001b[0m\u001b[0;34m]\u001b[0m\u001b[0;34m(\u001b[0m\u001b[0manswer\u001b[0m\u001b[0;34m[\u001b[0m\u001b[0;36m2\u001b[0m\u001b[0;34m:\u001b[0m\u001b[0;34m]\u001b[0m\u001b[0;34m,\u001b[0m \u001b[0mgateway_client\u001b[0m\u001b[0;34m)\u001b[0m\u001b[0;34m\u001b[0m\u001b[0;34m\u001b[0m\u001b[0m\n\u001b[1;32m    325\u001b[0m             \u001b[0;32mif\u001b[0m \u001b[0manswer\u001b[0m\u001b[0;34m[\u001b[0m\u001b[0;36m1\u001b[0m\u001b[0;34m]\u001b[0m \u001b[0;34m==\u001b[0m \u001b[0mREFERENCE_TYPE\u001b[0m\u001b[0;34m:\u001b[0m\u001b[0;34m\u001b[0m\u001b[0;34m\u001b[0m\u001b[0m\n\u001b[0;32m--> 326\u001b[0;31m                 raise Py4JJavaError(\n\u001b[0m\u001b[1;32m    327\u001b[0m                     \u001b[0;34m\"An error occurred while calling {0}{1}{2}.\\n\"\u001b[0m\u001b[0;34m.\u001b[0m\u001b[0;34m\u001b[0m\u001b[0;34m\u001b[0m\u001b[0m\n\u001b[1;32m    328\u001b[0m                     format(target_id, \".\", name), value)\n",
      "\u001b[0;31mPy4JJavaError\u001b[0m: An error occurred while calling z:org.apache.spark.api.python.PythonRDD.collectAndServe.\n: org.apache.spark.SparkException: Job aborted due to stage failure: Task 7 in stage 0.0 failed 4 times, most recent failure: Lost task 7.3 in stage 0.0 (TID 28) (10.100.54.187 executor 1): org.apache.spark.api.python.PythonException: Traceback (most recent call last):\n  File \"/cvmfs/sft-nightlies.cern.ch/lcg/nightlies/devswan/Mon/spark/3.3.0-cern1/x86_64-centos7-gcc11-opt/python/lib/pyspark.zip/pyspark/worker.py\", line 686, in main\n    process()\n  File \"/cvmfs/sft-nightlies.cern.ch/lcg/nightlies/devswan/Mon/spark/3.3.0-cern1/x86_64-centos7-gcc11-opt/python/lib/pyspark.zip/pyspark/worker.py\", line 676, in process\n    out_iter = func(split_index, iterator)\n  File \"/cvmfs/sft-nightlies.cern.ch/lcg/views/devswan/Mon/x86_64-centos7-gcc11-opt/python/pyspark/rdd.py\", line 3472, in pipeline_func\n    return func(split, prev_func(split, iterator))\n  File \"/cvmfs/sft-nightlies.cern.ch/lcg/views/devswan/Mon/x86_64-centos7-gcc11-opt/python/pyspark/rdd.py\", line 3472, in pipeline_func\n    return func(split, prev_func(split, iterator))\n  File \"/cvmfs/sft-nightlies.cern.ch/lcg/views/devswan/Mon/x86_64-centos7-gcc11-opt/python/pyspark/rdd.py\", line 540, in func\n    return f(iterator)\n  File \"/cvmfs/sft-nightlies.cern.ch/lcg/views/devswan/Mon/x86_64-centos7-gcc11-opt/python/pyspark/rdd.py\", line 2554, in combineLocally\n    merger.mergeValues(iterator)\n  File \"/cvmfs/sft-nightlies.cern.ch/lcg/nightlies/devswan/Mon/spark/3.3.0-cern1/x86_64-centos7-gcc11-opt/python/lib/pyspark.zip/pyspark/shuffle.py\", line 253, in mergeValues\n    for k, v in iterator:\n  File \"/cvmfs/sft-nightlies.cern.ch/lcg/views/devswan/Mon/x86_64-centos7-gcc11-opt/python/pyspark/rdd.py\", line 1430, in mapPartition\n    for obj in iterator:\n  File \"/cvmfs/sft-nightlies.cern.ch/lcg/views/devswan/Mon/x86_64-centos7-gcc11-opt/python/pyspark/rdd.py\", line 1416, in aggregatePartition\n    for obj in iterator:\n  File \"/cvmfs/sft-nightlies.cern.ch/lcg/nightlies/devswan/Mon/spark/3.3.0-cern1/x86_64-centos7-gcc11-opt/python/lib/pyspark.zip/pyspark/util.py\", line 81, in wrapper\n    return f(*args, **kwargs)\n  File \"/cvmfs/sft-nightlies.cern.ch/lcg/views/devswan/Mon/x86_64-centos7-gcc11-opt/lib/DistRDF/Backends/Spark/Backend.py\", line 128, in spark_mapper\n    return mapper(current_range)\n  File \"/cvmfs/sft-nightlies.cern.ch/lcg/views/devswan/Mon/x86_64-centos7-gcc11-opt/lib/DistRDF/Backends/Base.py\", line 107, in distrdf_mapper\n    rdf_plus = build_rdf_from_range(current_range)\n  File \"/cvmfs/sft-nightlies.cern.ch/lcg/views/devswan/Mon/x86_64-centos7-gcc11-opt/lib/DistRDF/HeadNode.py\", line 510, in build_rdf_from_range\n    chain, entries_in_trees = build_chain_from_range(current_range)\n  File \"/cvmfs/sft-nightlies.cern.ch/lcg/views/devswan/Mon/x86_64-centos7-gcc11-opt/lib/DistRDF/HeadNode.py\", line 470, in build_chain_from_range\n    clustered_range, entries_in_trees = Ranges.get_clustered_range_from_percs(current_range)\n  File \"/cvmfs/sft-nightlies.cern.ch/lcg/views/devswan/Mon/x86_64-centos7-gcc11-opt/lib/DistRDF/Ranges.py\", line 295, in get_clustered_range_from_percs\n    clusters, entries = get_clusters_and_entries(treename, filename)\n  File \"/cvmfs/sft-nightlies.cern.ch/lcg/views/devswan/Mon/x86_64-centos7-gcc11-opt/lib/DistRDF/Ranges.py\", line 170, in get_clusters_and_entries\n    tfile = ROOT.TFile.Open(filename)\n  File \"/cvmfs/sft-nightlies.cern.ch/lcg/views/devswan/Mon/x86_64-centos7-gcc11-opt/lib/ROOT/_pythonization/_tfile.py\", line 103, in _TFileOpen\n    raise OSError('Failed to open file {}'.format(str(args[0])))\nOSError: Failed to open file /eos/user/n/ntoikka/data/20UL18JMENano_106X_upgrade2018_realistic_v16_L1v1-v1/30000/EAB5816F-5C3D-5247-AB9F-94B8BECDEF08.root\n\n\tat org.apache.spark.api.python.BasePythonRunner$ReaderIterator.handlePythonException(PythonRunner.scala:559)\n\tat org.apache.spark.api.python.PythonRunner$$anon$3.read(PythonRunner.scala:765)\n\tat org.apache.spark.api.python.PythonRunner$$anon$3.read(PythonRunner.scala:747)\n\tat org.apache.spark.api.python.BasePythonRunner$ReaderIterator.hasNext(PythonRunner.scala:512)\n\tat org.apache.spark.InterruptibleIterator.hasNext(InterruptibleIterator.scala:37)\n\tat scala.collection.Iterator$GroupedIterator.fill(Iterator.scala:1211)\n\tat scala.collection.Iterator$GroupedIterator.hasNext(Iterator.scala:1217)\n\tat scala.collection.Iterator$$anon$10.hasNext(Iterator.scala:460)\n\tat org.apache.spark.shuffle.sort.BypassMergeSortShuffleWriter.write(BypassMergeSortShuffleWriter.java:140)\n\tat org.apache.spark.shuffle.ShuffleWriteProcessor.write(ShuffleWriteProcessor.scala:59)\n\tat org.apache.spark.scheduler.ShuffleMapTask.runTask(ShuffleMapTask.scala:99)\n\tat org.apache.spark.scheduler.ShuffleMapTask.runTask(ShuffleMapTask.scala:52)\n\tat org.apache.spark.scheduler.Task.run(Task.scala:136)\n\tat org.apache.spark.executor.Executor$TaskRunner.$anonfun$run$3(Executor.scala:548)\n\tat org.apache.spark.util.Utils$.tryWithSafeFinally(Utils.scala:1504)\n\tat org.apache.spark.executor.Executor$TaskRunner.run(Executor.scala:551)\n\tat java.base/java.util.concurrent.ThreadPoolExecutor.runWorker(ThreadPoolExecutor.java:1128)\n\tat java.base/java.util.concurrent.ThreadPoolExecutor$Worker.run(ThreadPoolExecutor.java:628)\n\tat java.base/java.lang.Thread.run(Thread.java:829)\n\nDriver stacktrace:\n\tat org.apache.spark.scheduler.DAGScheduler.failJobAndIndependentStages(DAGScheduler.scala:2672)\n\tat org.apache.spark.scheduler.DAGScheduler.$anonfun$abortStage$2(DAGScheduler.scala:2608)\n\tat org.apache.spark.scheduler.DAGScheduler.$anonfun$abortStage$2$adapted(DAGScheduler.scala:2607)\n\tat scala.collection.mutable.ResizableArray.foreach(ResizableArray.scala:62)\n\tat scala.collection.mutable.ResizableArray.foreach$(ResizableArray.scala:55)\n\tat scala.collection.mutable.ArrayBuffer.foreach(ArrayBuffer.scala:49)\n\tat org.apache.spark.scheduler.DAGScheduler.abortStage(DAGScheduler.scala:2607)\n\tat org.apache.spark.scheduler.DAGScheduler.$anonfun$handleTaskSetFailed$1(DAGScheduler.scala:1182)\n\tat org.apache.spark.scheduler.DAGScheduler.$anonfun$handleTaskSetFailed$1$adapted(DAGScheduler.scala:1182)\n\tat scala.Option.foreach(Option.scala:407)\n\tat org.apache.spark.scheduler.DAGScheduler.handleTaskSetFailed(DAGScheduler.scala:1182)\n\tat org.apache.spark.scheduler.DAGSchedulerEventProcessLoop.doOnReceive(DAGScheduler.scala:2860)\n\tat org.apache.spark.scheduler.DAGSchedulerEventProcessLoop.onReceive(DAGScheduler.scala:2802)\n\tat org.apache.spark.scheduler.DAGSchedulerEventProcessLoop.onReceive(DAGScheduler.scala:2791)\n\tat org.apache.spark.util.EventLoop$$anon$1.run(EventLoop.scala:49)\n\tat org.apache.spark.scheduler.DAGScheduler.runJob(DAGScheduler.scala:952)\n\tat org.apache.spark.SparkContext.runJob(SparkContext.scala:2228)\n\tat org.apache.spark.SparkContext.runJob(SparkContext.scala:2249)\n\tat org.apache.spark.SparkContext.runJob(SparkContext.scala:2268)\n\tat org.apache.spark.SparkContext.runJob(SparkContext.scala:2293)\n\tat org.apache.spark.rdd.RDD.$anonfun$collect$1(RDD.scala:1021)\n\tat org.apache.spark.rdd.RDDOperationScope$.withScope(RDDOperationScope.scala:151)\n\tat org.apache.spark.rdd.RDDOperationScope$.withScope(RDDOperationScope.scala:112)\n\tat org.apache.spark.rdd.RDD.withScope(RDD.scala:406)\n\tat org.apache.spark.rdd.RDD.collect(RDD.scala:1020)\n\tat org.apache.spark.api.python.PythonRDD$.collectAndServe(PythonRDD.scala:180)\n\tat org.apache.spark.api.python.PythonRDD.collectAndServe(PythonRDD.scala)\n\tat java.base/jdk.internal.reflect.NativeMethodAccessorImpl.invoke0(Native Method)\n\tat java.base/jdk.internal.reflect.NativeMethodAccessorImpl.invoke(NativeMethodAccessorImpl.java:62)\n\tat java.base/jdk.internal.reflect.DelegatingMethodAccessorImpl.invoke(DelegatingMethodAccessorImpl.java:43)\n\tat java.base/java.lang.reflect.Method.invoke(Method.java:566)\n\tat py4j.reflection.MethodInvoker.invoke(MethodInvoker.java:244)\n\tat py4j.reflection.ReflectionEngine.invoke(ReflectionEngine.java:357)\n\tat py4j.Gateway.invoke(Gateway.java:282)\n\tat py4j.commands.AbstractCommand.invokeMethod(AbstractCommand.java:132)\n\tat py4j.commands.CallCommand.execute(CallCommand.java:79)\n\tat py4j.ClientServerConnection.waitForCommands(ClientServerConnection.java:182)\n\tat py4j.ClientServerConnection.run(ClientServerConnection.java:106)\n\tat java.base/java.lang.Thread.run(Thread.java:829)\nCaused by: org.apache.spark.api.python.PythonException: Traceback (most recent call last):\n  File \"/cvmfs/sft-nightlies.cern.ch/lcg/nightlies/devswan/Mon/spark/3.3.0-cern1/x86_64-centos7-gcc11-opt/python/lib/pyspark.zip/pyspark/worker.py\", line 686, in main\n    process()\n  File \"/cvmfs/sft-nightlies.cern.ch/lcg/nightlies/devswan/Mon/spark/3.3.0-cern1/x86_64-centos7-gcc11-opt/python/lib/pyspark.zip/pyspark/worker.py\", line 676, in process\n    out_iter = func(split_index, iterator)\n  File \"/cvmfs/sft-nightlies.cern.ch/lcg/views/devswan/Mon/x86_64-centos7-gcc11-opt/python/pyspark/rdd.py\", line 3472, in pipeline_func\n    return func(split, prev_func(split, iterator))\n  File \"/cvmfs/sft-nightlies.cern.ch/lcg/views/devswan/Mon/x86_64-centos7-gcc11-opt/python/pyspark/rdd.py\", line 3472, in pipeline_func\n    return func(split, prev_func(split, iterator))\n  File \"/cvmfs/sft-nightlies.cern.ch/lcg/views/devswan/Mon/x86_64-centos7-gcc11-opt/python/pyspark/rdd.py\", line 540, in func\n    return f(iterator)\n  File \"/cvmfs/sft-nightlies.cern.ch/lcg/views/devswan/Mon/x86_64-centos7-gcc11-opt/python/pyspark/rdd.py\", line 2554, in combineLocally\n    merger.mergeValues(iterator)\n  File \"/cvmfs/sft-nightlies.cern.ch/lcg/nightlies/devswan/Mon/spark/3.3.0-cern1/x86_64-centos7-gcc11-opt/python/lib/pyspark.zip/pyspark/shuffle.py\", line 253, in mergeValues\n    for k, v in iterator:\n  File \"/cvmfs/sft-nightlies.cern.ch/lcg/views/devswan/Mon/x86_64-centos7-gcc11-opt/python/pyspark/rdd.py\", line 1430, in mapPartition\n    for obj in iterator:\n  File \"/cvmfs/sft-nightlies.cern.ch/lcg/views/devswan/Mon/x86_64-centos7-gcc11-opt/python/pyspark/rdd.py\", line 1416, in aggregatePartition\n    for obj in iterator:\n  File \"/cvmfs/sft-nightlies.cern.ch/lcg/nightlies/devswan/Mon/spark/3.3.0-cern1/x86_64-centos7-gcc11-opt/python/lib/pyspark.zip/pyspark/util.py\", line 81, in wrapper\n    return f(*args, **kwargs)\n  File \"/cvmfs/sft-nightlies.cern.ch/lcg/views/devswan/Mon/x86_64-centos7-gcc11-opt/lib/DistRDF/Backends/Spark/Backend.py\", line 128, in spark_mapper\n    return mapper(current_range)\n  File \"/cvmfs/sft-nightlies.cern.ch/lcg/views/devswan/Mon/x86_64-centos7-gcc11-opt/lib/DistRDF/Backends/Base.py\", line 107, in distrdf_mapper\n    rdf_plus = build_rdf_from_range(current_range)\n  File \"/cvmfs/sft-nightlies.cern.ch/lcg/views/devswan/Mon/x86_64-centos7-gcc11-opt/lib/DistRDF/HeadNode.py\", line 510, in build_rdf_from_range\n    chain, entries_in_trees = build_chain_from_range(current_range)\n  File \"/cvmfs/sft-nightlies.cern.ch/lcg/views/devswan/Mon/x86_64-centos7-gcc11-opt/lib/DistRDF/HeadNode.py\", line 470, in build_chain_from_range\n    clustered_range, entries_in_trees = Ranges.get_clustered_range_from_percs(current_range)\n  File \"/cvmfs/sft-nightlies.cern.ch/lcg/views/devswan/Mon/x86_64-centos7-gcc11-opt/lib/DistRDF/Ranges.py\", line 295, in get_clustered_range_from_percs\n    clusters, entries = get_clusters_and_entries(treename, filename)\n  File \"/cvmfs/sft-nightlies.cern.ch/lcg/views/devswan/Mon/x86_64-centos7-gcc11-opt/lib/DistRDF/Ranges.py\", line 170, in get_clusters_and_entries\n    tfile = ROOT.TFile.Open(filename)\n  File \"/cvmfs/sft-nightlies.cern.ch/lcg/views/devswan/Mon/x86_64-centos7-gcc11-opt/lib/ROOT/_pythonization/_tfile.py\", line 103, in _TFileOpen\n    raise OSError('Failed to open file {}'.format(str(args[0])))\nOSError: Failed to open file /eos/user/n/ntoikka/data/20UL18JMENano_106X_upgrade2018_realistic_v16_L1v1-v1/30000/EAB5816F-5C3D-5247-AB9F-94B8BECDEF08.root\n\n\tat org.apache.spark.api.python.BasePythonRunner$ReaderIterator.handlePythonException(PythonRunner.scala:559)\n\tat org.apache.spark.api.python.PythonRunner$$anon$3.read(PythonRunner.scala:765)\n\tat org.apache.spark.api.python.PythonRunner$$anon$3.read(PythonRunner.scala:747)\n\tat org.apache.spark.api.python.BasePythonRunner$ReaderIterator.hasNext(PythonRunner.scala:512)\n\tat org.apache.spark.InterruptibleIterator.hasNext(InterruptibleIterator.scala:37)\n\tat scala.collection.Iterator$GroupedIterator.fill(Iterator.scala:1211)\n\tat scala.collection.Iterator$GroupedIterator.hasNext(Iterator.scala:1217)\n\tat scala.collection.Iterator$$anon$10.hasNext(Iterator.scala:460)\n\tat org.apache.spark.shuffle.sort.BypassMergeSortShuffleWriter.write(BypassMergeSortShuffleWriter.java:140)\n\tat org.apache.spark.shuffle.ShuffleWriteProcessor.write(ShuffleWriteProcessor.scala:59)\n\tat org.apache.spark.scheduler.ShuffleMapTask.runTask(ShuffleMapTask.scala:99)\n\tat org.apache.spark.scheduler.ShuffleMapTask.runTask(ShuffleMapTask.scala:52)\n\tat org.apache.spark.scheduler.Task.run(Task.scala:136)\n\tat org.apache.spark.executor.Executor$TaskRunner.$anonfun$run$3(Executor.scala:548)\n\tat org.apache.spark.util.Utils$.tryWithSafeFinally(Utils.scala:1504)\n\tat org.apache.spark.executor.Executor$TaskRunner.run(Executor.scala:551)\n\tat java.base/java.util.concurrent.ThreadPoolExecutor.runWorker(ThreadPoolExecutor.java:1128)\n\tat java.base/java.util.concurrent.ThreadPoolExecutor$Worker.run(ThreadPoolExecutor.java:628)\n\t... 1 more\n"
     ]
    },
    {
     "name": "stderr",
     "output_type": "stream",
     "text": [
      "In file included from input_line_70:1:\n",
      "./../macros/Nhelpers.hpp:15:6: error: redefinition of 'id_pair'\n",
      "auto id_pair(RVec<float> v, RVec<int> idx) {\n",
      "     ^\n",
      "input_line_46:2:6: note: previous definition is here\n",
      "auto id_pair(ROOT::RVec<float> v, ROOT::RVec<int> idx) {\n",
      "     ^\n",
      "Warning in <TClass::Init>: no dictionary for class edm::Hash<1> is available\n",
      "Warning in <TClass::Init>: no dictionary for class edm::ProcessHistory is available\n",
      "Warning in <TClass::Init>: no dictionary for class edm::ProcessConfiguration is available\n",
      "Warning in <TClass::Init>: no dictionary for class edm::ParameterSetBlob is available\n",
      "Warning in <TClass::Init>: no dictionary for class pair<edm::Hash<1>,edm::ParameterSetBlob> is available\n"
     ]
    }
   ],
   "source": [
    "chain = ROOT.TChain(\"Events\")\n",
    "chain.Add(\"/eos/user/n/ntoikka/data/20UL18JMENano_106X_upgrade2018_realistic_v16_L1v1-v1/30000/EAB5816F-5C3D-5247-AB9F-94B8BECDEF08.root\")\n",
    "df = RDataFrame(chain, sparkcontext=sc)\n",
    "df._headnode.backend.distribute_headers(\"../macros/Nhelpers.hpp\")\n",
    "print(df.Count().GetValue())"
   ]
  },
  {
   "cell_type": "markdown",
   "id": "0c0c2fa9",
   "metadata": {},
   "source": [
    "### Spark"
   ]
  },
  {
   "cell_type": "code",
   "execution_count": 3,
   "id": "fb8be5b4",
   "metadata": {
    "ExecuteTime": {
     "end_time": "2022-06-27T17:04:24.270803Z",
     "start_time": "2022-06-27T17:03:24.999218Z"
    },
    "scrolled": false
   },
   "outputs": [
    {
     "name": "stderr",
     "output_type": "stream",
     "text": [
      "                                                                                \r"
     ]
    },
    {
     "name": "stdout",
     "output_type": "stream",
     "text": [
      "684000\n"
     ]
    },
    {
     "name": "stderr",
     "output_type": "stream",
     "text": [
      "Warning in <TClass::Init>: no dictionary for class edm::Hash<1> is available\n",
      "Warning in <TClass::Init>: no dictionary for class edm::ProcessHistory is available\n",
      "Warning in <TClass::Init>: no dictionary for class edm::ProcessConfiguration is available\n",
      "Warning in <TClass::Init>: no dictionary for class edm::ParameterSetBlob is available\n",
      "Warning in <TClass::Init>: no dictionary for class pair<edm::Hash<1>,edm::ParameterSetBlob> is available\n"
     ]
    }
   ],
   "source": [
    "chain = ROOT.TChain(\"Events\")\n",
    "    \n",
    "chain.Add(\"root://eosuser.cern.ch//eos/user/n/ntoikka/data/20UL18JMENano_106X_upgrade2018_realistic_v16_L1v1-v1/30000/0230241E-754C-954D-B5D5-C104C1550830.root\")\n",
    "\n",
    "df = RDataFrame(chain, sparkcontext=sc)\n",
    "df._headnode.backend.distribute_headers(\"../macros/Nhelpers.hpp\")\n",
    "# df._headnode.backend.distribute_libraries(\"../macros/Nhelpers_C.so\")\n",
    "print(df.Redefine(\"Jet_pt\", \"id_pair(Jet_pt, Jet_genJetIdx)\").Count().GetValue())"
   ]
  }
 ],
 "metadata": {
  "hide_input": false,
  "interpreter": {
   "hash": "b25499489ed43c477baca2e313e90961e09e5f0c1aac71ad72e5a57fec84bb88"
  },
  "kernelspec": {
   "display_name": "Python 3",
   "language": "python",
   "name": "python3"
  },
  "language_info": {
   "codemirror_mode": {
    "name": "ipython",
    "version": 3
   },
   "file_extension": ".py",
   "mimetype": "text/x-python",
   "name": "python",
   "nbconvert_exporter": "python",
   "pygments_lexer": "ipython3",
   "version": "3.9.12"
  },
  "sparkconnect": {
   "bundled_options": [
    "MemoryIntensive",
    "LongRunningAnalysis",
    "ComputeIntensive"
   ],
   "list_of_options": [
    {
     "name": "spark.executorEnv.ROOT_INCLUDE_PATH",
     "value": "/cvmfs/sft-nightlies.cern.ch/lcg/views/devswan/Thu/x86_64-centos7-gcc11-opt/include/Geant4:/cvmfs/sft.cern.ch/lcg/releases/jsonmcpp/3.10.5-f26c3/x86_64-centos7-gcc11-opt/include:/cvmfs/sft-nightlies.cern.ch/lcg/views/devswan/Thu/x86_64-centos7-gcc11-opt/src/cpp:/cvmfs/sft-nightlies.cern.ch/lcg/views/devswan/Thu/x86_64-centos7-gcc11-opt/include:/cvmfs/sft.cern.ch/lcg/releases/Python/3.9.12-9a1bc/x86_64-centos7-gcc11-opt/include/python3.9:/cvmfs/sft-nightlies.cern.ch/lcg/latest/R/4.1.2-f9ee4/x86_64-centos7-gcc11-opt/lib64/R/include:/cvmfs/sft-nightlies.cern.ch/lcg/latest/R/4.1.2-f9ee4/x86_64-centos7-gcc11-opt/lib64/R/library/RInside/include:/cvmfs/sft-nightlies.cern.ch/lcg/latest/R/4.1.2-f9ee4/x86_64-centos7-gcc11-opt/lib64/R/library/Rcpp/include"
    },
    {
     "name": "spark.driver.maxResultSize",
     "value": "0"
    },
    {
     "name": "spark.dynamicAllocation.shuffleTracking.enabled",
     "value": "true"
    },
    {
     "name": "spark.executor.pyspark.memory",
     "value": "10g"
    },
    {
     "name": "spark.dynamicAllocation.enabled",
     "value": "true"
    },
    {
     "name": "spark.executor.memory",
     "value": "10g"
    },
    {
     "name": "spark.shuffle.service.enabled",
     "value": "true"
    },
    {
     "name": "spark.dynamicAllocation.minExecutors",
     "value": "4"
    },
    {
     "name": "spark.dynamicAllocation.maxExecutors",
     "value": "40"
    }
   ]
  },
  "toc": {
   "base_numbering": 1,
   "nav_menu": {},
   "number_sections": true,
   "sideBar": true,
   "skip_h1_title": false,
   "title_cell": "Table of Contents",
   "title_sidebar": "Contents",
   "toc_cell": false,
   "toc_position": {},
   "toc_section_display": true,
   "toc_window_display": false
  }
 },
 "nbformat": 4,
 "nbformat_minor": 5
}
