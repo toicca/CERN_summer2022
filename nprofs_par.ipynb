{
 "cells": [
  {
   "cell_type": "markdown",
   "id": "f334e0a8",
   "metadata": {},
   "source": [
    "# Nprofiles"
   ]
  },
  {
   "cell_type": "markdown",
   "id": "518ef82e",
   "metadata": {},
   "source": [
    "This notebook contains an example workflow for analyzing JMENano .root files using ROOTs RDataFrames. Basic usage such as defining and redefining of columns is demonstrated and defining and using custom functions from libraries is also included. Small examples on how to use ROOTs C++ datatypes from Python are also shown."
   ]
  },
  {
   "cell_type": "markdown",
   "id": "89163465",
   "metadata": {},
   "source": [
    "## Libraries and macros"
   ]
  },
  {
   "cell_type": "markdown",
   "id": "eed05fa2",
   "metadata": {},
   "source": [
    "To load Python packages and use them with pyROOT standard `import` statements are used. If you're using a collection of macros defined in a `.C` file, you'll need to open ROOT in the same directory as the `.C` file and use\n",
    "\n",
    "    .L NHelpers.C++\n",
    "\n",
    "This will create a `.so` file that you can load to the notebook using `ROOT.gSystem.Load()`. An alternative, and performance wise slightly slower, approach is to use the `ROOT.gROOT.LoadMacro()` function with the `.C` file to load the macros. Latter approach doesn't require compilation, so it might be preferrable when still developing the library. An example of both approaches is shown below."
   ]
  },
  {
   "cell_type": "code",
   "execution_count": 1,
   "id": "02c2ac5f",
   "metadata": {
    "ExecuteTime": {
     "end_time": "2022-06-30T12:09:41.582158Z",
     "start_time": "2022-06-30T12:09:37.073849Z"
    },
    "scrolled": true
   },
   "outputs": [
    {
     "name": "stdout",
     "output_type": "stream",
     "text": [
      "Welcome to JupyROOT 6.27/01\n"
     ]
    }
   ],
   "source": [
    "import ROOT\n",
    "import numpy as np\n",
    "import fnmatch\n",
    "from os import listdir\n",
    "\n",
    "ROOT.gStyle.SetPalette(ROOT.kGreyYellow) # LightTemperature\n"
   ]
  },
  {
   "cell_type": "code",
   "execution_count": 2,
   "id": "c0338a4a",
   "metadata": {
    "ExecuteTime": {
     "end_time": "2022-06-30T12:09:42.740778Z",
     "start_time": "2022-06-30T12:09:42.557625Z"
    }
   },
   "outputs": [],
   "source": [
    "RDataFrame = ROOT.RDF.Experimental.Distributed.Spark.RDataFrame\n",
    "RunGraphs = ROOT.RDF.Experimental.Distributed.RunGraphs\n",
    "initialize = ROOT.RDF.Experimental.Distributed.initialize"
   ]
  },
  {
   "cell_type": "markdown",
   "id": "6701fed5",
   "metadata": {},
   "source": [
    "## Data"
   ]
  },
  {
   "cell_type": "markdown",
   "id": "d01df5f4",
   "metadata": {},
   "source": [
    "This part of the notebook goes over how to load a larger dataset into a RDataFrame and then how to modify the data and create new data based on the previous."
   ]
  },
  {
   "cell_type": "markdown",
   "id": "093e40e8",
   "metadata": {},
   "source": [
    "###  Reading"
   ]
  },
  {
   "cell_type": "markdown",
   "id": "55f14c17",
   "metadata": {},
   "source": [
    "Data is usually given in multiple files, since the complete dataset might be very large. For this reason ROOT's `TChain` datatype is favourable, as it essentially creates a list of files that can then be passed to the `RDataFrame` constructor. Usage of `TChain` is simple, when constructing it the name of the tree is passed, after which the files are added by calling `.Add(filename)` as shown below.\n",
    "\n",
    "Another thing to utilize is the range of the loop. For testing purposes you might not want to load or analyze the complete dataset, but instead a smaller fraction. The number of files included in the `RDataFrame` can be changed by looping over a smaller set of files."
   ]
  },
  {
   "cell_type": "code",
   "execution_count": 3,
   "id": "fb8be5b4",
   "metadata": {
    "ExecuteTime": {
     "end_time": "2022-06-30T12:09:50.945319Z",
     "start_time": "2022-06-30T12:09:44.878411Z"
    }
   },
   "outputs": [
    {
     "name": "stdout",
     "output_type": "stream",
     "text": [
      "Event count: 6108000\n"
     ]
    },
    {
     "name": "stderr",
     "output_type": "stream",
     "text": [
      "Warning in <TClass::Init>: no dictionary for class edm::Hash<1> is available\n",
      "Warning in <TClass::Init>: no dictionary for class edm::ProcessHistory is available\n",
      "Warning in <TClass::Init>: no dictionary for class edm::ProcessConfiguration is available\n",
      "Warning in <TClass::Init>: no dictionary for class edm::ParameterSetBlob is available\n",
      "Warning in <TClass::Init>: no dictionary for class pair<edm::Hash<1>,edm::ParameterSetBlob> is available\n"
     ]
    }
   ],
   "source": [
    "# Simulation data\n",
    "# This line finds all files in the directory that end with .root\n",
    "files = list(fnmatch.filter(listdir(\"../../data/20UL18JMENano_106X_upgrade2018_realistic_v16_L1v1-v1/30000\"), \"*.root\"))\n",
    "\n",
    "# Load the files and create the RDataFrame\n",
    "chain = ROOT.TChain(\"Events\")\n",
    "for file in files[0:10]:\n",
    "    chain.Add(\"root://eosuser.cern.ch//eos/user/n/ntoikka/data/20UL18JMENano_106X_upgrade2018_realistic_v16_L1v1-v1/30000/\"+file)\n",
    "\n",
    "print(f\"Event count: {chain.GetEntries()}\") # Some useful info / confirmation\n",
    "\n",
    "df_MC = RDataFrame(chain, sparkcontext=sc, npartitions=64)"
   ]
  },
  {
   "cell_type": "code",
   "execution_count": 13,
   "id": "a80f21dd",
   "metadata": {
    "ExecuteTime": {
     "end_time": "2022-06-30T12:11:46.603448Z",
     "start_time": "2022-06-30T12:11:43.103380Z"
    }
   },
   "outputs": [
    {
     "name": "stdout",
     "output_type": "stream",
     "text": [
      "Event count: 4514762\n",
      "22/06/30 14:11:46 WARN SparkContext: The path ../macros/Nhelpers.hpp has been added already. Overwriting of added paths is not supported in the current version.\n",
      "22/06/30 14:11:46 WARN SparkContext: The path ../macros/tdrstyle_mod15.hpp has been added already. Overwriting of added paths is not supported in the current version.\n"
     ]
    }
   ],
   "source": [
    "# Real data\n",
    "# This line finds all files in the directory that end with .root)\n",
    "files = list(fnmatch.filter(listdir(\"../../data/UL2018_MiniAODv2_JMENanoAODv9-v1/230000\"), \"*.root\"))\n",
    "\n",
    "# Load the files and create the RDataFrame\n",
    "chain = ROOT.TChain(\"Events\")\n",
    "for file in files[0:10]:\n",
    "    chain.Add(\"root://eosuser.cern.ch//eos/user/n/ntoikka/data/UL2018_MiniAODv2_JMENanoAODv9-v1/230000/\"+file)\n",
    "\n",
    "print(f\"Event count: {chain.GetEntries()}\") # Some useful info / confirmation\n",
    "\n",
    "df_DT = RDataFrame(chain, sparkcontext=sc, npartitions=64)\n",
    "\n",
    "df_DT._headnode.backend.distribute_headers(\"../macros/Nhelpers.hpp\")\n",
    "df_DT._headnode.backend.distribute_headers(\"../macros/tdrstyle_mod15.hpp\")"
   ]
  },
  {
   "cell_type": "markdown",
   "id": "0ca95bba",
   "metadata": {},
   "source": [
    "### C/C++ variables for analysis (Veto map)"
   ]
  },
  {
   "cell_type": "markdown",
   "id": "91c8d354",
   "metadata": {},
   "source": [
    "When using the `.Define()` and `.Redefine()` you can't use variables defined in Python code. A workaround is to use the `ROOT.gInterpreter.Declare()` function which allows you to define C/C++ variables or functions quickly in Python. The code shown below reads a 2D histogram from a file to a variable `vm` for further use in the analysis."
   ]
  },
  {
   "cell_type": "code",
   "execution_count": 6,
   "id": "6d52af1b",
   "metadata": {},
   "outputs": [
    {
     "data": {
      "text/plain": [
       "True"
      ]
     },
     "execution_count": 6,
     "metadata": {},
     "output_type": "execute_result"
    }
   ],
   "source": [
    "# f = ROOT.TFile(\"../../data/hotjets-UL18.root\")\n",
    "# vm = f.Get(\"h2hot_ul18_plus_hem1516_and_hbp2m1\")\n",
    "\n",
    "read_map_code = \"\"\"\n",
    "TFile f(\"../../data/hotjets-UL18.root\");\n",
    "TH2D *vm = (TH2D*)f.Get(\"h2hot_ul18_plus_hem1516_and_hbp2m1\");\n",
    "auto limits = veto_map(vm, 5);\n",
    "\"\"\"\n",
    "\n",
    "ROOT.gInterpreter.Declare(read_map_code)\n"
   ]
  },
  {
   "cell_type": "markdown",
   "id": "6eb925d4",
   "metadata": {},
   "source": [
    "### Filters"
   ]
  },
  {
   "cell_type": "markdown",
   "id": "ca6db692",
   "metadata": {},
   "source": [
    "When filtering the data the filters are passed as strings to the filter function. The strings can be written directly to the function, or they can be defined before to make quicker changes and possibly increase readability.\n",
    "\n",
    "Here are two examples of how to implement filter strings. The first example, `pass_filt`, is a simple string that includes boolean variables defining what flags from the dataset to use for filtering. The second example has predefined variables that can then be included in the filter string by using Pythons f-string expressions."
   ]
  },
  {
   "cell_type": "code",
   "execution_count": 7,
   "id": "7734665c",
   "metadata": {},
   "outputs": [
    {
     "data": {
      "text/plain": [
       "'Response[(abs(GenJet_eta) < 1.3) && (GenJet_pt > 15.0) && (deltaR < 0.2)]'"
      ]
     },
     "execution_count": 7,
     "metadata": {},
     "output_type": "execute_result"
    }
   ],
   "source": [
    "# First example\n",
    "pass_filt = \"\"\"\n",
    "\t(Flag_goodVertices) &&\n",
    "\t (Flag_globalSuperTightHalo2016Filter) &&\n",
    "\t (Flag_HBHENoiseFilter) &&\n",
    "\t (Flag_HBHENoiseIsoFilter) &&\n",
    "\t (Flag_EcalDeadCellTriggerPrimitiveFilter) &&\n",
    "\t (Flag_BadPFMuonFilter) &&\n",
    "\t (Flag_BadPFMuonDzFilter) &&\n",
    "\t (Flag_globalTightHalo2016Filter) &&\n",
    "\t (Flag_CSCTightHaloFilter) &&\n",
    "\t (Flag_ecalBadCalibFilter) && \n",
    "\t (Flag_eeBadScFilter)\n",
    "\t\"\"\".replace(\"\\n\", \"\").replace(\"\\t\", \"\")\n",
    "\n",
    "# Second example\n",
    "pT_cut = 15.0\n",
    "eta_cut = 1.3\n",
    "deltaR_cut = 0.2\n",
    "cut_str = f'(abs(GenJet_eta) < {eta_cut}) && (GenJet_pt > {pT_cut}) && (deltaR < {deltaR_cut})'\n",
    "\n",
    "# What the program sees\n",
    "\"Response[\"+cut_str+\"]\""
   ]
  },
  {
   "cell_type": "code",
   "execution_count": 14,
   "id": "a0ed10e2",
   "metadata": {
    "ExecuteTime": {
     "end_time": "2022-06-30T12:11:54.300209Z",
     "start_time": "2022-06-30T12:11:54.182848Z"
    }
   },
   "outputs": [],
   "source": [
    "def myinit():\n",
    "\n",
    "    rand_oneZero = \"\"\"\n",
    "    int rand_oneZero() {\n",
    "        TRandom3 gen;\n",
    "        gen.SetSeed(1556);\n",
    "        double r = gen.Rndm();\n",
    "        if (r > 0.5) {\n",
    "            return 1;\n",
    "        } else {\n",
    "            return 0;\n",
    "        }\n",
    "    }\n",
    "    \"\"\")\n",
    "    ROOT.gInterpreter.Declare(rand_oneZero)\n",
    "\n",
    "initialize(myinit)"
   ]
  },
  {
   "cell_type": "markdown",
   "id": "cf7985f0",
   "metadata": {},
   "source": [
    "### Cuts and pairing"
   ]
  },
  {
   "cell_type": "markdown",
   "id": "0b715d6c",
   "metadata": {},
   "source": [
    "Now with the filters defined the actual transformation of the dataframe needs to be done. The transformation can be done over multiple lines of code, or in a single line as is done in this notebook. For readability these long single line calls should be split using `\\`, but remember that this kind of syntax doesn't allow comments between the lines.\n",
    "\n",
    "What should be taken into note is that:\n",
    "* Custom functions can be called without the `ROOT.` prefix\n",
    "* The transformation is written in C/C++ syntax, and ROOT functions such as `DeltaR()` can be called without the class prefix `ROOT::VecOps::`\n",
    "* f-strings that contain C/C++ syntax can be passed as a string to the transformation."
   ]
  },
  {
   "cell_type": "code",
   "execution_count": 15,
   "id": "1c730b59",
   "metadata": {
    "ExecuteTime": {
     "end_time": "2022-06-30T12:11:56.856519Z",
     "start_time": "2022-06-30T12:11:56.714101Z"
    }
   },
   "outputs": [],
   "source": [
    "# Choose if to use the veto map and/or weights\n",
    "veto = False\n",
    "weights = False\n",
    "\n",
    "# Create an appropriate description for the y-axis\n",
    "y_str = f'Response'\n",
    "if veto or weights:\n",
    "    y_str += \"(\"\n",
    "    if veto:\n",
    "        y_str += \"vetoed\"\n",
    "    if weights:\n",
    "        y_str += \"weighted\"\n",
    "    y_str += \")\"\n",
    "\n",
    "\n",
    "\n",
    "\n",
    "\n",
    "hlt = [40,60,80,140,200,260,320,400,450,500]\n",
    "offline = [30, 84,114,196,272,330,395,468,548,686] # 64\n",
    "hlt_filt = \"false \"\n",
    "\n",
    "for hlt_temp, reco in zip(hlt, offline):\n",
    "    hlt_filt += f\" || ((pTavg > {reco}) && (HLT_PFJet{hlt_temp}))\"\n",
    "\n",
    "\n",
    "df_DT1 = df_DT.Filter(\"(Jet_pt.size() >= 2)\") \\\n",
    "        .Define(\"pTavg\", \"(Jet_pt[0] + Jet_pt[1]) * 0.5\") \\\n",
    "        .Filter(\"(Jet_pt.size() == 2) || ((Jet_pt[2] < 15) || (Jet_pt[2] < 0.3*pTavg))\") \\\n",
    "        .Filter(\"ROOT::VecOps::DeltaPhi(Jet_phi[0], Jet_phi[1]) > 2.8\") \\\n",
    "        .Filter(\"(Jet_pt[0] > 15) && (Jet_pt[1] > 15)\") \\\n",
    "        .Filter(\"(abs(Jet_eta[0]) < 1.3) && (abs(Jet_eta[1]) < 1.3)\") \\\n",
    "        .Filter(hlt_filt) \\\n",
    "        .Define(\"rIdx\", \"rand_oneZero()\") \\\n",
    "        .Redefine(\"Jet_nConstChHads\", \"Take(Jet_nConstChHads, rIdx)\") \\\n",
    "        .Define(\"Jet_nConstME\", \"Take(Jet_nConstMuons+Jet_nConstElecs, rIdx)\") \\\n",
    "        .Redefine(\"Jet_nConstPhotons\", \"Take(Jet_nConstPhotons, rIdx)\") \\\n",
    "        .Redefine(\"Jet_nConstNeuHads\", \"Take(Jet_nConstNeuHads, rIdx)\") \\\n",
    "        .Redefine(\"Jet_nConstituents\", \"Take(Jet_nConstituents, rIdx)\") \\\n",
    "        .Define(\"nSum\", \"Take(Jet_nConstChHads + Jet_nConstME + Jet_nConstPhotons + Jet_nConstNeuHads, rIdx)\") \\\n",
    "        .Define(\"pTtag\", \"Take(Jet_pt, rIdx)\")\n",
    "\n",
    "df1_MC = df_MC.Filter(\"(Jet_pt.size() >= 2)\") \\\n",
    "        .Define(\"pTavg\", \"(Jet_pt[0] + Jet_pt[1]) * 0.5\") \\\n",
    "        .Filter(\"(Jet_pt.size() == 2) || ((Jet_pt[2] < 15) || (Jet_pt[2] < 0.3*pTavg))\") \\\n",
    "        .Filter(\"ROOT::VecOps::DeltaPhi(Jet_phi[0], Jet_phi[1]) > 2.8\") \\\n",
    "        .Filter(\"(Jet_pt[0] > 15) && (Jet_pt[1] > 15)\") \\\n",
    "        .Filter(\"(abs(Jet_eta[0]) < 1.3) && (abs(Jet_eta[1]) < 1.3)\") \\\n",
    "        .Define(\"ChG\", \"flavour_match(Jet_nConstChHads, Jet_partonFlavour, 21)\") \\\n",
    "        .Define(\"ChQ\", \"flavour_match(Jet_nConstChHads, abs(Jet_partonFlavour), {1, 2, 3})\") \\\n",
    "        .Define(\"rIdx\", \"rand_oneZero()\") \\\n",
    "        .Redefine(\"Jet_nConstChHads\", \"Take(Jet_nConstChHads, rIdx)\") \\\n",
    "        .Define(\"Jet_nConstME\", \"Take(Jet_nConstMuons+Jet_nConstElecs, rIdx)\") \\\n",
    "        .Redefine(\"Jet_nConstPhotons\", \"Take(Jet_nConstPhotons, rIdx)\") \\\n",
    "        .Redefine(\"Jet_nConstNeuHads\", \"Take(Jet_nConstNeuHads, rIdx)\") \\\n",
    "        .Redefine(\"Jet_nConstituents\", \"Take(Jet_nConstituents, rIdx)\") \\\n",
    "        .Define(\"nSum\", \"Take(Jet_nConstChHads + Jet_nConstME + Jet_nConstPhotons + Jet_nConstNeuHads, rIdx)\") \\\n",
    "        .Define(\"pTtag\", \"Take(Jet_pt, rIdx)\") \\\n",
    "        .Filter(\"ChQ.size() > 1\") \\\n",
    "        .Filter(\"ChG.size() > 1\") \\\n",
    "        .Redefine(\"ChG\", \"Take(ChG, rIdx)\") \\\n",
    "        .Redefine(\"ChQ\", \"Take(ChQ, rIdx)\") \n",
    "        \n",
    "        \n",
    "# if veto:\n",
    "#         df1 = df1.Redefine(\"Response_cut\", \"veto_map_filt(limits, GenJet_eta, GenJet_phi, Response_cut)\") \\\n",
    "#         .Redefine(\"pt_cut\", \"veto_map_filt(limits, GenJet_eta, GenJet_phi, pt_cut)\")  \\\n",
    "#         .Redefine(\"pFlavour_cut\", \"veto_map_filt(limits, GenJet_eta, GenJet_phi, pFlavour_cut)\") \\\n",
    "#         .Define(\"eta_new\", \"veto_map_filt(limits, GenJet_eta, GenJet_phi, GenJet_eta)\") \\\n",
    "#         .Define(\"phi_new\", \"veto_map_filt(limits, GenJet_eta, GenJet_phi, GenJet_phi)\") \\\n",
    "#         .Filter(\"pt_cut.size() > 0\")"
   ]
  },
  {
   "cell_type": "markdown",
   "id": "fc7052fe",
   "metadata": {},
   "source": [
    "## Profiles, Histograms and Graphs"
   ]
  },
  {
   "cell_type": "markdown",
   "id": "93bd1831",
   "metadata": {},
   "source": [
    "Now that the data is transformed further reduction and creation of profiles, histograms and graphs can be done. These could be done explicitly for each of the objects, but to reduce the amount of code I've used dictionaries, such that for example `profiles[\"g\"]` includes all the profiles that are related to gluons.\n",
    "\n",
    "Profiles and 2D histograms are calculated first, after which the graphs can be calculated based on the 2D histograms. Weighting of the profiles and 2D histograms also happens here, and since the graphs are based on the histograms, the weights \"follow\".\n",
    "\n",
    "Note that when passing a numpy array to a ROOT or C/C++ function remember to explicitly define the datatype of the array."
   ]
  },
  {
   "cell_type": "markdown",
   "id": "91c372bf",
   "metadata": {},
   "source": [
    "### Profiles"
   ]
  },
  {
   "cell_type": "code",
   "execution_count": 24,
   "id": "9949bf36",
   "metadata": {
    "ExecuteTime": {
     "end_time": "2022-06-30T14:11:08.276188Z",
     "start_time": "2022-06-30T14:11:08.158660Z"
    },
    "scrolled": true
   },
   "outputs": [],
   "source": [
    "# Different kinds of flavours for plots. cut includes all flavours\n",
    "prtcl = [\"ChHads\",\"Muons\",\"Photons\",\"NeuHads\",\"ituents\"]\n",
    "\n",
    "# Unfolded bins\n",
    "bins = np.array((1, 5, 6, 8, 10, 12, 15, 18, 21, 24, 28, 32, 37, 43, 49, 56, 64, 74, 84, 97, 114, 133, \\\n",
    "                153, 174, 196, 220, 245, 272, 300, 330, 362, 395, 430, 468, 507, 548, 592, 638, 686, 737, \\\n",
    "                790, 846, 905, 967, 1032, 1101, 1172, 1248, 1327, 1410, 1497, 1588, 1684, 1784, 1890, 2000, \\\n",
    "                2116, 2238, 2366, 2500, 2640, 2787, 2941, 3103, 3273, 3450, 3637, 3832, 4037, 4252, 4477, 4713, \\\n",
    "                4961, 5220, 5492, 5777, 6076, 6389, 6717, 7000), dtype=np.double)\n",
    "\n",
    "# Detector level bins\n",
    "# bins = np.array((1, 2.5, 5, 5.5, 6, 7, 8, 9, 10, 11, 12, 13.5, 15, 16.5, 18, 19.5, 21, 22.5, 24, 26, 28, \\\n",
    "                # 30, 32, 34.4, 37, 39.9, 43, 46.1, 49, 52.5, 56, 60, 64, 69, 74, 79, 84, 90, 97, 105, 114, \\\n",
    "                # 123, 133, 143, 153, 163, 174, 185, 196, 208, 220, 232, 245, 258, 272, 286, 300, 315, 330, \\\n",
    "                # 346, 362, 378, 395, 412, 430, 449, 468, 487, 507, 527, 548, 570, 592, 614, 638, 662, \\\n",
    "                # 686, 711, 737, 763, 790, 818, 846, 875, 905, 935, 967, 999, 1032, 1066, 1101, 1136, 1172, \\\n",
    "                # 1209, 1248, 1287, 1327, 1368, 1410, 1453, 1497, 1542, 1588, 1636, 1684, 1733, 1784, 1836, \\\n",
    "                # 1890, 1944, 2000, 2057, 2116, 2176, 2238, 2301, 2366, 2432, 2500, 2569, 2640, 2712, 2787, \\\n",
    "                # 2863, 2941, 3021, 3103, 3187, 3273, 3360, 3450, 3542, 3637, 3733, 3832, 3933, 4037, 4143, \\\n",
    "                # 4252, 4364, 4477, 4594, 4713, 4836, 4961, 5089, 5220, 5355, 5492, 5633, 5777, 5925, 6076, \\\n",
    "                # 6231, 6389, 6552, 6717, 6886, 7000), dtype=np.double)\n",
    "\n",
    "# linbins\n",
    "# bins = np.linspace(0, 1800, 16, dtype = np.double)\n",
    "\n",
    "# ATLAS bins\n",
    "ATL_bins = np.array((50, 100, 200, 300, 400, 500, 600, 800, 1000, 1200, 1500, 1800), dtype = np.double)\n",
    "ATL_cnt = len(ATL_bins) - 1\n",
    "\n",
    "# Too many bins\n",
    "# bins = np.geomspace(15, 7000, 250, dtype=np.double)\n",
    "\n",
    "cnt = len(bins)-1\n",
    "\n",
    "\n",
    "ChHads = df1_MC.Profile1D((\"HadsProfile\", \"Hads\", cnt, bins), \"pTtag\", \"Jet_nConstChHads\")\n",
    "Muons = df1_MC.Profile1D((\"MuonsProfile\", \"Muons\", cnt, bins), \"pTtag\", \"Jet_nConstME\")\n",
    "Photons = df1_MC.Profile1D((\"Photons\", \"Photons\", cnt, bins), \"pTtag\", \"Jet_nConstPhotons\")\n",
    "NeuHads = df1_MC.Profile1D((\"NeuHadsProfile\", \"NeuHads\", cnt, bins), \"pTtag\", \"Jet_nConstNeuHads\")\n",
    "nSum = df1_MC.Profile1D((\"nSumProfile\", \"nSum\", cnt, bins), \"pTtag\",\"nSum\")\n",
    "nConst = df1_MC.Profile1D((\"nConstProfile\", \"nConst\", cnt, bins), \"pTtag\", \"Jet_nConstituents\")\n",
    "\n",
    "ChHads_DT = df_DT1.Profile1D((\"HadsProfile\", \"Hads\", cnt, bins), \"pTtag\", \"Jet_nConstChHads\")\n",
    "Muons_DT = df_DT1.Profile1D((\"MuonsProfile\", \"Muons\", cnt, bins), \"pTtag\", \"Jet_nConstME\")\n",
    "Photons_DT = df_DT1.Profile1D((\"Photons\", \"Photons\", cnt, bins), \"pTtag\", \"Jet_nConstPhotons\")\n",
    "NeuHads_DT = df_DT1.Profile1D((\"NeuHadsProfile\", \"NeuHads\", cnt, bins), \"pTtag\", \"Jet_nConstNeuHads\")\n",
    "nSum_DT = df_DT1.Profile1D((\"nSumProfile\", \"nSum\", cnt, bins), \"pTtag\",\"nSum\")\n",
    "nConst_DT = df_DT1.Profile1D((\"nConstProfile\", \"nConst\", cnt, bins), \"pTtag\", \"Jet_nConstituents\")\n",
    "\n",
    "ChG = df1_MC.Profile1D((\"ChG\", \"ChG\", ATL_cnt, ATL_bins), \"pTtag\", \"ChG\")\n",
    "ChQ = df1_MC.Profile1D((\"ChQ\", \"ChQ\", ATL_cnt, ATL_bins), \"pTtag\", \"ChQ\")\n",
    "ChHads_ATL = df1_MC.Profile1D((\"HadsProfile2\", \"Hds\", ATL_cnt, ATL_bins), \"pTtag\", \"Jet_nConstChHads\")\n"
   ]
  },
  {
   "cell_type": "markdown",
   "id": "784cd074",
   "metadata": {},
   "source": [
    "## Plots\n"
   ]
  },
  {
   "cell_type": "markdown",
   "id": "bad90ea3",
   "metadata": {},
   "source": [
    "### Nptcl"
   ]
  },
  {
   "cell_type": "code",
   "execution_count": 19,
   "id": "3fe7fc94",
   "metadata": {
    "ExecuteTime": {
     "end_time": "2022-06-30T12:17:27.718359Z",
     "start_time": "2022-06-30T12:17:27.459352Z"
    }
   },
   "outputs": [
    {
     "name": "stderr",
     "output_type": "stream",
     "text": [
      "Warning in <TROOT::Append>: Replacing existing TH1: h1 (Potential memory leak).\n",
      "Warning in <TCanvas::Constructor>: Deleting canvas with same name: canvas\n"
     ]
    },
    {
     "data": {
      "image/png": "[encoded data removed]",
      "text/plain": [
       "<IPython.core.display.Image object>"
      ]
     },
     "metadata": {},
     "output_type": "display_data"
    }
   ],
   "source": [
    "%jsroot off\n",
    "# Function for tdrStyle axes and limit setting----------------------\n",
    "def tdrAxes(hist, y_low, y_up):\n",
    "    hist.GetYaxis().SetRangeUser(y_low, y_up)\n",
    "    hist.GetXaxis().SetRangeUser(30, 3500)\n",
    "    hist.GetXaxis().SetMoreLogLabels()\n",
    "    hist.GetXaxis().SetNoExponent()\n",
    "\n",
    "style = ROOT.setTDRStyle()\n",
    "# Plot --------------------------------------------------------------\n",
    "hist = ROOT.TH1D(\"h1\", \"h1 title;p_{T,tag} (GeV);N_{ptcl}\", cnt, bins)\n",
    "\n",
    "ROOT.extraText = \"Work in progress\"\n",
    "ROOT.lumi_13TeV = \"137.8 fb^{-1}\"\n",
    "\n",
    "canv = ROOT.tdrCanvas(\"canvas\", hist, 4, 0, ROOT.kSquare)\n",
    "\n",
    "ROOT.tdrDraw(ChHads.GetValue(), \"PL\", ROOT.kOpenCircle, ROOT.kRed)\n",
    "ROOT.tdrDraw(ChHads_DT.GetValue(),\"PL\", ROOT.kFullCircle, ROOT.kRed)\n",
    "             \n",
    "# ROOT.tdrDraw(Muons.GetValue(),\"PL\", ROOT.kOpenCircle, ROOT.kMagenta+1)\n",
    "# ROOT.tdrDraw(Muons_DT.GetValue(),\"PL\", ROOT.kOpenCircle, ROOT.kMagenta+1)\n",
    "\n",
    "ROOT.tdrDraw(Photons.GetValue(),\"PL\", ROOT.kOpenCircle, ROOT.kBlue)\n",
    "ROOT.tdrDraw(Photons_DT.GetValue(),\"PL\", ROOT.kFullCircle, ROOT.kBlue)\n",
    "\n",
    "ROOT.tdrDraw(NeuHads.GetValue(),\"PL\", ROOT.kOpenCircle, ROOT.kGreen+2)\n",
    "ROOT.tdrDraw(NeuHads_DT.GetValue(),\"PL\", ROOT.kFullCircle, ROOT.kGreen+2)\n",
    "\n",
    "ROOT.tdrDraw(nConst.GetValue(),\"PL\", ROOT.kOpenCircle, ROOT.kBlack)\n",
    "ROOT.tdrDraw(nConst_DT.GetValue(),\"PL\", ROOT.kFullCircle, ROOT.kBlack)\n",
    "\n",
    "ROOT.tdrDraw(nSum.GetValue(),\"PL\", ROOT.kOpenDiamond, ROOT.kBlack)\n",
    "ROOT.tdrDraw(nSum_DT.GetValue(),\"PL\", ROOT.kFullDiamond, ROOT.kBlack)\n",
    "\n",
    "\n",
    "# # ROOT.tdrDraw(ChG.GetValue(),\"PL\", ROOT.kOpenStar, ROOT.kBlack)\n",
    "# # ChG.GetValue().GetXaxis().SetRangeUser(50, 3500)\n",
    "# # ROOT.tdrDraw(ChQ.GetValue(),\"PL\", ROOT.kOpenCircle, ROOT.kRed)\n",
    "# # ChQ.GetValue().GetXaxis().SetRangeUser(50, 3500)\n",
    "\n",
    "tdrAxes(hist, 0, 60)\n",
    "leg = ROOT.tdrLeg(0.2,0.65,0.4,0.9)\n",
    "leg.AddEntry(ChHads.GetValue(), \"CH\", \"pl\")\n",
    "# leg.AddEntry(Muons.GetValue(), \"ME\", \"pl\")\n",
    "leg.AddEntry(NeuHads.GetValue(), \"NH\", \"pl\")\n",
    "leg.AddEntry(Photons.GetValue(), \"NE\", \"pl\")\n",
    "leg.AddEntry(nConst.GetValue(), \"nConst\", \"pl\")\n",
    "leg.AddEntry(nSum.GetValue(), \"nSum\", \"pl\")\n",
    "\n",
    "# leg.AddEntry(ChG.GetValue(), \"G\", \"pl\")\n",
    "# leg.AddEntry(ChQ.GetValue(), \"Q\", \"pl\")\n",
    "# leg.AddEntry(ChHads.GetValue(), \"inclusive\", \"pl\")\n",
    "\n",
    "\n",
    "ROOT.gStyle.SetPalette(ROOT.kRainBow) #GreyYellow LightTemperature\n",
    "\n",
    "# late = ROOT.TLatex()\n",
    "# late.SetNDC()\n",
    "# late.DrawLatex(.2, .2, \"|#eta| < 1.3; #DeltaR < 0.2; p_{T} > 15 GeV\")\n",
    "\n",
    "canv.SetLogx()\n",
    "canv.Draw()"
   ]
  },
  {
   "cell_type": "code",
   "execution_count": 27,
   "id": "4689450f",
   "metadata": {
    "ExecuteTime": {
     "end_time": "2022-06-30T14:13:00.521723Z",
     "start_time": "2022-06-30T14:13:00.369554Z"
    }
   },
   "outputs": [
    {
     "name": "stderr",
     "output_type": "stream",
     "text": [
      "Warning in <TROOT::Append>: Replacing existing TH1: h1 (Potential memory leak).\n",
      "Warning in <TCanvas::Constructor>: Deleting canvas with same name: canvas\n"
     ]
    },
    {
     "data": {
      "image/png": "[encoded data removed]",
      "text/plain": [
       "<IPython.core.display.Image object>"
      ]
     },
     "metadata": {},
     "output_type": "display_data"
    }
   ],
   "source": [
    "# Function for tdrStyle axes and limit setting----------------------\n",
    "def tdrAxes(hist, y_low, y_up):\n",
    "    hist.GetYaxis().SetRangeUser(y_low, y_up)\n",
    "    hist.GetXaxis().SetRangeUser(50, 1800)\n",
    "    hist.GetXaxis().SetMoreLogLabels()\n",
    "    hist.GetXaxis().SetNoExponent()\n",
    "\n",
    "hist = ROOT.TH1D(\"h1\", \"h1 title;p_{T,tag} (GeV);N_{ptcl}\", cnt, bins)\n",
    "\n",
    "canv = ROOT.tdrCanvas(\"canvas\", hist, 4, 0, ROOT.kSquare)\n",
    "\n",
    "ROOT.tdrDraw(ChHads_ATL.GetValue(),\"PL\", ROOT.kFullCircle, ROOT.kRed)\n",
    "\n",
    "\n",
    "ROOT.tdrDraw(ChG.GetValue(),\"PL\", ROOT.kOpenStar, ROOT.kBlack)\n",
    "ChG.GetValue().GetXaxis().SetRangeUser(50, 1800)\n",
    "ROOT.tdrDraw(ChQ.GetValue(),\"PL\", ROOT.kOpenCircle, ROOT.kRed)\n",
    "ChQ.GetValue().GetXaxis().SetRangeUser(50, 1800)\n",
    "\n",
    "tdrAxes(hist, 0, 60)\n",
    "leg = ROOT.tdrLeg(0.2,0.65,0.4,0.9)\n",
    "\n",
    "leg.AddEntry(ChG.GetValue(), \"G\", \"pl\")\n",
    "leg.AddEntry(ChQ.GetValue(), \"Q\", \"pl\")\n",
    "leg.AddEntry(ChHads_ATL.GetValue(), \"inclusive\", \"pl\")\n",
    "\n",
    "\n",
    "ROOT.gStyle.SetPalette(ROOT.kRainBow) #GreyYellow LightTemperature\n",
    "\n",
    "\n",
    "\n",
    "# canv.SetLogx()\n",
    "canv.Draw()"
   ]
  }
 ],
 "metadata": {
  "hide_input": false,
  "interpreter": {
   "hash": "b25499489ed43c477baca2e313e90961e09e5f0c1aac71ad72e5a57fec84bb88"
  },
  "kernelspec": {
   "display_name": "Python 3",
   "language": "python",
   "name": "python3"
  },
  "language_info": {
   "codemirror_mode": {
    "name": "ipython",
    "version": 3
   },
   "file_extension": ".py",
   "mimetype": "text/x-python",
   "name": "python",
   "nbconvert_exporter": "python",
   "pygments_lexer": "ipython3",
   "version": "3.9.12"
  },
  "sparkconnect": {
   "bundled_options": [],
   "list_of_options": [
    {
     "name": "spark.executorEnv.ROOT_INCLUDE_PATH",
     "value": "/cvmfs/sft-nightlies.cern.ch/lcg/views/devswan/Thu/x86_64-centos7-gcc11-opt/include/Geant4:/cvmfs/sft.cern.ch/lcg/releases/jsonmcpp/3.10.5-f26c3/x86_64-centos7-gcc11-opt/include:/cvmfs/sft-nightlies.cern.ch/lcg/views/devswan/Thu/x86_64-centos7-gcc11-opt/src/cpp:/cvmfs/sft-nightlies.cern.ch/lcg/views/devswan/Thu/x86_64-centos7-gcc11-opt/include:/cvmfs/sft.cern.ch/lcg/releases/Python/3.9.12-9a1bc/x86_64-centos7-gcc11-opt/include/python3.9:/cvmfs/sft-nightlies.cern.ch/lcg/latest/R/4.1.2-f9ee4/x86_64-centos7-gcc11-opt/lib64/R/include:/cvmfs/sft-nightlies.cern.ch/lcg/latest/R/4.1.2-f9ee4/x86_64-centos7-gcc11-opt/lib64/R/library/RInside/include:/cvmfs/sft-nightlies.cern.ch/lcg/latest/R/4.1.2-f9ee4/x86_64-centos7-gcc11-opt/lib64/R/library/Rcpp/include"
    },
    {
     "name": "spark.driver.maxResultSize",
     "value": "0"
    },
    {
     "name": "spark.dynamicAllocation.shuffleTracking.enabled",
     "value": "true"
    },
    {
     "name": "spark.dynamicAllocation.enabled",
     "value": "true"
    },
    {
     "name": "spark.dynamicAllocation.minExecutors",
     "value": "4"
    },
    {
     "name": "spark.dynamicAllocation.maxExecutors",
     "value": "40"
    },
    {
     "name": "spark.executor.memory",
     "value": "10g"
    },
    {
     "name": "spark.driver.memory",
     "value": "10g"
    },
    {
     "name": "spark.executor.pyspark.memory",
     "value": "10g"
    },
    {
     "name": "spark.shuffle.service.enabled",
     "value": "true"
    }
   ]
  },
  "toc": {
   "base_numbering": 1,
   "nav_menu": {},
   "number_sections": true,
   "sideBar": true,
   "skip_h1_title": false,
   "title_cell": "Table of Contents",
   "title_sidebar": "Contents",
   "toc_cell": false,
   "toc_position": {},
   "toc_section_display": true,
   "toc_window_display": false
  }
 },
 "nbformat": 4,
 "nbformat_minor": 5
}
