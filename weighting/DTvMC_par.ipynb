{
 "cells": [
  {
   "cell_type": "markdown",
   "metadata": {
    "ExecuteTime": {
     "end_time": "2022-07-08T12:02:21.593469Z",
     "start_time": "2022-07-08T12:02:21.590251Z"
    }
   },
   "source": [
    "# Data"
   ]
  },
  {
   "cell_type": "markdown",
   "metadata": {},
   "source": [
    "## Imports"
   ]
  },
  {
   "cell_type": "code",
   "execution_count": 1,
   "metadata": {
    "ExecuteTime": {
     "end_time": "2022-07-28T19:07:50.098709Z",
     "start_time": "2022-07-28T19:07:44.902873Z"
    }
   },
   "outputs": [
    {
     "name": "stdout",
     "output_type": "stream",
     "text": [
      "Welcome to JupyROOT 6.27/01\n"
     ]
    }
   ],
   "source": [
    "import ROOT\n",
    "import numpy as np\n",
    "import fnmatch\n",
    "from os import listdir\n",
    "\n",
    "RDataFrame = ROOT.RDF.Experimental.Distributed.Spark.RDataFrame\n",
    "RunGraphs = ROOT.RDF.Experimental.Distributed.RunGraphs\n",
    "initialize = ROOT.RDF.Experimental.Distributed.initialize"
   ]
  },
  {
   "cell_type": "markdown",
   "metadata": {},
   "source": [
    "## Init strings\n",
    "\n",
    "Choose the function and the parameter that's used for creating the weights- Function needs to be known by ROOT."
   ]
  },
  {
   "cell_type": "code",
   "execution_count": 2,
   "metadata": {
    "ExecuteTime": {
     "end_time": "2022-07-28T19:07:50.214884Z",
     "start_time": "2022-07-28T19:07:50.101853Z"
    }
   },
   "outputs": [],
   "source": [
    "fitFunction = \"chebyshev8\"\n",
    "fitParameter = \"Jet_nConstituents\""
   ]
  },
  {
   "cell_type": "markdown",
   "metadata": {},
   "source": [
    "## Initialize RDFs"
   ]
  },
  {
   "cell_type": "markdown",
   "metadata": {},
   "source": [
    "### Read\n",
    "\n",
    "Collect the .root files to a single RDF"
   ]
  },
  {
   "cell_type": "code",
   "execution_count": 3,
   "metadata": {
    "ExecuteTime": {
     "end_time": "2022-07-28T19:09:03.328143Z",
     "start_time": "2022-07-28T19:07:50.217330Z"
    },
    "scrolled": true
   },
   "outputs": [
    {
     "name": "stdout",
     "output_type": "stream",
     "text": [
      "Event count (MC): 19928000\n",
      "File count (MC): 39\n",
      "\n",
      "Event count (DT): 78255208\n",
      "File count (DT): 128\n"
     ]
    },
    {
     "name": "stderr",
     "output_type": "stream",
     "text": [
      "Warning in <TClass::Init>: no dictionary for class edm::Hash<1> is available\n",
      "Warning in <TClass::Init>: no dictionary for class edm::ProcessHistory is available\n",
      "Warning in <TClass::Init>: no dictionary for class edm::ProcessConfiguration is available\n",
      "Warning in <TClass::Init>: no dictionary for class edm::ParameterSetBlob is available\n",
      "Warning in <TClass::Init>: no dictionary for class pair<edm::Hash<1>,edm::ParameterSetBlob> is available\n"
     ]
    }
   ],
   "source": [
    "# This line finds all files in the directory that end with .root\n",
    "files1 = list(fnmatch.filter(listdir(\n",
    "    \"../../../data/20UL18JMENano_106X_upgrade2018_realistic_v16_L1v1-v1/30000\"), \"*.root\"))\n",
    "files2 = list(fnmatch.filter(\n",
    "    listdir(\"../../../data/UL2018_MiniAODv2_JMENanoAODv9-v1/40000\"), \"*.root\"))\n",
    "\n",
    "# Load the files and create the RDataFrame\n",
    "chain1 = ROOT.TChain(\"Events\")\n",
    "for file in files1:\n",
    "    chain1.Add(\"root://eosuser.cern.ch//eos/user/n/ntoikka/data/20UL18JMENano_106X_upgrade2018_realistic_v16_L1v1-v1/30000/\"+file)\n",
    "\n",
    "entr1 = chain1.GetEntries()\n",
    "print(f\"Event count (MC): {entr1}\")\n",
    "print(f\"File count (MC): {len(files1)}\")\n",
    "print()\n",
    "\n",
    "for file in files2:\n",
    "    chain1.Add(\n",
    "        \"root://eosuser.cern.ch//eos/user/n/ntoikka/data/UL2018_MiniAODv2_JMENanoAODv9-v1/40000/\"+file)\n",
    "    \n",
    "print(f\"Event count (DT): {chain1.GetEntries() - entr1}\")\n",
    "print(f\"File count (DT): {len(files2)}\")\n",
    "\n",
    "df = RDataFrame(chain1, sparkcontext=sc, npartitions=128)\n",
    "\n",
    "df._headnode.backend.distribute_headers(\"../macros/Nhelpers.hpp\")\n",
    "df._headnode.backend.distribute_headers(\"../macros/tdrstyle_mod15.hpp\")"
   ]
  },
  {
   "cell_type": "markdown",
   "metadata": {},
   "source": [
    "### MC-DT separation"
   ]
  },
  {
   "cell_type": "markdown",
   "metadata": {},
   "source": [
    "Define new column that tells whether the event came from a DT file or an MC file."
   ]
  },
  {
   "cell_type": "code",
   "execution_count": 4,
   "metadata": {
    "ExecuteTime": {
     "end_time": "2022-07-28T19:09:03.437169Z",
     "start_time": "2022-07-28T19:09:03.332507Z"
    }
   },
   "outputs": [],
   "source": [
    "DTvMC_filt = \"(false\"\n",
    "\n",
    "for filename in files1:\n",
    "    DTvMC_filt += f' || (rdfsampleinfo_.Contains(\"{filename}\"))'\n",
    "\n",
    "DTvMC_filt += \") ? 1 : 2\"\n",
    "\n",
    "# fileN column contains 1 for MC and 2 for DT\n",
    "df1 = df.DefinePerSample(\"fileN\", DTvMC_filt)"
   ]
  },
  {
   "cell_type": "markdown",
   "metadata": {},
   "source": [
    "## Transform RDFs\n",
    "\n",
    "Apply filters and defines to the collective RDF. After transformation separate DT and MC to separate RDFs."
   ]
  },
  {
   "cell_type": "markdown",
   "metadata": {},
   "source": [
    "Filter string to match based on trigger"
   ]
  },
  {
   "cell_type": "code",
   "execution_count": 5,
   "metadata": {
    "ExecuteTime": {
     "end_time": "2022-07-28T19:09:03.544019Z",
     "start_time": "2022-07-28T19:09:03.439225Z"
    }
   },
   "outputs": [],
   "source": [
    "hlt = [40, 60, 80, 140, 200, 260, 320, 400, 450, 500]\n",
    "offline = [64, 84, 114, 196, 272, 330, 395, 468, 548, 686]\n",
    "hlt_filt = \"false \"\n",
    "\n",
    "for hlt_temp, reco in zip(hlt, offline):\n",
    "    hlt_filt += f\" || ((pTavg > {reco}) && (HLT_PFJet{hlt_temp}))\""
   ]
  },
  {
   "cell_type": "markdown",
   "metadata": {},
   "source": [
    "Transformation and separation"
   ]
  },
  {
   "cell_type": "code",
   "execution_count": 6,
   "metadata": {
    "ExecuteTime": {
     "end_time": "2022-07-28T19:09:03.651352Z",
     "start_time": "2022-07-28T19:09:03.546267Z"
    }
   },
   "outputs": [],
   "source": [
    "df2 = df1.Filter(\"(Jet_pt.size() >= 2)\") \\\n",
    "    .Define(\"pTavg\", \"(Jet_pt[0] + Jet_pt[1]) * 0.5\") \\\n",
    "    .Filter(\"(Jet_pt.size() == 2) || ((Jet_pt[2] < 15) || (Jet_pt[2] < 0.3*pTavg))\") \\\n",
    "    .Filter(\"ROOT::VecOps::DeltaPhi(Jet_phi[0], Jet_phi[1]) > 2.8\") \\\n",
    "    .Filter(\"(Jet_pt[0] > 15) && (Jet_pt[1] > 15)\") \\\n",
    "    .Filter(\"(abs(Jet_eta[0]) < 1.3) && (abs(Jet_eta[1]) < 1.3)\") \\\n",
    "    .Filter(hlt_filt) \\\n",
    "    .Define(\"rIdx\", \"rand_oneZero()\") \\\n",
    "    .Redefine(fitParameter, f\"Take({fitParameter}, rIdx)\") \\\n",
    "    .Define(\"pTtag\", \"Take(Jet_pt, rIdx)\") \\\n",
    "    .Filter(\"pTtag[0] < 1700 and pTtag[0] > 64\")\n",
    "\n",
    "df_MC = df2.Filter(\"fileN == 1\")\n",
    "df_DT = df2.Filter(\"fileN == 2\")"
   ]
  },
  {
   "cell_type": "markdown",
   "metadata": {},
   "source": [
    "## Hists\n",
    "\n",
    "Create 2D histograms for finding the weights"
   ]
  },
  {
   "cell_type": "markdown",
   "metadata": {},
   "source": [
    "Parameters"
   ]
  },
  {
   "cell_type": "code",
   "execution_count": 7,
   "metadata": {
    "ExecuteTime": {
     "end_time": "2022-07-28T19:11:10.119036Z",
     "start_time": "2022-07-28T19:09:03.653694Z"
    }
   },
   "outputs": [
    {
     "name": "stderr",
     "output_type": "stream",
     "text": [
      "                                                                                \r"
     ]
    }
   ],
   "source": [
    "bins = np.array((1, 5, 6, 8, 10, 12, 15, 18, 21, 24, 28, 32, 37, 43, 49, 56, 64, 74, 84, 97, 114, 133,\n",
    "                 153, 174, 196, 220, 245, 272, 300, 330, 362, 395, 430, 468, 507, 548, 592, 638, 686, 737,\n",
    "                 790, 846, 905, 967, 1032, 1101, 1172, 1248, 1327, 1410, 1497, 1588, 1684, 1784, 1890, 2000,\n",
    "                 2116, 2238, 2366, 2500, 2640, 2787, 2941, 3103, 3273, 3450, 3637, 3832, 4037, 4252, 4477, 4713,\n",
    "                 4961, 5220, 5492, 5777, 6076, 6389, 6717, 7000), dtype=np.double)\n",
    "cnt = len(bins)-1\n",
    "\n",
    "yMin = df_DT.Min(fitParameter)\n",
    "yMax = df_DT.Max(fitParameter)\n",
    "\n",
    "RunGraphs([yMin, yMax])\n",
    "\n",
    "yMin = yMin.GetValue()\n",
    "yMax = yMax.GetValue()\n",
    "\n",
    "yBins = int((yMax - yMin))"
   ]
  },
  {
   "cell_type": "markdown",
   "metadata": {},
   "source": [
    "Histograms"
   ]
  },
  {
   "cell_type": "code",
   "execution_count": 8,
   "metadata": {
    "ExecuteTime": {
     "end_time": "2022-07-28T19:12:15.842839Z",
     "start_time": "2022-07-28T19:11:10.122048Z"
    }
   },
   "outputs": [
    {
     "name": "stderr",
     "output_type": "stream",
     "text": [
      "                                                                                \r"
     ]
    }
   ],
   "source": [
    "DT_Hist = df_DT.Histo2D((\"dtHist\", \"dtHist\", cnt, bins,\n",
    "                         yBins, yMin, yMax), \"pTtag\", fitParameter)\n",
    "MC_recoHist = df_MC.Histo2D(\n",
    "    (\"mcRecoHist\", \"mcRecoHist\", cnt, bins, yBins, yMin, yMax), \"pTtag\", fitParameter)\n",
    "\n",
    "RunGraphs([DT_Hist, MC_recoHist])\n",
    "\n",
    "DT_hist = DT_Hist.GetValue()\n",
    "MC_recoHist = MC_recoHist.GetValue()"
   ]
  },
  {
   "cell_type": "markdown",
   "metadata": {},
   "source": [
    "Save the results"
   ]
  },
  {
   "cell_type": "code",
   "execution_count": 9,
   "metadata": {
    "ExecuteTime": {
     "end_time": "2022-07-28T19:12:16.143609Z",
     "start_time": "2022-07-28T19:12:15.847079Z"
    }
   },
   "outputs": [],
   "source": [
    "myfile = ROOT.TFile( 'histos.root', 'RECREATE' )\n",
    "DT_Hist.Write()\n",
    "MC_recoHist.Write()\n",
    "myfile.Close()"
   ]
  },
  {
   "cell_type": "markdown",
   "metadata": {},
   "source": [
    "## Fits and weights"
   ]
  },
  {
   "cell_type": "markdown",
   "metadata": {},
   "source": [
    "### C++ code for workers\n",
    "\n",
    "Functions and variables for calculating and storing the weighting functions. Should be transferred to .hpp for better performance"
   ]
  },
  {
   "cell_type": "code",
   "execution_count": 10,
   "metadata": {
    "ExecuteTime": {
     "end_time": "2022-07-28T19:12:17.150750Z",
     "start_time": "2022-07-28T19:12:16.149892Z"
    },
    "scrolled": true
   },
   "outputs": [
    {
     "name": "stderr",
     "output_type": "stream",
     "text": [
      "Info in <TCanvas::MakeDefCanvas>:  created default TCanvas with name c1\n"
     ]
    }
   ],
   "source": [
    "def init():\n",
    "    weight_code = \"\"\" \n",
    "    #ifndef MYFUN\n",
    "    #define MYFUN\n",
    "    \n",
    "    #include <map>\n",
    "    #include <string>\n",
    "    \n",
    "    // Dictionary for pT (keys) and function (values) pairs\n",
    "    std::map<Float_t, TF1 *> fitDic; \n",
    "    \n",
    "    // Keys\n",
    "    int bin_count = 79;\n",
    "    std::vector<Float_t> bins{1, 5, 6, 8, 10, 12, 15, 18, 21, 24, 28, 32, 37, 43, 49, 56, 64, 74, 84, 97, 114, 133, 153, 174, 196, 220, 245, 272, 300, 330, 362, 395, 430, 468, 507, 548, 592, 638, 686, 737,790, 846, 905, 967, 1032, 1101, 1172, 1248, 1327, 1410, 1497, 1588, 1684, 1784, 1890, 2000,2116, 2238, 2366, 2500, 2640, 2787, 2941, 3103, 3273, 3450, 3637, 3832, 4037, 4252, 4477, 4713,4961, 5220, 5492, 5777, 6076, 6389, 6717, 7000};  \n",
    "\n",
    "    // Find the last non-empty bin in a histogram\n",
    "    Float_t largestBin(TH1D* histogram) {\n",
    "        int idx, Ncells = histogram->GetNbinsX();\n",
    "        Double_t binContent;\n",
    "\n",
    "        for (int i=Ncells; i>=1; i--) {\n",
    "            binContent = histogram->GetBinContent(i);\n",
    "            if (binContent != 0.0) {\n",
    "                idx = i;\n",
    "                break;\n",
    "            }\n",
    "        }\n",
    "\n",
    "        return histogram->GetXaxis()->GetBinLowEdge(idx+1);\n",
    "    }\n",
    "    \n",
    "    // Find the first non-empty bin in a histogram\n",
    "    Float_t smallestBin(TH1D* histogram) {\n",
    "        int idx, Ncells = histogram->GetNbinsX();\n",
    "        Double_t binContent;\n",
    "\n",
    "        for (int i=1; i<=Ncells; i++) {\n",
    "            binContent = histogram->GetBinContent(i);\n",
    "            if (binContent != 0.0) {\n",
    "                idx = i;\n",
    "                break;\n",
    "            }\n",
    "        }\n",
    "\n",
    "        return histogram->GetXaxis()->GetBinLowEdge(idx);\n",
    "    }    \n",
    "    \n",
    "    // Fill the dictionary with the fitted functions\n",
    "    void initDic(std::string fitName) {\n",
    "        // Histograms for creating the functions with fitting\n",
    "        TFile *f = TFile::Open(\"root://eosuser.cern.ch//eos/user/n/ntoikka/SWAN_projects/CERN_summer2022/weighting/histos.root\");\n",
    "        auto dtHist = (TH2D*)f->Get(\"dtHist\");\n",
    "        auto mcRecoHist = (TH2D*)f->Get(\"mcRecoHist\");\n",
    "    \n",
    "        // Loop through the bins\n",
    "        for(int i=0; i<bin_count; i++) {\n",
    "            std::string dtName = \"dtProj\" + std::to_string(i);\n",
    "            std::string mcName = \"mcProj\" + std::to_string(i);\n",
    "            auto h1 = mcRecoHist->ProjectionY(mcName.c_str(), i+1, i+1);\n",
    "            auto h2 = dtHist->ProjectionY(dtName.c_str(), i+1, i+1);\n",
    "            double_t dtMin = smallestBin(h1);\n",
    "            double_t dtMax = largestBin(h1);\n",
    "\n",
    "\n",
    "            // Check that the projections aren't empty\n",
    "            // If not, scale and create the fit\n",
    "            if ((h1->Integral() != 0.0) && (h2->Integral() != 0.0)) {\n",
    "                h1->Scale(1/(h1->Integral()));\n",
    "                h2->Scale(1/(h2->Integral()));\n",
    "                \n",
    "                h2->Divide(h1);\n",
    "                h2->Fit(fitName.c_str(), \"Q\", \"\", dtMin, dtMax);\n",
    "                fitDic[bins[i]] = h2->GetFunction(fitName.c_str());\n",
    "            } \n",
    "            else {\n",
    "                std::string fName = \"zero\" + std::to_string(i);\n",
    "                fitDic[bins[i]] = new TF1(fName.c_str(), \"0*x\", 0.0, 100.0);\n",
    "            }\n",
    "        }\n",
    "    }\n",
    "    \n",
    "    // Use the dictionary to evaluate Nval according to a given pT and its corresponding function\n",
    "    Float_t create_weight(Float_t pT, int Nval) {\n",
    "        int idx;\n",
    "        Float_t result;\n",
    "        \n",
    "        // Find the correct key\n",
    "        for (int i=0; i < bin_count; i++) {\n",
    "            if((pT >= bins[i]) && (pT < bins[i+1])) {\n",
    "                idx=i;\n",
    "                break;\n",
    "            }\n",
    "        }\n",
    "        result = fitDic[bins[idx]]->Eval(Nval);\n",
    "        if (result > 2.0) {\n",
    "            result = -1.0;\n",
    "        }\n",
    "        return result;\n",
    "    }\n",
    "      \n",
    "    #endif\n",
    "    \"\"\"\n",
    "\n",
    "    ROOT.gInterpreter.Declare(weight_code)\n",
    "    ROOT.initDic(fitFunction)\n",
    "\n",
    "\n",
    "initialize(init)"
   ]
  },
  {
   "cell_type": "markdown",
   "metadata": {},
   "source": [
    "Save the functions for visual checking. Note currently hard coded range!"
   ]
  },
  {
   "cell_type": "code",
   "execution_count": 11,
   "metadata": {
    "ExecuteTime": {
     "end_time": "2022-07-28T19:12:18.620160Z",
     "start_time": "2022-07-28T19:12:17.153785Z"
    },
    "scrolled": false
   },
   "outputs": [
    {
     "name": "stderr",
     "output_type": "stream",
     "text": [
      "Info in <TCanvas::Print>: pdf file ./plots/fits_Jet_nConstituents_chebyshev8.pdf has been created\n"
     ]
    }
   ],
   "source": [
    "%jsroot on\n",
    "canv = ROOT.TCanvas(\"canv\", \"canv\", 800,600)\n",
    "canv.Divide(6,9)\n",
    "\n",
    "empty = False\n",
    "\n",
    "late = ROOT.TLatex()\n",
    "late.SetNDC()\n",
    "\n",
    "for i in range(54):\n",
    "    c = canv.cd(i+1)\n",
    "    dtName = \"dtProj\" + str(i)\n",
    "    mcName = \"mcProj\" + str(i)\n",
    "    h1 = MC_recoHist.ProjectionY(mcName, i+1, i+1)\n",
    "    h2 = DT_Hist.ProjectionY(dtName, i+1, i+1)\n",
    "    dtMin = ROOT.smallestBin(h1)\n",
    "    dtMax = ROOT.largestBin(h1)\n",
    "\n",
    "    if ((h1.Integral() != 0.0) and (h2.Integral() != 0.0)):\n",
    "        h1.Scale(1/(h1.Integral()))\n",
    "        h2.Scale(1/(h2.Integral()))\n",
    "        h2.Divide(h1)\n",
    "        h2.Draw()\n",
    "        h2.Fit(fitFunction, \"Q\", \"\", dtMin, dtMax)\n",
    "        \n",
    "        late.DrawLatex(.575, .6, f'Min: {dtMin}')\n",
    "        late.DrawLatex(.575, .55, f'Max: {dtMax}')\n",
    "    else:\n",
    "        empty = True\n",
    "\n",
    "canv.Print(f\"./plots/fits_{fitParameter}_{fitFunction}.pdf\")"
   ]
  },
  {
   "cell_type": "markdown",
   "metadata": {},
   "source": [
    "### Weights\n",
    "\n",
    "Add a weights column to the MC RDF"
   ]
  },
  {
   "cell_type": "code",
   "execution_count": 12,
   "metadata": {
    "ExecuteTime": {
     "end_time": "2022-07-28T19:12:19.337143Z",
     "start_time": "2022-07-28T19:12:18.622487Z"
    }
   },
   "outputs": [],
   "source": [
    "df_MC1 = df_MC.Define(\"weights\", f\"create_weight(pTtag[0], {fitParameter}[0])\")"
   ]
  },
  {
   "cell_type": "markdown",
   "metadata": {},
   "source": [
    "# Analysis"
   ]
  },
  {
   "cell_type": "markdown",
   "metadata": {},
   "source": [
    "## Distribution of weights"
   ]
  },
  {
   "cell_type": "code",
   "execution_count": 13,
   "metadata": {
    "ExecuteTime": {
     "end_time": "2022-07-28T19:13:25.766967Z",
     "start_time": "2022-07-28T19:12:19.340959Z"
    },
    "scrolled": true
   },
   "outputs": [
    {
     "name": "stderr",
     "output_type": "stream",
     "text": [
      "                                                                                \r"
     ]
    },
    {
     "data": {
      "text/html": [
       "\n",
       "\n",
       "<div id=\"root_plot_1659035605736\"\n",
       "     style=\"width: 696px; height: 472px\">\n",
       "</div>\n",
       "<script>\n",
       "\n",
       "function display_root_plot_1659035605736(Core) {\n",
       "   let obj = Core.parse({\"_typename\":\"TCanvas\",\"fUniqueID\":0,\"fBits\":3342344,\"fLineColor\":1,\"fLineStyle\":1,\"fLineWidth\":1,\"fFillColor\":0,\"fFillStyle\":1001,\"fLeftMargin\":0.1,\"fRightMargin\":0.1,\"fBottomMargin\":0.1,\"fTopMargin\":0.1,\"fXfile\":2,\"fYfile\":2,\"fAfile\":1,\"fXstat\":0.99,\"fYstat\":0.99,\"fAstat\":2,\"fFrameFillColor\":0,\"fFrameLineColor\":1,\"fFrameFillStyle\":1001,\"fFrameLineStyle\":1,\"fFrameLineWidth\":1,\"fFrameBorderSize\":1,\"fFrameBorderMode\":0,\"fX1\":-0.250000018626453,\"fY1\":-32551.839925301,\"fX2\":2.25000001862645,\"fY2\":292966.539925301,\"fXtoAbsPixelk\":69.6000541484835,\"fXtoPixelk\":69.6000541484835,\"fXtoPixel\":278.399995851517,\"fYtoAbsPixelk\":424.800047186661,\"fYtoPixelk\":424.800047186661,\"fYtoPixel\":-0.00144999492875526,\"fUtoAbsPixelk\":5e-5,\"fUtoPixelk\":5e-5,\"fUtoPixel\":696,\"fVtoAbsPixelk\":472.00005,\"fVtoPixelk\":472,\"fVtoPixel\":-472,\"fAbsPixeltoXk\":-0.250000018626453,\"fPixeltoXk\":-0.250000018626453,\"fPixeltoX\":0.00359195407651279,\"fAbsPixeltoYk\":292966.539925301,\"fPixeltoYk\":-32551.839925301,\"fPixeltoY\":-689.657584429242,\"fXlowNDC\":0,\"fYlowNDC\":0,\"fXUpNDC\":1,\"fYUpNDC\":1,\"fWNDC\":1,\"fHNDC\":1,\"fAbsXlowNDC\":0,\"fAbsYlowNDC\":0,\"fAbsWNDC\":1,\"fAbsHNDC\":1,\"fUxmin\":0,\"fUymin\":0,\"fUxmax\":2,\"fUymax\":260414.7,\"fTheta\":30,\"fPhi\":30,\"fAspectRatio\":0,\"fNumber\":0,\"fTickx\":0,\"fTicky\":0,\"fLogx\":0,\"fLogy\":0,\"fLogz\":0,\"fPadPaint\":0,\"fCrosshair\":0,\"fCrosshairPos\":0,\"fBorderSize\":2,\"fBorderMode\":0,\"fModified\":false,\"fGridx\":false,\"fGridy\":false,\"fAbsCoord\":false,\"fEditable\":true,\"fFixedAspectRatio\":false,\"fPrimitives\":{\"_typename\":\"TList\",\"name\":\"TList\",\"arr\":[{\"_typename\":\"TFrame\",\"fUniqueID\":0,\"fBits\":8,\"fLineColor\":1,\"fLineStyle\":1,\"fLineWidth\":1,\"fFillColor\":0,\"fFillStyle\":1001,\"fX1\":0,\"fY1\":0,\"fX2\":2,\"fY2\":260414.7,\"fBorderSize\":1,\"fBorderMode\":0},{\"_typename\":\"TH1D\",\"fUniqueID\":0,\"fBits\":8,\"fName\":\"myhist\",\"fTitle\":\"myhist\",\"fLineColor\":602,\"fLineStyle\":1,\"fLineWidth\":1,\"fFillColor\":0,\"fFillStyle\":1001,\"fMarkerColor\":1,\"fMarkerStyle\":1,\"fMarkerSize\":1,\"fNcells\":102,\"fXaxis\":{\"_typename\":\"TAxis\",\"fUniqueID\":0,\"fBits\":0,\"fName\":\"xaxis\",\"fTitle\":\"\",\"fNdivisions\":510,\"fAxisColor\":1,\"fLabelColor\":1,\"fLabelFont\":42,\"fLabelOffset\":0.005,\"fLabelSize\":0.035,\"fTickLength\":0.03,\"fTitleOffset\":1,\"fTitleSize\":0.035,\"fTitleColor\":1,\"fTitleFont\":42,\"fNbins\":100,\"fXmin\":0,\"fXmax\":2,\"fXbins\":[],\"fFirst\":0,\"fLast\":0,\"fBits2\":0,\"fTimeDisplay\":false,\"fTimeFormat\":\"\",\"fLabels\":null,\"fModLabs\":null},\"fYaxis\":{\"_typename\":\"TAxis\",\"fUniqueID\":0,\"fBits\":0,\"fName\":\"yaxis\",\"fTitle\":\"\",\"fNdivisions\":510,\"fAxisColor\":1,\"fLabelColor\":1,\"fLabelFont\":42,\"fLabelOffset\":0.005,\"fLabelSize\":0.035,\"fTickLength\":0.03,\"fTitleOffset\":0,\"fTitleSize\":0.035,\"fTitleColor\":1,\"fTitleFont\":42,\"fNbins\":1,\"fXmin\":0,\"fXmax\":1,\"fXbins\":[],\"fFirst\":0,\"fLast\":0,\"fBits2\":0,\"fTimeDisplay\":false,\"fTimeFormat\":\"\",\"fLabels\":null,\"fModLabs\":null},\"fZaxis\":{\"_typename\":\"TAxis\",\"fUniqueID\":0,\"fBits\":0,\"fName\":\"zaxis\",\"fTitle\":\"\",\"fNdivisions\":510,\"fAxisColor\":1,\"fLabelColor\":1,\"fLabelFont\":42,\"fLabelOffset\":0.005,\"fLabelSize\":0.035,\"fTickLength\":0.03,\"fTitleOffset\":1,\"fTitleSize\":0.035,\"fTitleColor\":1,\"fTitleFont\":42,\"fNbins\":1,\"fXmin\":0,\"fXmax\":1,\"fXbins\":[],\"fFirst\":0,\"fLast\":0,\"fBits2\":0,\"fTimeDisplay\":false,\"fTimeFormat\":\"\",\"fLabels\":null,\"fModLabs\":null},\"fBarOffset\":0,\"fBarWidth\":1000,\"fEntries\":1652028,\"fTsumw\":1641176,\"fTsumw2\":1641176,\"fTsumwx\":1603748.05341822,\"fTsumwx2\":1583829.45396933,\"fMaximum\":-1111,\"fMinimum\":-1111,\"fNormFactor\":0,\"fContour\":[],\"fSumw2\":[],\"fOption\":\"\",\"fFunctions\":{\"_typename\":\"TList\",\"name\":\"TList\",\"arr\":[{\"_typename\":\"TPaveStats\",\"fUniqueID\":0,\"fBits\":9,\"fLineColor\":1,\"fLineStyle\":1,\"fLineWidth\":1,\"fFillColor\":0,\"fFillStyle\":1001,\"fX1\":1.70000005066395,\"fY1\":219724.906399156,\"fX2\":2.20000006556511,\"fY2\":271807.846011108,\"fX1NDC\":0.780000016093254,\"fY1NDC\":0.775000005960464,\"fX2NDC\":0.980000019073486,\"fY2NDC\":0.935000002384186,\"fBorderSize\":1,\"fInit\":1,\"fShadowColor\":1,\"fCornerRadius\":0,\"fOption\":\"brNDC\",\"fName\":\"stats\",\"fTextAngle\":0,\"fTextSize\":0,\"fTextAlign\":12,\"fTextColor\":1,\"fTextFont\":42,\"fLabel\":\"\",\"fLongest\":18,\"fMargin\":0.05,\"fLines\":{\"_typename\":\"TList\",\"name\":\"TList\",\"arr\":[{\"_typename\":\"TLatex\",\"fUniqueID\":0,\"fBits\":0,\"fName\":\"\",\"fTitle\":\"myhist\",\"fTextAngle\":0,\"fTextSize\":0.0368,\"fTextAlign\":0,\"fTextColor\":0,\"fTextFont\":0,\"fX\":0,\"fY\":0,\"fLineColor\":1,\"fLineStyle\":1,\"fLineWidth\":2,\"fLimitFactorSize\":3,\"fOriginSize\":0.0368000008165836},{\"_typename\":\"TLatex\",\"fUniqueID\":0,\"fBits\":0,\"fName\":\"\",\"fTitle\":\"Entries = 1652028\",\"fTextAngle\":0,\"fTextSize\":0,\"fTextAlign\":0,\"fTextColor\":0,\"fTextFont\":0,\"fX\":0,\"fY\":0,\"fLineColor\":1,\"fLineStyle\":1,\"fLineWidth\":2,\"fLimitFactorSize\":3,\"fOriginSize\":0.04},{\"_typename\":\"TLatex\",\"fUniqueID\":0,\"fBits\":0,\"fName\":\"\",\"fTitle\":\"Mean  = 0.9772\",\"fTextAngle\":0,\"fTextSize\":0,\"fTextAlign\":0,\"fTextColor\":0,\"fTextFont\":0,\"fX\":0,\"fY\":0,\"fLineColor\":1,\"fLineStyle\":1,\"fLineWidth\":2,\"fLimitFactorSize\":3,\"fOriginSize\":0.04},{\"_typename\":\"TLatex\",\"fUniqueID\":0,\"fBits\":0,\"fName\":\"\",\"fTitle\":\"Std Dev   = 0.1007\",\"fTextAngle\":0,\"fTextSize\":0,\"fTextAlign\":0,\"fTextColor\":0,\"fTextFont\":0,\"fX\":0,\"fY\":0,\"fLineColor\":1,\"fLineStyle\":1,\"fLineWidth\":2,\"fLimitFactorSize\":3,\"fOriginSize\":0.04}],\"opt\":[\"\",\"\",\"\",\"\"]},\"fOptFit\":0,\"fOptStat\":1111,\"fFitFormat\":\"5.4g\",\"fStatFormat\":\"6.4g\",\"fParent\":{\"$ref\":3}}],\"opt\":[\"brNDC\"]},\"fBufferSize\":0,\"fBuffer\":[],\"fBinStatErrOpt\":0,\"fStatOverflows\":2,\"fArray\":{\"$arr\":\"Float64\",\"len\":102,\"v\":[10852,23,11,0,0,12,29,16,365,4,139,29,202,15,60,31,68,89,119,260,366,55,188,79,290,178,674,239,483,1556,613,1457,1074,3111,4859,7884,6567,6816,14015,24363,23198,18907,26366,27739,28168,44035,49921,61377,147055,180254,221134,248014,243595,116715,44599,20145,11341,10831,6934,3888,8111,3224,4332,3609,608,565,2348,401,1851,467,313,381,322,273,214,354,74,374,99,120,285,161,139,90,435,32,36,44,275,9,104,150,279,56,52,19,17,175,14,12,197]}},{\"_typename\":\"TPaveText\",\"fUniqueID\":0,\"fBits\":9,\"fLineColor\":1,\"fLineStyle\":1,\"fLineWidth\":1,\"fFillColor\":0,\"fFillStyle\":0,\"fX1\":0.836709767681728,\"fY1\":271476.811146678,\"fX2\":1.16329023231827,\"fY2\":291338.949578241,\"fX1NDC\":0.434683908045977,\"fY1NDC\":0.933983055615829,\"fX2NDC\":0.565316091954023,\"fY2NDC\":0.995000004768372,\"fBorderSize\":0,\"fInit\":1,\"fShadowColor\":1,\"fCornerRadius\":0,\"fOption\":\"blNDC\",\"fName\":\"title\",\"fTextAngle\":0,\"fTextSize\":0,\"fTextAlign\":22,\"fTextColor\":1,\"fTextFont\":42,\"fLabel\":\"\",\"fLongest\":6,\"fMargin\":0.05,\"fLines\":{\"_typename\":\"TList\",\"name\":\"TList\",\"arr\":[{\"_typename\":\"TLatex\",\"fUniqueID\":0,\"fBits\":0,\"fName\":\"\",\"fTitle\":\"myhist\",\"fTextAngle\":0,\"fTextSize\":0,\"fTextAlign\":0,\"fTextColor\":0,\"fTextFont\":0,\"fX\":0,\"fY\":0,\"fLineColor\":1,\"fLineStyle\":1,\"fLineWidth\":2,\"fLimitFactorSize\":3,\"fOriginSize\":0.0518644079566002}],\"opt\":[\"\"]}},{\"_typename\":\"TStyle\",\"fUniqueID\":0,\"fBits\":0,\"fName\":\"Modern\",\"fTitle\":\"Modern Style\",\"fLineColor\":1,\"fLineStyle\":1,\"fLineWidth\":1,\"fFillColor\":19,\"fFillStyle\":1001,\"fMarkerColor\":1,\"fMarkerStyle\":1,\"fMarkerSize\":1,\"fTextAngle\":0,\"fTextSize\":0.05,\"fTextAlign\":11,\"fTextColor\":1,\"fTextFont\":62,\"fXaxis\":{\"_typename\":\"TAttAxis\",\"fNdivisions\":510,\"fAxisColor\":1,\"fLabelColor\":1,\"fLabelFont\":42,\"fLabelOffset\":0.005,\"fLabelSize\":0.035,\"fTickLength\":0.03,\"fTitleOffset\":1,\"fTitleSize\":0.035,\"fTitleColor\":1,\"fTitleFont\":42},\"fYaxis\":{\"_typename\":\"TAttAxis\",\"fNdivisions\":510,\"fAxisColor\":1,\"fLabelColor\":1,\"fLabelFont\":42,\"fLabelOffset\":0.005,\"fLabelSize\":0.035,\"fTickLength\":0.03,\"fTitleOffset\":0,\"fTitleSize\":0.035,\"fTitleColor\":1,\"fTitleFont\":42},\"fZaxis\":{\"_typename\":\"TAttAxis\",\"fNdivisions\":510,\"fAxisColor\":1,\"fLabelColor\":1,\"fLabelFont\":42,\"fLabelOffset\":0.005,\"fLabelSize\":0.035,\"fTickLength\":0.03,\"fTitleOffset\":1,\"fTitleSize\":0.035,\"fTitleColor\":1,\"fTitleFont\":42},\"fBarWidth\":1,\"fBarOffset\":0,\"fColorModelPS\":0,\"fDrawBorder\":0,\"fOptLogx\":0,\"fOptLogy\":0,\"fOptLogz\":0,\"fOptDate\":0,\"fOptStat\":1111,\"fOptTitle\":1,\"fOptFile\":0,\"fOptFit\":0,\"fShowEventStatus\":0,\"fShowEditor\":0,\"fShowToolBar\":0,\"fNumberContours\":20,\"fAttDate\":{\"_typename\":\"TAttText\",\"fTextAngle\":0,\"fTextSize\":0.025,\"fTextAlign\":11,\"fTextColor\":1,\"fTextFont\":62},\"fDateX\":0.01,\"fDateY\":0.01,\"fEndErrorSize\":2,\"fErrorX\":0.5,\"fFuncColor\":2,\"fFuncStyle\":1,\"fFuncWidth\":2,\"fGridColor\":0,\"fGridStyle\":3,\"fGridWidth\":1,\"fLegendBorderSize\":1,\"fLegendFillColor\":0,\"fLegendFont\":42,\"fLegendTextSize\":0,\"fHatchesLineWidth\":1,\"fHatchesSpacing\":1,\"fFrameFillColor\":0,\"fFrameLineColor\":1,\"fFrameFillStyle\":1001,\"fFrameLineStyle\":1,\"fFrameLineWidth\":1,\"fFrameBorderSize\":1,\"fFrameBorderMode\":0,\"fHistFillColor\":0,\"fHistLineColor\":602,\"fHistFillStyle\":1001,\"fHistLineStyle\":1,\"fHistLineWidth\":1,\"fHistMinimumZero\":false,\"fHistTopMargin\":0.05,\"fCanvasPreferGL\":false,\"fCanvasColor\":0,\"fCanvasBorderSize\":2,\"fCanvasBorderMode\":0,\"fCanvasDefH\":500,\"fCanvasDefW\":700,\"fCanvasDefX\":10,\"fCanvasDefY\":10,\"fPadColor\":0,\"fPadBorderSize\":2,\"fPadBorderMode\":0,\"fPadBottomMargin\":0.1,\"fPadTopMargin\":0.1,\"fPadLeftMargin\":0.1,\"fPadRightMargin\":0.1,\"fPadGridX\":false,\"fPadGridY\":false,\"fPadTickX\":0,\"fPadTickY\":0,\"fPaperSizeX\":20,\"fPaperSizeY\":26,\"fScreenFactor\":1,\"fStatColor\":0,\"fStatTextColor\":1,\"fStatBorderSize\":1,\"fStatFont\":42,\"fStatFontSize\":0,\"fStatStyle\":1001,\"fStatFormat\":\"6.4g\",\"fStatX\":0.98,\"fStatY\":0.935,\"fStatW\":0.2,\"fStatH\":0.16,\"fStripDecimals\":true,\"fTitleAlign\":23,\"fTitleColor\":0,\"fTitleTextColor\":1,\"fTitleBorderSize\":0,\"fTitleFont\":42,\"fTitleFontSize\":0.05,\"fTitleStyle\":0,\"fTitleX\":0.5,\"fTitleY\":0.995,\"fTitleW\":0,\"fTitleH\":0,\"fLegoInnerR\":0.5,\"fLineStyles\":[\"\",\"  \",\" 12 12\",\" 4 8\",\" 12 16 4 16\",\" 20 12 4 12\",\" 20 12 4 12 4 12 4 12\",\" 20 20\",\" 20 12 4 12 4 12\",\" 80 20\",\" 80 40 4 40\",\"  \",\"  \",\"  \",\"  \",\"  \",\"  \",\"  \",\"  \",\"  \",\"  \",\"  \",\"  \",\"  \",\"  \",\"  \",\"  \",\"  \",\"  \",\"  \"],\"fHeaderPS\":\"\",\"fTitlePS\":\"\",\"fFitFormat\":\"5.4g\",\"fPaintTextFormat\":\"g\",\"fLineScalePS\":3,\"fJoinLinePS\":0,\"fCapLinePS\":0,\"fTimeOffset\":788918400,\"fImageScaling\":1}],\"opt\":[\"\",\"\",\"blNDC\",\"\"]},\"fExecs\":null,\"fName\":\"c1_n3\",\"fTitle\":\"c1_n3\",\"fNumPaletteColor\":0,\"fNextPaletteColor\":0,\"fDISPLAY\":\"$DISPLAY\",\"fDoubleBuffer\":0,\"fRetained\":true,\"fXsizeUser\":0,\"fYsizeUser\":0,\"fXsizeReal\":20,\"fYsizeReal\":14.28571,\"fWindowTopX\":0,\"fWindowTopY\":0,\"fWindowWidth\":0,\"fWindowHeight\":0,\"fCw\":696,\"fCh\":472,\"fCatt\":{\"_typename\":\"TAttCanvas\",\"fXBetween\":2,\"fYBetween\":2,\"fTitleFromTop\":1.2,\"fXdate\":0.2,\"fYdate\":0.3,\"fAdate\":1},\"kMoveOpaque\":true,\"kResizeOpaque\":true,\"fHighLightColor\":2,\"fBatch\":true,\"kShowEventStatus\":false,\"kAutoExec\":true,\"kMenuBar\":true});\n",
       "   Core.settings.HandleKeys = false;\n",
       "   Core.draw(\"root_plot_1659035605736\", obj, \"\");\n",
       "}\n",
       "\n",
       "function script_load_root_plot_1659035605736(src, on_error) {\n",
       "    let script = document.createElement('script');\n",
       "    script.src = src;\n",
       "    script.onload = function() { display_root_plot_1659035605736(JSROOT); };\n",
       "    script.onerror = function() { script.remove(); on_error(); };\n",
       "    document.head.appendChild(script);\n",
       "}\n",
       "\n",
       "if (typeof requirejs !== 'undefined') {\n",
       "\n",
       "    // We are in jupyter notebooks, use require.js which should be configured already\n",
       "    requirejs.config({\n",
       "       paths: { 'JSRootCore' : [ 'scripts/JSRoot.core', 'https://root.cern/js/6.3.4/scripts/JSRoot.core.min', 'https://jsroot.gsi.de/6.3.4/scripts/JSRoot.core.min' ] }\n",
       "    })(['JSRootCore'],  function(Core) {\n",
       "       display_root_plot_1659035605736(Core);\n",
       "    });\n",
       "\n",
       "} else if (typeof JSROOT !== 'undefined') {\n",
       "\n",
       "   // JSROOT already loaded, just use it\n",
       "   display_root_plot_1659035605736(JSROOT);\n",
       "\n",
       "} else {\n",
       "\n",
       "    // We are in jupyterlab without require.js, directly loading jsroot\n",
       "    // Jupyterlab might be installed in a different base_url so we need to know it.\n",
       "    try {\n",
       "        var base_url = JSON.parse(document.getElementById('jupyter-config-data').innerHTML).baseUrl;\n",
       "    } catch(_) {\n",
       "        var base_url = '/';\n",
       "    }\n",
       "\n",
       "    // Try loading a local version of requirejs and fallback to cdn if not possible.\n",
       "    script_load_root_plot_1659035605736(base_url + 'static/scripts/JSRoot.core.js', function(){\n",
       "        console.error('Fail to load JSROOT locally, please check your jupyter_notebook_config.py file');\n",
       "        script_load_root_plot_1659035605736('https://root.cern/js/6.3.4/scripts/JSRoot.core.min.js', function(){\n",
       "            document.getElementById(\"root_plot_1659035605736\").innerHTML = \"Failed to load JSROOT\";\n",
       "        });\n",
       "    });\n",
       "}\n",
       "\n",
       "</script>\n"
      ],
      "text/plain": [
       "<IPython.core.display.HTML object>"
      ]
     },
     "metadata": {},
     "output_type": "display_data"
    }
   ],
   "source": [
    "%jsroot on\n",
    "h = df_MC1.Histo1D(('myhist', 'myhist', 100, 0, 2), \"weights\")\n",
    "c = ROOT.TCanvas()\n",
    "h.Draw()\n",
    "c.Draw()"
   ]
  },
  {
   "cell_type": "markdown",
   "metadata": {},
   "source": [
    "## Weighted vs non-weighted vs real data"
   ]
  },
  {
   "cell_type": "markdown",
   "metadata": {},
   "source": [
    "### Direct comparsion"
   ]
  },
  {
   "cell_type": "code",
   "execution_count": 23,
   "metadata": {
    "ExecuteTime": {
     "end_time": "2022-07-28T19:17:26.447167Z",
     "start_time": "2022-07-28T19:15:59.440510Z"
    }
   },
   "outputs": [
    {
     "name": "stderr",
     "output_type": "stream",
     "text": [
      "                                                                                \r"
     ]
    }
   ],
   "source": [
    "h1 = df_DT.Profile1D(('dt', 'dt', cnt, bins), \"pTtag\", fitParameter)\n",
    "h2 = df_MC1.Profile1D(('w', 'w', cnt, bins), \"pTtag\", fitParameter, \"weights\")\n",
    "h3 = df_MC1.Profile1D(('nw', 'nw', cnt, bins), \"pTtag\", fitParameter)\n",
    "\n",
    "RunGraphs([h1, h2, h3])\n",
    "\n",
    "h11 = h1.GetValue()\n",
    "h21 = h2.GetValue()\n",
    "h31 = h3.GetValue()"
   ]
  },
  {
   "cell_type": "code",
   "execution_count": 24,
   "metadata": {
    "ExecuteTime": {
     "end_time": "2022-07-28T19:17:26.607206Z",
     "start_time": "2022-07-28T19:17:26.452137Z"
    },
    "scrolled": true
   },
   "outputs": [
    {
     "name": "stderr",
     "output_type": "stream",
     "text": [
      "Info in <TCanvas::Print>: pdf file ./plots/direct_Jet_nConstituents_chebyshev8.pdf has been created\n"
     ]
    },
    {
     "data": {
      "text/html": [
       "\n",
       "\n",
       "<div id=\"root_plot_1659035846599\"\n",
       "     style=\"width: 696px; height: 472px\">\n",
       "</div>\n",
       "<script>\n",
       "\n",
       "function display_root_plot_1659035846599(Core) {\n",
       "   let obj = Core.parse({\"_typename\":\"TCanvas\",\"fUniqueID\":0,\"fBits\":3342344,\"fLineColor\":1,\"fLineStyle\":1,\"fLineWidth\":1,\"fFillColor\":0,\"fFillStyle\":1001,\"fLeftMargin\":0.1,\"fRightMargin\":0.1,\"fBottomMargin\":0.1,\"fTopMargin\":0.1,\"fXfile\":2,\"fYfile\":2,\"fAfile\":1,\"fXstat\":0.99,\"fYstat\":0.99,\"fAstat\":2,\"fFrameFillColor\":0,\"fFrameLineColor\":1,\"fFrameFillStyle\":1001,\"fFrameLineStyle\":1,\"fFrameLineWidth\":1,\"fFrameBorderSize\":1,\"fFrameBorderMode\":0,\"fX1\":-334.794322215258,\"fY1\":4.99999962747095,\"fX2\":2137.1993855064,\"fY2\":55.0000003725291,\"fXtoAbsPixelk\":94.2627690085295,\"fXtoPixelk\":94.2627690085295,\"fXtoPixel\":0.281554114731739,\"fYtoAbsPixelk\":519.200045779991,\"fYtoPixelk\":519.200045779991,\"fYtoPixel\":-9.43999985933303,\"fUtoAbsPixelk\":5e-5,\"fUtoPixelk\":5e-5,\"fUtoPixel\":696,\"fVtoAbsPixelk\":472.00005,\"fVtoPixelk\":472,\"fVtoPixel\":-472,\"fAbsPixeltoXk\":-334.794322215258,\"fPixeltoXk\":-334.794322215258,\"fPixeltoX\":3.55171509730123,\"fAbsPixeltoYk\":55.0000003725291,\"fPixeltoYk\":4.99999962747095,\"fPixeltoY\":-0.105932204968343,\"fXlowNDC\":0,\"fYlowNDC\":0,\"fXUpNDC\":1,\"fYUpNDC\":1,\"fWNDC\":1,\"fHNDC\":1,\"fAbsXlowNDC\":0,\"fAbsYlowNDC\":0,\"fAbsWNDC\":1,\"fAbsHNDC\":1,\"fUxmin\":-87.5949367088608,\"fUymin\":10,\"fUxmax\":1890,\"fUymax\":50,\"fTheta\":30,\"fPhi\":30,\"fAspectRatio\":0,\"fNumber\":0,\"fTickx\":0,\"fTicky\":0,\"fLogx\":0,\"fLogy\":0,\"fLogz\":0,\"fPadPaint\":0,\"fCrosshair\":0,\"fCrosshairPos\":0,\"fBorderSize\":2,\"fBorderMode\":0,\"fModified\":false,\"fGridx\":false,\"fGridy\":false,\"fAbsCoord\":false,\"fEditable\":true,\"fFixedAspectRatio\":false,\"fPrimitives\":{\"_typename\":\"TList\",\"name\":\"TList\",\"arr\":[{\"_typename\":\"TFrame\",\"fUniqueID\":0,\"fBits\":8,\"fLineColor\":1,\"fLineStyle\":1,\"fLineWidth\":1,\"fFillColor\":0,\"fFillStyle\":1001,\"fX1\":-87.5949367088608,\"fY1\":10,\"fX2\":1890,\"fY2\":50,\"fBorderSize\":1,\"fBorderMode\":0},{\"_typename\":\"TProfile\",\"fUniqueID\":0,\"fBits\":8,\"fName\":\"dt\",\"fTitle\":\"dt\",\"fLineColor\":924,\"fLineStyle\":1,\"fLineWidth\":1,\"fFillColor\":0,\"fFillStyle\":1001,\"fMarkerColor\":924,\"fMarkerStyle\":1,\"fMarkerSize\":1,\"fNcells\":81,\"fXaxis\":{\"_typename\":\"TAxis\",\"fUniqueID\":0,\"fBits\":2048,\"fName\":\"xaxis\",\"fTitle\":\"\",\"fNdivisions\":510,\"fAxisColor\":1,\"fLabelColor\":1,\"fLabelFont\":42,\"fLabelOffset\":0.005,\"fLabelSize\":0.035,\"fTickLength\":0.03,\"fTitleOffset\":1,\"fTitleSize\":0.035,\"fTitleColor\":1,\"fTitleFont\":42,\"fNbins\":79,\"fXmin\":1,\"fXmax\":7000,\"fXbins\":{\"$arr\":\"Float64\",\"len\":80,\"v\":[1,5,6,8,10,12,15,18,21,24,28,32,37,43,49,56,64,74,84,97,114,133,153,174,196,220,245,272,300,330,362,395,430,468,507,548,592,638,686,737,790,846,905,967,1032,1101,1172,1248,1327,1410,1497,1588,1684,1784,1890,2000,2116,2238,2366,2500,2640,2787,2941,3103,3273,3450,3637,3832,4037,4252,4477,4713,4961,5220,5492,5777,6076,6389,6717,7000]},\"fFirst\":0,\"fLast\":54,\"fBits2\":0,\"fTimeDisplay\":false,\"fTimeFormat\":\"\",\"fLabels\":null,\"fModLabs\":null},\"fYaxis\":{\"_typename\":\"TAxis\",\"fUniqueID\":0,\"fBits\":0,\"fName\":\"yaxis\",\"fTitle\":\"\",\"fNdivisions\":510,\"fAxisColor\":1,\"fLabelColor\":1,\"fLabelFont\":42,\"fLabelOffset\":0.005,\"fLabelSize\":0.035,\"fTickLength\":0.03,\"fTitleOffset\":0,\"fTitleSize\":0.035,\"fTitleColor\":1,\"fTitleFont\":42,\"fNbins\":1,\"fXmin\":0,\"fXmax\":1,\"fXbins\":[],\"fFirst\":0,\"fLast\":0,\"fBits2\":0,\"fTimeDisplay\":false,\"fTimeFormat\":\"\",\"fLabels\":null,\"fModLabs\":null},\"fZaxis\":{\"_typename\":\"TAxis\",\"fUniqueID\":0,\"fBits\":0,\"fName\":\"zaxis\",\"fTitle\":\"\",\"fNdivisions\":510,\"fAxisColor\":1,\"fLabelColor\":1,\"fLabelFont\":42,\"fLabelOffset\":0.005,\"fLabelSize\":0.035,\"fTickLength\":0.03,\"fTitleOffset\":1,\"fTitleSize\":0.035,\"fTitleColor\":1,\"fTitleFont\":42,\"fNbins\":1,\"fXmin\":0,\"fXmax\":1,\"fXbins\":[],\"fFirst\":0,\"fLast\":0,\"fBits2\":0,\"fTimeDisplay\":false,\"fTimeFormat\":\"\",\"fLabels\":null,\"fModLabs\":null},\"fBarOffset\":0,\"fBarWidth\":1000,\"fEntries\":405936,\"fTsumw\":405936,\"fTsumw2\":405936,\"fTsumwx\":243798028.25,\"fTsumwx2\":179853867390.906,\"fMaximum\":50,\"fMinimum\":10,\"fNormFactor\":0,\"fContour\":[],\"fSumw2\":{\"$arr\":\"Float64\",\"len\":81,\"p\":17,\"v\":[425506,916216,2610359,4499216,6827570,7315052,4975492,3131116,9046070,12778965,10164599,14355785,18823871,22659001,24095663,30448182,34773061,34038472,32409267,32768981,31238262,24392743,52016957,74822235,64136838,49568088,34742769,24135348,17314695,11881734,8712420,5731528,3947965,2802746,1859837,1211061,156285]},\"fOption\":\"\",\"fFunctions\":{\"_typename\":\"TList\",\"name\":\"TList\",\"arr\":[{\"_typename\":\"TPaveStats\",\"fUniqueID\":0,\"fBits\":9,\"fLineColor\":1,\"fLineStyle\":1,\"fLineWidth\":1,\"fFillColor\":0,\"fFillStyle\":1001,\"fX1\":1593.36080959006,\"fY1\":39.7500005327165,\"fX2\":2087.7595585015,\"fY2\":51.7500004433096,\"fX1NDC\":0.780000016093254,\"fY1NDC\":0.695000007748604,\"fX2NDC\":0.980000019073486,\"fY2NDC\":0.935000002384186,\"fBorderSize\":1,\"fInit\":1,\"fShadowColor\":1,\"fCornerRadius\":0,\"fOption\":\"brNDC\",\"fName\":\"stats\",\"fTextAngle\":0,\"fTextSize\":0,\"fTextAlign\":12,\"fTextColor\":1,\"fTextFont\":42,\"fLabel\":\"\",\"fLongest\":18,\"fMargin\":0.05,\"fLines\":{\"_typename\":\"TList\",\"name\":\"TList\",\"arr\":[{\"_typename\":\"TLatex\",\"fUniqueID\":0,\"fBits\":0,\"fName\":\"\",\"fTitle\":\"dt\",\"fTextAngle\":0,\"fTextSize\":0.0368,\"fTextAlign\":0,\"fTextColor\":0,\"fTextFont\":0,\"fX\":0,\"fY\":0,\"fLineColor\":1,\"fLineStyle\":1,\"fLineWidth\":2,\"fLimitFactorSize\":3,\"fOriginSize\":0.0367999991774559},{\"_typename\":\"TLatex\",\"fUniqueID\":0,\"fBits\":0,\"fName\":\"\",\"fTitle\":\"Entries = 405936 \",\"fTextAngle\":0,\"fTextSize\":0,\"fTextAlign\":0,\"fTextColor\":0,\"fTextFont\":0,\"fX\":0,\"fY\":0,\"fLineColor\":1,\"fLineStyle\":1,\"fLineWidth\":2,\"fLimitFactorSize\":3,\"fOriginSize\":0.0330444239079952},{\"_typename\":\"TLatex\",\"fUniqueID\":0,\"fBits\":0,\"fName\":\"\",\"fTitle\":\"Mean  =  601.2\",\"fTextAngle\":0,\"fTextSize\":0,\"fTextAlign\":0,\"fTextColor\":0,\"fTextFont\":0,\"fX\":0,\"fY\":0,\"fLineColor\":1,\"fLineStyle\":1,\"fLineWidth\":2,\"fLimitFactorSize\":3,\"fOriginSize\":0.0330444239079952},{\"_typename\":\"TLatex\",\"fUniqueID\":0,\"fBits\":0,\"fName\":\"\",\"fTitle\":\"Mean y =  39.55\",\"fTextAngle\":0,\"fTextSize\":0,\"fTextAlign\":0,\"fTextColor\":0,\"fTextFont\":0,\"fX\":0,\"fY\":0,\"fLineColor\":1,\"fLineStyle\":1,\"fLineWidth\":2,\"fLimitFactorSize\":3,\"fOriginSize\":0.0330444239079952},{\"_typename\":\"TLatex\",\"fUniqueID\":0,\"fBits\":0,\"fName\":\"\",\"fTitle\":\"Std Dev   =  287.5\",\"fTextAngle\":0,\"fTextSize\":0,\"fTextAlign\":0,\"fTextColor\":0,\"fTextFont\":0,\"fX\":0,\"fY\":0,\"fLineColor\":1,\"fLineStyle\":1,\"fLineWidth\":2,\"fLimitFactorSize\":3,\"fOriginSize\":0.0330444239079952},{\"_typename\":\"TLatex\",\"fUniqueID\":0,\"fBits\":0,\"fName\":\"\",\"fTitle\":\"Std Dev y =  14.11\",\"fTextAngle\":0,\"fTextSize\":0,\"fTextAlign\":0,\"fTextColor\":0,\"fTextFont\":0,\"fX\":0,\"fY\":0,\"fLineColor\":1,\"fLineStyle\":1,\"fLineWidth\":2,\"fLimitFactorSize\":3,\"fOriginSize\":0.0330444239079952}],\"opt\":[\"\",\"\",\"\",\"\",\"\",\"\"]},\"fOptFit\":0,\"fOptStat\":1111,\"fFitFormat\":\"5.4g\",\"fStatFormat\":\"6.4g\",\"fParent\":{\"$ref\":3}}],\"opt\":[\"brNDC\"]},\"fBufferSize\":0,\"fBuffer\":[],\"fBinStatErrOpt\":0,\"fStatOverflows\":2,\"fArray\":{\"$arr\":\"Float64\",\"len\":81,\"p\":17,\"v\":[16286,33536,90203,147366,211578,219970,144950,87946,243018,337169,263075,360801,464215,548451,573445,709746,803019,774048,726715,723097,685118,526067,1098571,1574119,1352036,1032994,722591,497388,355639,242032,176172,116384,79049,54672,36475,23703,3061]},\"fBinEntries\":{\"$arr\":\"Float64\",\"len\":81,\"p\":17,\"v\":[668,1315,3350,5206,7092,7159,4586,2694,7128,9734,7487,9968,12655,14670,15105,18360,20609,19615,18229,17868,16802,12743,25993,37179,32037,24271,16924,11558,8237,5587,4017,2671,1791,1217,818,526,67]},\"fErrorMode\":0,\"fYmin\":0,\"fYmax\":0,\"fTsumwy\":16054705,\"fTsumwy2\":715733955,\"fBinSumw2\":[]},{\"_typename\":\"TProfile\",\"fUniqueID\":0,\"fBits\":8,\"fName\":\"w\",\"fTitle\":\"w\",\"fLineColor\":1051,\"fLineStyle\":1,\"fLineWidth\":1,\"fFillColor\":0,\"fFillStyle\":1001,\"fMarkerColor\":1051,\"fMarkerStyle\":1,\"fMarkerSize\":1,\"fNcells\":81,\"fXaxis\":{\"_typename\":\"TAxis\",\"fUniqueID\":0,\"fBits\":0,\"fName\":\"xaxis\",\"fTitle\":\"\",\"fNdivisions\":510,\"fAxisColor\":1,\"fLabelColor\":1,\"fLabelFont\":42,\"fLabelOffset\":0.005,\"fLabelSize\":0.035,\"fTickLength\":0.03,\"fTitleOffset\":1,\"fTitleSize\":0.035,\"fTitleColor\":1,\"fTitleFont\":42,\"fNbins\":79,\"fXmin\":1,\"fXmax\":7000,\"fXbins\":{\"$arr\":\"Float64\",\"len\":80,\"v\":[1,5,6,8,10,12,15,18,21,24,28,32,37,43,49,56,64,74,84,97,114,133,153,174,196,220,245,272,300,330,362,395,430,468,507,548,592,638,686,737,790,846,905,967,1032,1101,1172,1248,1327,1410,1497,1588,1684,1784,1890,2000,2116,2238,2366,2500,2640,2787,2941,3103,3273,3450,3637,3832,4037,4252,4477,4713,4961,5220,5492,5777,6076,6389,6717,7000]},\"fFirst\":0,\"fLast\":0,\"fBits2\":0,\"fTimeDisplay\":false,\"fTimeFormat\":\"\",\"fLabels\":null,\"fModLabs\":null},\"fYaxis\":{\"_typename\":\"TAxis\",\"fUniqueID\":0,\"fBits\":0,\"fName\":\"yaxis\",\"fTitle\":\"\",\"fNdivisions\":510,\"fAxisColor\":1,\"fLabelColor\":1,\"fLabelFont\":42,\"fLabelOffset\":0.005,\"fLabelSize\":0.035,\"fTickLength\":0.03,\"fTitleOffset\":0,\"fTitleSize\":0.035,\"fTitleColor\":1,\"fTitleFont\":42,\"fNbins\":1,\"fXmin\":0,\"fXmax\":1,\"fXbins\":[],\"fFirst\":0,\"fLast\":0,\"fBits2\":0,\"fTimeDisplay\":false,\"fTimeFormat\":\"\",\"fLabels\":null,\"fModLabs\":null},\"fZaxis\":{\"_typename\":\"TAxis\",\"fUniqueID\":0,\"fBits\":0,\"fName\":\"zaxis\",\"fTitle\":\"\",\"fNdivisions\":510,\"fAxisColor\":1,\"fLabelColor\":1,\"fLabelFont\":42,\"fLabelOffset\":0.005,\"fLabelSize\":0.035,\"fTickLength\":0.03,\"fTitleOffset\":1,\"fTitleSize\":0.035,\"fTitleColor\":1,\"fTitleFont\":42,\"fNbins\":1,\"fXmin\":0,\"fXmax\":1,\"fXbins\":[],\"fFirst\":0,\"fLast\":0,\"fBits2\":0,\"fTimeDisplay\":false,\"fTimeFormat\":\"\",\"fLabels\":null,\"fModLabs\":null},\"fBarOffset\":0,\"fBarWidth\":1000,\"fEntries\":1652028,\"fTsumw\":-13356364467.8787,\"fTsumw2\":160744683673125024,\"fTsumwx\":-940248853029.789,\"fTsumwx2\":-65083079673377.4,\"fMaximum\":-1111,\"fMinimum\":-1111,\"fNormFactor\":0,\"fContour\":[],\"fSumw2\":{\"$arr\":\"Float64\",\"len\":81,\"p\":17,\"v\":[-8258019283915.88,9113597.1699838,16522106.3524062,25249959.0585544,31597935.7335885,34166239.0723868,35979863.4995614,37180125.0056488,42759953.5670934,44435198.2591182,46711392.5877693,50361630.7162831,49460818.0813171,56652324.4540028,58130774.8664165,61843744.8884397,67746789.0196282,69305132.6560107,71829243.6521102,78486505.1329097,81945637.3192437,86525924.20011,95161154.2281282,99390154.1791023,102440912.34307,109067416.360241,114962207.97285,122921102.671391,126941682.856811,131017941.844527,141113207.131426,141682670.636716,153823176.146526,150477106.868077,155687578.546018,145978067.298494,-99862859.8128043]},\"fOption\":\"\",\"fFunctions\":{\"_typename\":\"TList\",\"name\":\"TList\",\"arr\":[],\"opt\":[]},\"fBufferSize\":0,\"fBuffer\":[],\"fBinStatErrOpt\":0,\"fStatOverflows\":2,\"fArray\":{\"$arr\":\"Float64\",\"len\":81,\"p\":17,\"v\":[-308591471558.375,334504.142698348,573466.932015471,829978.641429961,983658.571209848,1030925.73042902,1053545.25381136,1057471.71880645,1155401.57980144,1177121.59917618,1218625.63121939,1269448.36452063,1258310.11630143,1376599.05478564,1389162.5491432,1448120.02352583,1569810.53540863,1585053.01855236,1620682.19225031,1741120.97113051,1810050.03063505,1877723.5736433,2012353.72970521,2098996.99857526,2164376.50577605,2287692.39426234,2401130.12075031,2534609.30330628,2629646.58150506,2692352.14421141,2882554.60375518,2922425.23238778,3097832.42710143,3041161.19988108,3109162.1542666,3030616.02701026,-467746.126295678]},\"fBinEntries\":{\"$arr\":\"Float64\",\"len\":81,\"p\":17,\"v\":[-13357955765,13079.2957764864,21336.9751650011,29349.3155255318,33043.8711294532,33562.9469405301,33363.404592514,32551.8962658644,33892.5896568298,33945.987820074,34717.8305233419,34974.9432408288,34759.3847454647,36873.4421156943,36635.2719745636,37522.5592016578,40299.9471328855,40228.4240582287,40723.6873531044,43006.2951446399,44424.0538926534,45560.7290758081,47572.9058843255,49616.1635129731,51274.8497128598,53856.3269843757,56319.8822927475,58828.8195135593,61163.0191675425,62333.0063647628,65932.6841453835,67566.1026596427,70192.9426232874,68956.1735318303,69660.6096714139,69580.04201442,4590.74193084985]},\"fErrorMode\":0,\"fYmin\":0,\"fYmax\":0,\"fTsumwy\":-308528673614.845,\"fTsumwy2\":-8255272477501.27,\"fBinSumw2\":[]},{\"_typename\":\"TProfile\",\"fUniqueID\":0,\"fBits\":8,\"fName\":\"nw\",\"fTitle\":\"nw\",\"fLineColor\":1178,\"fLineStyle\":1,\"fLineWidth\":1,\"fFillColor\":0,\"fFillStyle\":1001,\"fMarkerColor\":1178,\"fMarkerStyle\":1,\"fMarkerSize\":1,\"fNcells\":81,\"fXaxis\":{\"_typename\":\"TAxis\",\"fUniqueID\":0,\"fBits\":0,\"fName\":\"xaxis\",\"fTitle\":\"\",\"fNdivisions\":510,\"fAxisColor\":1,\"fLabelColor\":1,\"fLabelFont\":42,\"fLabelOffset\":0.005,\"fLabelSize\":0.035,\"fTickLength\":0.03,\"fTitleOffset\":1,\"fTitleSize\":0.035,\"fTitleColor\":1,\"fTitleFont\":42,\"fNbins\":79,\"fXmin\":1,\"fXmax\":7000,\"fXbins\":{\"$arr\":\"Float64\",\"len\":80,\"v\":[1,5,6,8,10,12,15,18,21,24,28,32,37,43,49,56,64,74,84,97,114,133,153,174,196,220,245,272,300,330,362,395,430,468,507,548,592,638,686,737,790,846,905,967,1032,1101,1172,1248,1327,1410,1497,1588,1684,1784,1890,2000,2116,2238,2366,2500,2640,2787,2941,3103,3273,3450,3637,3832,4037,4252,4477,4713,4961,5220,5492,5777,6076,6389,6717,7000]},\"fFirst\":0,\"fLast\":0,\"fBits2\":0,\"fTimeDisplay\":false,\"fTimeFormat\":\"\",\"fLabels\":null,\"fModLabs\":null},\"fYaxis\":{\"_typename\":\"TAxis\",\"fUniqueID\":0,\"fBits\":0,\"fName\":\"yaxis\",\"fTitle\":\"\",\"fNdivisions\":510,\"fAxisColor\":1,\"fLabelColor\":1,\"fLabelFont\":42,\"fLabelOffset\":0.005,\"fLabelSize\":0.035,\"fTickLength\":0.03,\"fTitleOffset\":0,\"fTitleSize\":0.035,\"fTitleColor\":1,\"fTitleFont\":42,\"fNbins\":1,\"fXmin\":0,\"fXmax\":1,\"fXbins\":[],\"fFirst\":0,\"fLast\":0,\"fBits2\":0,\"fTimeDisplay\":false,\"fTimeFormat\":\"\",\"fLabels\":null,\"fModLabs\":null},\"fZaxis\":{\"_typename\":\"TAxis\",\"fUniqueID\":0,\"fBits\":0,\"fName\":\"zaxis\",\"fTitle\":\"\",\"fNdivisions\":510,\"fAxisColor\":1,\"fLabelColor\":1,\"fLabelFont\":42,\"fLabelOffset\":0.005,\"fLabelSize\":0.035,\"fTickLength\":0.03,\"fTitleOffset\":1,\"fTitleSize\":0.035,\"fTitleColor\":1,\"fTitleFont\":42,\"fNbins\":1,\"fXmin\":0,\"fXmax\":1,\"fXbins\":[],\"fFirst\":0,\"fLast\":0,\"fBits2\":0,\"fTimeDisplay\":false,\"fTimeFormat\":\"\",\"fLabels\":null,\"fModLabs\":null},\"fBarOffset\":0,\"fBarWidth\":1000,\"fEntries\":1652028,\"fTsumw\":1652028,\"fTsumw2\":1652028,\"fTsumwx\":1325235648,\"fTsumwx2\":1451650587148.11,\"fMaximum\":-1111,\"fMinimum\":-1111,\"fNormFactor\":0,\"fContour\":[],\"fSumw2\":{\"$arr\":\"Float64\",\"len\":81,\"p\":17,\"v\":[3636921,9637702,16969644,25822143,31889652,35137370,37413364,39593593,42973072,45288963,47978337,50740524,53392433,57298106,59293158,62335101,69026758,70833414,73420596,80102618,83997966,88797147,94522460,100755988,105821539,113126612,120206731,127854976,136284845,141317507,151177250,158973185,168575457,175063712,182580185,191316833,31951884]},\"fOption\":\"\",\"fFunctions\":{\"_typename\":\"TList\",\"name\":\"TList\",\"arr\":[],\"opt\":[]},\"fBufferSize\":0,\"fBuffer\":[],\"fBinStatErrOpt\":0,\"fStatOverflows\":2,\"fArray\":{\"$arr\":\"Float64\",\"len\":81,\"p\":17,\"v\":[136881,347182,584490,843927,991706,1049328,1079660,1106487,1166252,1194799,1240805,1279196,1321785,1390638,1407900,1457611,1588510,1609188,1646452,1769228,1838102,1911529,2009384,2115924,2202055,2333488,2459335,2590664,2733485,2813905,2997624,3121057,3285225,3397532,3521613,3668867,613994]},\"fBinEntries\":{\"$arr\":\"Float64\",\"len\":81,\"p\":17,\"v\":[5516,13415,21617,29649,33264,33872,33765,33603,34475,34396,35160,35439,36059,37282,37030,37810,40638,40673,41178,43611,45014,46186,47976,49942,51593,54270,56817,59392,62170,63525,67538,69699,72906,75133,77551,80386,13478]},\"fErrorMode\":0,\"fYmin\":0,\"fYmax\":0,\"fTsumwy\":66825808,\"fTsumwy2\":3085107746,\"fBinSumw2\":[]},{\"_typename\":\"TPaveText\",\"fUniqueID\":0,\"fBits\":9,\"fLineColor\":1,\"fLineStyle\":1,\"fLineWidth\":1,\"fFillColor\":0,\"fFillStyle\":0,\"fX1\":837.41372849804,\"fY1\":52.000000525266,\"fX2\":964.9913347931,\"fY2\":54.7500006072223,\"fX1NDC\":0.474195402298851,\"fY1NDC\":0.940000003948808,\"fX2NDC\":0.525804597701149,\"fY2NDC\":0.995000004768372,\"fBorderSize\":0,\"fInit\":1,\"fShadowColor\":1,\"fCornerRadius\":0,\"fOption\":\"blNDC\",\"fName\":\"title\",\"fTextAngle\":0,\"fTextSize\":0,\"fTextAlign\":22,\"fTextColor\":1,\"fTextFont\":42,\"fLabel\":\"\",\"fLongest\":2,\"fMargin\":0.05,\"fLines\":{\"_typename\":\"TList\",\"name\":\"TList\",\"arr\":[{\"_typename\":\"TLatex\",\"fUniqueID\":0,\"fBits\":0,\"fName\":\"\",\"fTitle\":\"dt\",\"fTextAngle\":0,\"fTextSize\":0,\"fTextAlign\":0,\"fTextColor\":0,\"fTextFont\":0,\"fX\":0,\"fY\":0,\"fLineColor\":1,\"fLineStyle\":1,\"fLineWidth\":2,\"fLimitFactorSize\":3,\"fOriginSize\":0.0467500016093254}],\"opt\":[\"\"]}},{\"_typename\":\"TStyle\",\"fUniqueID\":0,\"fBits\":0,\"fName\":\"Modern\",\"fTitle\":\"Modern Style\",\"fLineColor\":1,\"fLineStyle\":1,\"fLineWidth\":1,\"fFillColor\":19,\"fFillStyle\":1001,\"fMarkerColor\":1,\"fMarkerStyle\":1,\"fMarkerSize\":1,\"fTextAngle\":0,\"fTextSize\":0.05,\"fTextAlign\":11,\"fTextColor\":1,\"fTextFont\":62,\"fXaxis\":{\"_typename\":\"TAttAxis\",\"fNdivisions\":510,\"fAxisColor\":1,\"fLabelColor\":1,\"fLabelFont\":42,\"fLabelOffset\":0.005,\"fLabelSize\":0.035,\"fTickLength\":0.03,\"fTitleOffset\":1,\"fTitleSize\":0.035,\"fTitleColor\":1,\"fTitleFont\":42},\"fYaxis\":{\"_typename\":\"TAttAxis\",\"fNdivisions\":510,\"fAxisColor\":1,\"fLabelColor\":1,\"fLabelFont\":42,\"fLabelOffset\":0.005,\"fLabelSize\":0.035,\"fTickLength\":0.03,\"fTitleOffset\":0,\"fTitleSize\":0.035,\"fTitleColor\":1,\"fTitleFont\":42},\"fZaxis\":{\"_typename\":\"TAttAxis\",\"fNdivisions\":510,\"fAxisColor\":1,\"fLabelColor\":1,\"fLabelFont\":42,\"fLabelOffset\":0.005,\"fLabelSize\":0.035,\"fTickLength\":0.03,\"fTitleOffset\":1,\"fTitleSize\":0.035,\"fTitleColor\":1,\"fTitleFont\":42},\"fBarWidth\":1,\"fBarOffset\":0,\"fColorModelPS\":0,\"fDrawBorder\":0,\"fOptLogx\":0,\"fOptLogy\":0,\"fOptLogz\":0,\"fOptDate\":0,\"fOptStat\":1111,\"fOptTitle\":1,\"fOptFile\":0,\"fOptFit\":0,\"fShowEventStatus\":0,\"fShowEditor\":0,\"fShowToolBar\":0,\"fNumberContours\":20,\"fAttDate\":{\"_typename\":\"TAttText\",\"fTextAngle\":0,\"fTextSize\":0.025,\"fTextAlign\":11,\"fTextColor\":1,\"fTextFont\":62},\"fDateX\":0.01,\"fDateY\":0.01,\"fEndErrorSize\":2,\"fErrorX\":0.5,\"fFuncColor\":2,\"fFuncStyle\":1,\"fFuncWidth\":2,\"fGridColor\":0,\"fGridStyle\":3,\"fGridWidth\":1,\"fLegendBorderSize\":1,\"fLegendFillColor\":0,\"fLegendFont\":42,\"fLegendTextSize\":0,\"fHatchesLineWidth\":1,\"fHatchesSpacing\":1,\"fFrameFillColor\":0,\"fFrameLineColor\":1,\"fFrameFillStyle\":1001,\"fFrameLineStyle\":1,\"fFrameLineWidth\":1,\"fFrameBorderSize\":1,\"fFrameBorderMode\":0,\"fHistFillColor\":0,\"fHistLineColor\":602,\"fHistFillStyle\":1001,\"fHistLineStyle\":1,\"fHistLineWidth\":1,\"fHistMinimumZero\":false,\"fHistTopMargin\":0.05,\"fCanvasPreferGL\":false,\"fCanvasColor\":0,\"fCanvasBorderSize\":2,\"fCanvasBorderMode\":0,\"fCanvasDefH\":500,\"fCanvasDefW\":700,\"fCanvasDefX\":10,\"fCanvasDefY\":10,\"fPadColor\":0,\"fPadBorderSize\":2,\"fPadBorderMode\":0,\"fPadBottomMargin\":0.1,\"fPadTopMargin\":0.1,\"fPadLeftMargin\":0.1,\"fPadRightMargin\":0.1,\"fPadGridX\":false,\"fPadGridY\":false,\"fPadTickX\":0,\"fPadTickY\":0,\"fPaperSizeX\":20,\"fPaperSizeY\":26,\"fScreenFactor\":1,\"fStatColor\":0,\"fStatTextColor\":1,\"fStatBorderSize\":1,\"fStatFont\":42,\"fStatFontSize\":0,\"fStatStyle\":1001,\"fStatFormat\":\"6.4g\",\"fStatX\":0.98,\"fStatY\":0.935,\"fStatW\":0.2,\"fStatH\":0.16,\"fStripDecimals\":true,\"fTitleAlign\":23,\"fTitleColor\":0,\"fTitleTextColor\":1,\"fTitleBorderSize\":0,\"fTitleFont\":42,\"fTitleFontSize\":0.05,\"fTitleStyle\":0,\"fTitleX\":0.5,\"fTitleY\":0.995,\"fTitleW\":0,\"fTitleH\":0,\"fLegoInnerR\":0.5,\"fLineStyles\":[\"\",\"  \",\" 12 12\",\" 4 8\",\" 12 16 4 16\",\" 20 12 4 12\",\" 20 12 4 12 4 12 4 12\",\" 20 20\",\" 20 12 4 12 4 12\",\" 80 20\",\" 80 40 4 40\",\"  \",\"  \",\"  \",\"  \",\"  \",\"  \",\"  \",\"  \",\"  \",\"  \",\"  \",\"  \",\"  \",\"  \",\"  \",\"  \",\"  \",\"  \",\"  \"],\"fHeaderPS\":\"\",\"fTitlePS\":\"\",\"fFitFormat\":\"5.4g\",\"fPaintTextFormat\":\"g\",\"fLineScalePS\":3,\"fJoinLinePS\":0,\"fCapLinePS\":0,\"fTimeOffset\":788918400,\"fImageScaling\":1}],\"opt\":[\"\",\" plc pmc\",\"same plc pmc\",\"same plc pmc\",\"blNDC\",\"\"]},\"fExecs\":null,\"fName\":\"c1_n6\",\"fTitle\":\"c1_n6\",\"fNumPaletteColor\":3,\"fNextPaletteColor\":0,\"fDISPLAY\":\"$DISPLAY\",\"fDoubleBuffer\":0,\"fRetained\":true,\"fXsizeUser\":0,\"fYsizeUser\":0,\"fXsizeReal\":20,\"fYsizeReal\":14.28571,\"fWindowTopX\":0,\"fWindowTopY\":0,\"fWindowWidth\":0,\"fWindowHeight\":0,\"fCw\":696,\"fCh\":472,\"fCatt\":{\"_typename\":\"TAttCanvas\",\"fXBetween\":2,\"fYBetween\":2,\"fTitleFromTop\":1.2,\"fXdate\":0.2,\"fYdate\":0.3,\"fAdate\":1},\"kMoveOpaque\":true,\"kResizeOpaque\":true,\"fHighLightColor\":2,\"fBatch\":true,\"kShowEventStatus\":false,\"kAutoExec\":true,\"kMenuBar\":true});\n",
       "   Core.settings.HandleKeys = false;\n",
       "   Core.draw(\"root_plot_1659035846599\", obj, \"\");\n",
       "}\n",
       "\n",
       "function script_load_root_plot_1659035846599(src, on_error) {\n",
       "    let script = document.createElement('script');\n",
       "    script.src = src;\n",
       "    script.onload = function() { display_root_plot_1659035846599(JSROOT); };\n",
       "    script.onerror = function() { script.remove(); on_error(); };\n",
       "    document.head.appendChild(script);\n",
       "}\n",
       "\n",
       "if (typeof requirejs !== 'undefined') {\n",
       "\n",
       "    // We are in jupyter notebooks, use require.js which should be configured already\n",
       "    requirejs.config({\n",
       "       paths: { 'JSRootCore' : [ 'scripts/JSRoot.core', 'https://root.cern/js/6.3.4/scripts/JSRoot.core.min', 'https://jsroot.gsi.de/6.3.4/scripts/JSRoot.core.min' ] }\n",
       "    })(['JSRootCore'],  function(Core) {\n",
       "       display_root_plot_1659035846599(Core);\n",
       "    });\n",
       "\n",
       "} else if (typeof JSROOT !== 'undefined') {\n",
       "\n",
       "   // JSROOT already loaded, just use it\n",
       "   display_root_plot_1659035846599(JSROOT);\n",
       "\n",
       "} else {\n",
       "\n",
       "    // We are in jupyterlab without require.js, directly loading jsroot\n",
       "    // Jupyterlab might be installed in a different base_url so we need to know it.\n",
       "    try {\n",
       "        var base_url = JSON.parse(document.getElementById('jupyter-config-data').innerHTML).baseUrl;\n",
       "    } catch(_) {\n",
       "        var base_url = '/';\n",
       "    }\n",
       "\n",
       "    // Try loading a local version of requirejs and fallback to cdn if not possible.\n",
       "    script_load_root_plot_1659035846599(base_url + 'static/scripts/JSRoot.core.js', function(){\n",
       "        console.error('Fail to load JSROOT locally, please check your jupyter_notebook_config.py file');\n",
       "        script_load_root_plot_1659035846599('https://root.cern/js/6.3.4/scripts/JSRoot.core.min.js', function(){\n",
       "            document.getElementById(\"root_plot_1659035846599\").innerHTML = \"Failed to load JSROOT\";\n",
       "        });\n",
       "    });\n",
       "}\n",
       "\n",
       "</script>\n"
      ],
      "text/plain": [
       "<IPython.core.display.HTML object>"
      ]
     },
     "metadata": {},
     "output_type": "display_data"
    }
   ],
   "source": [
    "c1 = ROOT.TCanvas()\n",
    "h11.GetYaxis().SetRangeUser(10, 50)\n",
    "h11.GetXaxis().SetRangeUser(0, 1800)\n",
    "h11.Draw(\"same plc pmc\")\n",
    "h21.Draw(\"same plc pmc\")\n",
    "h31.Draw(\"same plc pmc\")\n",
    "c1.Draw()\n",
    "c1.Print(f\"./plots/direct_{fitParameter}_{fitFunction}.pdf\")"
   ]
  },
  {
   "cell_type": "markdown",
   "metadata": {},
   "source": [
    "### Ratio comparison"
   ]
  },
  {
   "cell_type": "code",
   "execution_count": 25,
   "metadata": {
    "ExecuteTime": {
     "end_time": "2022-07-28T19:17:26.718871Z",
     "start_time": "2022-07-28T19:17:26.610762Z"
    }
   },
   "outputs": [
    {
     "data": {
      "text/plain": [
       "True"
      ]
     },
     "execution_count": 25,
     "metadata": {},
     "output_type": "execute_result"
    }
   ],
   "source": [
    "h21.Divide(h11)\n",
    "h31.Divide(h11)"
   ]
  },
  {
   "cell_type": "code",
   "execution_count": 26,
   "metadata": {
    "ExecuteTime": {
     "end_time": "2022-07-28T19:17:26.865461Z",
     "start_time": "2022-07-28T19:17:26.723871Z"
    }
   },
   "outputs": [
    {
     "name": "stderr",
     "output_type": "stream",
     "text": [
      "Info in <TCanvas::Print>: pdf file ./plots/ratio_Jet_nConstituents_chebyshev8.pdf has been created\n"
     ]
    },
    {
     "data": {
      "text/html": [
       "\n",
       "\n",
       "<div id=\"root_plot_1659035846857\"\n",
       "     style=\"width: 696px; height: 472px\">\n",
       "</div>\n",
       "<script>\n",
       "\n",
       "function display_root_plot_1659035846857(Core) {\n",
       "   let obj = Core.parse({\"_typename\":\"TCanvas\",\"fUniqueID\":0,\"fBits\":3342344,\"fLineColor\":1,\"fLineStyle\":1,\"fLineWidth\":1,\"fFillColor\":0,\"fFillStyle\":1001,\"fLeftMargin\":0.1,\"fRightMargin\":0.1,\"fBottomMargin\":0.1,\"fTopMargin\":0.1,\"fXfile\":2,\"fYfile\":2,\"fAfile\":1,\"fXstat\":0.99,\"fYstat\":0.99,\"fAstat\":2,\"fFrameFillColor\":0,\"fFrameLineColor\":1,\"fFrameFillStyle\":1001,\"fFrameLineStyle\":1,\"fFrameLineWidth\":1,\"fFrameBorderSize\":1,\"fFrameBorderMode\":0,\"fX1\":1.49191284973717,\"fY1\":0.974999999627471,\"fX2\":3.47474503446459,\"fY2\":1.02500000037253,\"fXtoAbsPixelk\":-523.680850186627,\"fXtoPixelk\":-523.680850186627,\"fXtoPixel\":351.013063718088,\"fYtoAbsPixelk\":9675.99990933304,\"fYtoPixelk\":9675.99990933304,\"fYtoPixel\":-9439.99985933304,\"fUtoAbsPixelk\":5e-5,\"fUtoPixelk\":5e-5,\"fUtoPixel\":696,\"fVtoAbsPixelk\":472.00005,\"fVtoPixelk\":472,\"fVtoPixel\":-472,\"fAbsPixeltoXk\":1.49191284973717,\"fPixeltoXk\":1.49191284973717,\"fPixeltoX\":0.00284889681713709,\"fAbsPixeltoYk\":1.02500000037253,\"fPixeltoYk\":0.974999999627471,\"fPixeltoY\":-1.05932204968343e-4,\"fXlowNDC\":0,\"fYlowNDC\":0,\"fXUpNDC\":1,\"fYUpNDC\":1,\"fWNDC\":1,\"fHNDC\":1,\"fAbsXlowNDC\":0,\"fAbsYlowNDC\":0,\"fAbsWNDC\":1,\"fAbsHNDC\":1,\"fUxmin\":1.69019608002851,\"fUymin\":0.98,\"fUxmax\":3.27646180417324,\"fUymax\":1.02,\"fTheta\":30,\"fPhi\":30,\"fAspectRatio\":0,\"fNumber\":0,\"fTickx\":0,\"fTicky\":0,\"fLogx\":1,\"fLogy\":0,\"fLogz\":0,\"fPadPaint\":0,\"fCrosshair\":0,\"fCrosshairPos\":0,\"fBorderSize\":2,\"fBorderMode\":0,\"fModified\":false,\"fGridx\":false,\"fGridy\":false,\"fAbsCoord\":false,\"fEditable\":true,\"fFixedAspectRatio\":false,\"fPrimitives\":{\"_typename\":\"TList\",\"name\":\"TList\",\"arr\":[{\"_typename\":\"TFrame\",\"fUniqueID\":0,\"fBits\":8,\"fLineColor\":1,\"fLineStyle\":1,\"fLineWidth\":1,\"fFillColor\":0,\"fFillStyle\":1001,\"fX1\":1.69019608002851,\"fY1\":0.98,\"fX2\":3.27646180417324,\"fY2\":1.02,\"fBorderSize\":1,\"fBorderMode\":0},{\"_typename\":\"TProfile\",\"fUniqueID\":0,\"fBits\":8,\"fName\":\"w\",\"fTitle\":\"w\",\"fLineColor\":924,\"fLineStyle\":1,\"fLineWidth\":1,\"fFillColor\":0,\"fFillStyle\":1001,\"fMarkerColor\":924,\"fMarkerStyle\":1,\"fMarkerSize\":1,\"fNcells\":81,\"fXaxis\":{\"_typename\":\"TAxis\",\"fUniqueID\":0,\"fBits\":2048,\"fName\":\"xaxis\",\"fTitle\":\"\",\"fNdivisions\":510,\"fAxisColor\":1,\"fLabelColor\":1,\"fLabelFont\":42,\"fLabelOffset\":0.005,\"fLabelSize\":0.035,\"fTickLength\":0.03,\"fTitleOffset\":1,\"fTitleSize\":0.035,\"fTitleColor\":1,\"fTitleFont\":42,\"fNbins\":79,\"fXmin\":1,\"fXmax\":7000,\"fXbins\":{\"$arr\":\"Float64\",\"len\":80,\"v\":[1,5,6,8,10,12,15,18,21,24,28,32,37,43,49,56,64,74,84,97,114,133,153,174,196,220,245,272,300,330,362,395,430,468,507,548,592,638,686,737,790,846,905,967,1032,1101,1172,1248,1327,1410,1497,1588,1684,1784,1890,2000,2116,2238,2366,2500,2640,2787,2941,3103,3273,3450,3637,3832,4037,4252,4477,4713,4961,5220,5492,5777,6076,6389,6717,7000]},\"fFirst\":15,\"fLast\":54,\"fBits2\":0,\"fTimeDisplay\":false,\"fTimeFormat\":\"\",\"fLabels\":null,\"fModLabs\":null},\"fYaxis\":{\"_typename\":\"TAxis\",\"fUniqueID\":0,\"fBits\":0,\"fName\":\"yaxis\",\"fTitle\":\"\",\"fNdivisions\":510,\"fAxisColor\":1,\"fLabelColor\":1,\"fLabelFont\":42,\"fLabelOffset\":0.005,\"fLabelSize\":0.035,\"fTickLength\":0.03,\"fTitleOffset\":0,\"fTitleSize\":0.035,\"fTitleColor\":1,\"fTitleFont\":42,\"fNbins\":1,\"fXmin\":0,\"fXmax\":1,\"fXbins\":[],\"fFirst\":0,\"fLast\":0,\"fBits2\":0,\"fTimeDisplay\":false,\"fTimeFormat\":\"\",\"fLabels\":null,\"fModLabs\":null},\"fZaxis\":{\"_typename\":\"TAxis\",\"fUniqueID\":0,\"fBits\":0,\"fName\":\"zaxis\",\"fTitle\":\"\",\"fNdivisions\":510,\"fAxisColor\":1,\"fLabelColor\":1,\"fLabelFont\":42,\"fLabelOffset\":0.005,\"fLabelSize\":0.035,\"fTickLength\":0.03,\"fTitleOffset\":1,\"fTitleSize\":0.035,\"fTitleColor\":1,\"fTitleFont\":42,\"fNbins\":1,\"fXmin\":0,\"fXmax\":1,\"fXbins\":[],\"fFirst\":0,\"fLast\":0,\"fBits2\":0,\"fTimeDisplay\":false,\"fTimeFormat\":\"\",\"fLabels\":null,\"fModLabs\":null},\"fBarOffset\":0,\"fBarWidth\":1000,\"fEntries\":81,\"fTsumw\":18948894.3403475,\"fTsumw2\":359036811178809,\"fTsumwx\":1308279455.10284,\"fTsumwx2\":5055282669555915,\"fMaximum\":1.02,\"fMinimum\":0.98,\"fNormFactor\":0,\"fContour\":[],\"fSumw2\":{\"$arr\":\"Float64\",\"len\":81,\"p\":17,\"v\":[575991111995.271,0.0891539249634253,0.0149974034259664,0.00773445272482334,0.00400250896634889,0.00402672030230133,0.0142228227963293,0.0633362133656483,0.0041863952381701,0.00176095542439483,0.00382640310480226,0.001752037334207,8.71332988760582e-4,6.62914243805807e-4,6.06785085186467e-4,3.74397154902731e-4,3.11139101514059e-4,3.53896671387343e-4,4.41227487681671e-4,5.13465206502903e-4,6.39102476508548e-4,0.00143560228919931,2.23474548761346e-4,9.3802757335927e-5,1.45952360020352e-4,3.30038964966263e-4,9.54902382723613e-4,0.0030302074380734,0.00848831767257976,0.0273353512061642,0.0796996797186125,0.277258915329768,0.99491125629197,2.95171090237083,10.274371091039,35.4980954296387,378.821257405382]},\"fOption\":\"\",\"fFunctions\":{\"_typename\":\"TList\",\"name\":\"TList\",\"arr\":[{\"_typename\":\"TPaveStats\",\"fUniqueID\":0,\"fBits\":9,\"fLineColor\":1,\"fLineStyle\":1,\"fLineWidth\":1,\"fFillColor\":0,\"fFillStyle\":1001,\"fX1\":3.03852198573478,\"fY1\":1.00975000053272,\"fX2\":3.43508842858956,\"fY2\":1.02175000044331,\"fX1NDC\":0.780000016093254,\"fY1NDC\":0.695000007748604,\"fX2NDC\":0.980000019073486,\"fY2NDC\":0.935000002384186,\"fBorderSize\":1,\"fInit\":1,\"fShadowColor\":1,\"fCornerRadius\":0,\"fOption\":\"brNDC\",\"fName\":\"stats\",\"fTextAngle\":0,\"fTextSize\":0,\"fTextAlign\":12,\"fTextColor\":1,\"fTextFont\":42,\"fLabel\":\"\",\"fLongest\":18,\"fMargin\":0.05,\"fLines\":{\"_typename\":\"TList\",\"name\":\"TList\",\"arr\":[{\"_typename\":\"TLatex\",\"fUniqueID\":0,\"fBits\":0,\"fName\":\"\",\"fTitle\":\"w\",\"fTextAngle\":0,\"fTextSize\":0.0368,\"fTextAlign\":0,\"fTextColor\":0,\"fTextFont\":0,\"fX\":0,\"fY\":0,\"fLineColor\":1,\"fLineStyle\":1,\"fLineWidth\":2,\"fLimitFactorSize\":3,\"fOriginSize\":0.0367999991774561},{\"_typename\":\"TLatex\",\"fUniqueID\":0,\"fBits\":0,\"fName\":\"\",\"fTitle\":\"Entries = 81     \",\"fTextAngle\":0,\"fTextSize\":0,\"fTextAlign\":0,\"fTextColor\":0,\"fTextFont\":0,\"fX\":0,\"fY\":0,\"fLineColor\":1,\"fLineStyle\":1,\"fLineWidth\":2,\"fLimitFactorSize\":3,\"fOriginSize\":0.0353728048503399},{\"_typename\":\"TLatex\",\"fUniqueID\":0,\"fBits\":0,\"fName\":\"\",\"fTitle\":\"Mean  =  68.97\",\"fTextAngle\":0,\"fTextSize\":0,\"fTextAlign\":0,\"fTextColor\":0,\"fTextFont\":0,\"fX\":0,\"fY\":0,\"fLineColor\":1,\"fLineStyle\":1,\"fLineWidth\":2,\"fLimitFactorSize\":3,\"fOriginSize\":0.0353728048503399},{\"_typename\":\"TLatex\",\"fUniqueID\":0,\"fBits\":0,\"fName\":\"\",\"fTitle\":\"Mean y = 0.9476\",\"fTextAngle\":0,\"fTextSize\":0,\"fTextAlign\":0,\"fTextColor\":0,\"fTextFont\":0,\"fX\":0,\"fY\":0,\"fLineColor\":1,\"fLineStyle\":1,\"fLineWidth\":2,\"fLimitFactorSize\":3,\"fOriginSize\":0.0353728048503399},{\"_typename\":\"TLatex\",\"fUniqueID\":0,\"fBits\":0,\"fName\":\"\",\"fTitle\":\"Std Dev   =      0\",\"fTextAngle\":0,\"fTextSize\":0,\"fTextAlign\":0,\"fTextColor\":0,\"fTextFont\":0,\"fX\":0,\"fY\":0,\"fLineColor\":1,\"fLineStyle\":1,\"fLineWidth\":2,\"fLimitFactorSize\":3,\"fOriginSize\":0.0353728048503399},{\"_typename\":\"TLatex\",\"fUniqueID\":0,\"fBits\":0,\"fName\":\"\",\"fTitle\":\"Std Dev y =      0\",\"fTextAngle\":0,\"fTextSize\":0,\"fTextAlign\":0,\"fTextColor\":0,\"fTextFont\":0,\"fX\":0,\"fY\":0,\"fLineColor\":1,\"fLineStyle\":1,\"fLineWidth\":2,\"fLimitFactorSize\":3,\"fOriginSize\":0.0353728048503399}],\"opt\":[\"\",\"\",\"\",\"\",\"\",\"\"]},\"fOptFit\":0,\"fOptStat\":1111,\"fFitFormat\":\"5.4g\",\"fStatFormat\":\"6.4g\",\"fParent\":{\"$ref\":3}}],\"opt\":[\"brNDC\"]},\"fBufferSize\":0,\"fBuffer\":[],\"fBinStatErrOpt\":0,\"fStatOverflows\":2,\"fArray\":{\"$arr\":\"Float64\",\"len\":81,\"p\":17,\"v\":[-18948266.7050457,9.97447944591924,6.35751507173233,5.63209045118929,4.64915336759894,4.68666513810527,7.26833565927119,12.0241025038824,4.75438683472599,3.49119165515271,4.63223655314791,3.51841697922298,2.71061925250462,2.50997637853817,2.42248611312889,2.04033558981077,1.95488591852575,2.04774512504698,2.23014825929052,2.40786640123042,2.64195369357549,3.56936202735261,1.8317921460745,1.33344238813918,1.60082757099371,2.21462311907169,3.32294495883606,5.09583927096408,7.39414569691474,11.1239511478293,16.3621608641281,25.1101975562602,39.1887617439997,55.6255706738564,85.2409089586455,127.857909421181,-152.808273863338]},\"fBinEntries\":{\"$arr\":\"Float64\",\"len\":81,\"p\":17,\"v\":[-19996939.7679641,9.94623252964745,6.36924631791078,5.63759422311405,4.65931629010902,4.6882172008004,7.27505551515788,12.0831092300907,4.75485264545873,3.4873626279098,4.63708167802082,3.50872223523564,2.74669180130104,2.51352706991781,2.42537384803466,2.04371237481796,1.95545378877604,2.05090104808711,2.23400555999256,2.40688913950302,2.64397416335278,3.57535345490136,1.83021990090892,1.33452119510942,1.6004884887118,2.2189578914909,3.32781152757903,5.0898788296902,7.42539992321749,11.1567936933529,16.4134140267323,25.2961822012889,39.1920394323213,56.6607835101317,85.1596695249559,132.281448696616,68.518536281341]},\"fErrorMode\":0,\"fYmin\":0,\"fYmax\":0,\"fTsumwy\":308655204994.154,\"fTsumwy2\":0,\"fBinSumw2\":[]},{\"_typename\":\"TProfile\",\"fUniqueID\":0,\"fBits\":8,\"fName\":\"nw\",\"fTitle\":\"nw\",\"fLineColor\":1178,\"fLineStyle\":1,\"fLineWidth\":1,\"fFillColor\":0,\"fFillStyle\":1001,\"fMarkerColor\":1178,\"fMarkerStyle\":1,\"fMarkerSize\":1,\"fNcells\":81,\"fXaxis\":{\"_typename\":\"TAxis\",\"fUniqueID\":0,\"fBits\":0,\"fName\":\"xaxis\",\"fTitle\":\"\",\"fNdivisions\":510,\"fAxisColor\":1,\"fLabelColor\":1,\"fLabelFont\":42,\"fLabelOffset\":0.005,\"fLabelSize\":0.035,\"fTickLength\":0.03,\"fTitleOffset\":1,\"fTitleSize\":0.035,\"fTitleColor\":1,\"fTitleFont\":42,\"fNbins\":79,\"fXmin\":1,\"fXmax\":7000,\"fXbins\":{\"$arr\":\"Float64\",\"len\":80,\"v\":[1,5,6,8,10,12,15,18,21,24,28,32,37,43,49,56,64,74,84,97,114,133,153,174,196,220,245,272,300,330,362,395,430,468,507,548,592,638,686,737,790,846,905,967,1032,1101,1172,1248,1327,1410,1497,1588,1684,1784,1890,2000,2116,2238,2366,2500,2640,2787,2941,3103,3273,3450,3637,3832,4037,4252,4477,4713,4961,5220,5492,5777,6076,6389,6717,7000]},\"fFirst\":0,\"fLast\":0,\"fBits2\":0,\"fTimeDisplay\":false,\"fTimeFormat\":\"\",\"fLabels\":null,\"fModLabs\":null},\"fYaxis\":{\"_typename\":\"TAxis\",\"fUniqueID\":0,\"fBits\":0,\"fName\":\"yaxis\",\"fTitle\":\"\",\"fNdivisions\":510,\"fAxisColor\":1,\"fLabelColor\":1,\"fLabelFont\":42,\"fLabelOffset\":0.005,\"fLabelSize\":0.035,\"fTickLength\":0.03,\"fTitleOffset\":0,\"fTitleSize\":0.035,\"fTitleColor\":1,\"fTitleFont\":42,\"fNbins\":1,\"fXmin\":0,\"fXmax\":1,\"fXbins\":[],\"fFirst\":0,\"fLast\":0,\"fBits2\":0,\"fTimeDisplay\":false,\"fTimeFormat\":\"\",\"fLabels\":null,\"fModLabs\":null},\"fZaxis\":{\"_typename\":\"TAxis\",\"fUniqueID\":0,\"fBits\":0,\"fName\":\"zaxis\",\"fTitle\":\"\",\"fNdivisions\":510,\"fAxisColor\":1,\"fLabelColor\":1,\"fLabelFont\":42,\"fLabelOffset\":0.005,\"fLabelSize\":0.035,\"fTickLength\":0.03,\"fTitleOffset\":1,\"fTitleSize\":0.035,\"fTitleColor\":1,\"fTitleFont\":42,\"fNbins\":1,\"fXmin\":0,\"fXmax\":1,\"fXbins\":[],\"fFirst\":0,\"fLast\":0,\"fBits2\":0,\"fTimeDisplay\":false,\"fTimeFormat\":\"\",\"fLabels\":null,\"fModLabs\":null},\"fBarOffset\":0,\"fBarWidth\":1000,\"fEntries\":81,\"fTsumw\":736.474068639114,\"fTsumw2\":81004.4111575783,\"fTsumwx\":1011273.46955401,\"fTsumwx2\":30040141913439.8,\"fMaximum\":-1111,\"fMinimum\":-1111,\"fNormFactor\":0,\"fContour\":[],\"fSumw2\":{\"$arr\":\"Float64\",\"len\":81,\"p\":17,\"v\":[0.127039370910767,0.0958800625239364,0.0155556883592718,0.00798354213215803,0.00406318677677954,0.00416639600422007,0.0149189377706484,0.0691998155729204,0.00425533952293555,0.00180992494052619,0.00396046856034761,0.0017759936830891,9.55962506298492e-4,6.74790180987553e-4,6.21998323213471e-4,3.78681717678586e-4,3.18062884077551e-4,3.63757347843306e-4,4.54024181741738e-4,5.28382171486293e-4,6.57984646002998e-4,0.00148460692563264,2.22518784908187e-4,9.52234351023463e-5,1.50959444752676e-4,3.4305571530168e-4,0.00100099888519001,0.00316344331429801,0.00916496193804743,0.0298286229795412,0.0861438055183015,0.316035588748843,1.11821179869789,3.67975624094683,13.1682102082419,51.9841445816594,674.517838708251]},\"fOption\":\"\",\"fFunctions\":{\"_typename\":\"TList\",\"name\":\"TList\",\"arr\":[],\"opt\":[]},\"fBufferSize\":0,\"fBuffer\":[],\"fBinStatErrOpt\":0,\"fStatOverflows\":2,\"fArray\":{\"$arr\":\"Float64\",\"len\":81,\"p\":17,\"v\":[8.40482623111875,10.3525166984733,6.47971796946886,5.72674158218314,4.6871886491034,4.77032322589444,7.4484994825802,12.5814363359334,4.79903546239373,3.54362055823637,4.71654471158415,3.54543363239015,2.84735521256314,2.53557382519131,2.45516134938835,2.05370794622301,1.97817237201112,2.07892533796354,2.26560893885498,2.44673674486272,2.68289842041809,3.63362271345665,1.82908888000867,1.34419570566139,1.62869553769278,2.25895600555279,3.40349519991254,5.20853739937433,7.68612272557284,11.6261692668738,17.0153259314761,26.8168906378884,41.5593492643803,62.1439127889962,96.548677176148,154.784921739864,200.586082979418]},\"fBinEntries\":{\"$arr\":\"Float64\",\"len\":81,\"p\":17,\"v\":[8.25748502994012,10.2015209125475,6.45283582089552,5.69515943142528,4.69035532994924,4.73138706523257,7.36262538159616,12.4732739420935,4.83656004489338,3.53359358948017,4.69613997595833,3.55527688603531,2.84938759383643,2.54137695978187,2.45150612380007,2.05936819172113,1.97185695569897,2.07356614835585,2.25892808162817,2.44073203492277,2.6790858231163,3.62442125088284,1.84572769591813,1.34328518787488,1.61041920279677,2.23600181286309,3.35718506263295,5.13860529503374,7.54765084375379,11.3701449794165,16.8130445606174,26.0947210782478,40.7068676716918,61.7362366474938,94.8056234718826,152.825095057034,201.164179104478]},\"fErrorMode\":0,\"fYmin\":0,\"fYmax\":0,\"fTsumwy\":66825808,\"fTsumwy2\":0,\"fBinSumw2\":[]},{\"_typename\":\"TPaveText\",\"fUniqueID\":0,\"fBits\":9,\"fLineColor\":1,\"fLineStyle\":1,\"fLineWidth\":1,\"fFillColor\":0,\"fFillStyle\":0,\"fX1\":2.4364361004908,\"fY1\":1.02200000052527,\"fX2\":2.53022178371096,\"fY2\":1.02475000060722,\"fX1NDC\":0.476350574712644,\"fY1NDC\":0.940000003948808,\"fX2NDC\":0.523649425287356,\"fY2NDC\":0.995000004768372,\"fBorderSize\":0,\"fInit\":1,\"fShadowColor\":1,\"fCornerRadius\":0,\"fOption\":\"blNDC\",\"fName\":\"title\",\"fTextAngle\":0,\"fTextSize\":0,\"fTextAlign\":22,\"fTextColor\":1,\"fTextFont\":42,\"fLabel\":\"\",\"fLongest\":1,\"fMargin\":0.05,\"fLines\":{\"_typename\":\"TList\",\"name\":\"TList\",\"arr\":[{\"_typename\":\"TLatex\",\"fUniqueID\":0,\"fBits\":0,\"fName\":\"\",\"fTitle\":\"w\",\"fTextAngle\":0,\"fTextSize\":0,\"fTextAlign\":0,\"fTextColor\":0,\"fTextFont\":0,\"fX\":0,\"fY\":0,\"fLineColor\":1,\"fLineStyle\":1,\"fLineWidth\":2,\"fLimitFactorSize\":3,\"fOriginSize\":0.0467500016093254}],\"opt\":[\"\"]}},{\"_typename\":\"TStyle\",\"fUniqueID\":0,\"fBits\":0,\"fName\":\"Modern\",\"fTitle\":\"Modern Style\",\"fLineColor\":1,\"fLineStyle\":1,\"fLineWidth\":1,\"fFillColor\":19,\"fFillStyle\":1001,\"fMarkerColor\":1,\"fMarkerStyle\":1,\"fMarkerSize\":1,\"fTextAngle\":0,\"fTextSize\":0.05,\"fTextAlign\":11,\"fTextColor\":1,\"fTextFont\":62,\"fXaxis\":{\"_typename\":\"TAttAxis\",\"fNdivisions\":510,\"fAxisColor\":1,\"fLabelColor\":1,\"fLabelFont\":42,\"fLabelOffset\":0.005,\"fLabelSize\":0.035,\"fTickLength\":0.03,\"fTitleOffset\":1,\"fTitleSize\":0.035,\"fTitleColor\":1,\"fTitleFont\":42},\"fYaxis\":{\"_typename\":\"TAttAxis\",\"fNdivisions\":510,\"fAxisColor\":1,\"fLabelColor\":1,\"fLabelFont\":42,\"fLabelOffset\":0.005,\"fLabelSize\":0.035,\"fTickLength\":0.03,\"fTitleOffset\":0,\"fTitleSize\":0.035,\"fTitleColor\":1,\"fTitleFont\":42},\"fZaxis\":{\"_typename\":\"TAttAxis\",\"fNdivisions\":510,\"fAxisColor\":1,\"fLabelColor\":1,\"fLabelFont\":42,\"fLabelOffset\":0.005,\"fLabelSize\":0.035,\"fTickLength\":0.03,\"fTitleOffset\":1,\"fTitleSize\":0.035,\"fTitleColor\":1,\"fTitleFont\":42},\"fBarWidth\":1,\"fBarOffset\":0,\"fColorModelPS\":0,\"fDrawBorder\":0,\"fOptLogx\":0,\"fOptLogy\":0,\"fOptLogz\":0,\"fOptDate\":0,\"fOptStat\":1111,\"fOptTitle\":1,\"fOptFile\":0,\"fOptFit\":0,\"fShowEventStatus\":0,\"fShowEditor\":0,\"fShowToolBar\":0,\"fNumberContours\":20,\"fAttDate\":{\"_typename\":\"TAttText\",\"fTextAngle\":0,\"fTextSize\":0.025,\"fTextAlign\":11,\"fTextColor\":1,\"fTextFont\":62},\"fDateX\":0.01,\"fDateY\":0.01,\"fEndErrorSize\":2,\"fErrorX\":0.5,\"fFuncColor\":2,\"fFuncStyle\":1,\"fFuncWidth\":2,\"fGridColor\":0,\"fGridStyle\":3,\"fGridWidth\":1,\"fLegendBorderSize\":1,\"fLegendFillColor\":0,\"fLegendFont\":42,\"fLegendTextSize\":0,\"fHatchesLineWidth\":1,\"fHatchesSpacing\":1,\"fFrameFillColor\":0,\"fFrameLineColor\":1,\"fFrameFillStyle\":1001,\"fFrameLineStyle\":1,\"fFrameLineWidth\":1,\"fFrameBorderSize\":1,\"fFrameBorderMode\":0,\"fHistFillColor\":0,\"fHistLineColor\":602,\"fHistFillStyle\":1001,\"fHistLineStyle\":1,\"fHistLineWidth\":1,\"fHistMinimumZero\":false,\"fHistTopMargin\":0.05,\"fCanvasPreferGL\":false,\"fCanvasColor\":0,\"fCanvasBorderSize\":2,\"fCanvasBorderMode\":0,\"fCanvasDefH\":500,\"fCanvasDefW\":700,\"fCanvasDefX\":10,\"fCanvasDefY\":10,\"fPadColor\":0,\"fPadBorderSize\":2,\"fPadBorderMode\":0,\"fPadBottomMargin\":0.1,\"fPadTopMargin\":0.1,\"fPadLeftMargin\":0.1,\"fPadRightMargin\":0.1,\"fPadGridX\":false,\"fPadGridY\":false,\"fPadTickX\":0,\"fPadTickY\":0,\"fPaperSizeX\":20,\"fPaperSizeY\":26,\"fScreenFactor\":1,\"fStatColor\":0,\"fStatTextColor\":1,\"fStatBorderSize\":1,\"fStatFont\":42,\"fStatFontSize\":0,\"fStatStyle\":1001,\"fStatFormat\":\"6.4g\",\"fStatX\":0.98,\"fStatY\":0.935,\"fStatW\":0.2,\"fStatH\":0.16,\"fStripDecimals\":true,\"fTitleAlign\":23,\"fTitleColor\":0,\"fTitleTextColor\":1,\"fTitleBorderSize\":0,\"fTitleFont\":42,\"fTitleFontSize\":0.05,\"fTitleStyle\":0,\"fTitleX\":0.5,\"fTitleY\":0.995,\"fTitleW\":0,\"fTitleH\":0,\"fLegoInnerR\":0.5,\"fLineStyles\":[\"\",\"  \",\" 12 12\",\" 4 8\",\" 12 16 4 16\",\" 20 12 4 12\",\" 20 12 4 12 4 12 4 12\",\" 20 20\",\" 20 12 4 12 4 12\",\" 80 20\",\" 80 40 4 40\",\"  \",\"  \",\"  \",\"  \",\"  \",\"  \",\"  \",\"  \",\"  \",\"  \",\"  \",\"  \",\"  \",\"  \",\"  \",\"  \",\"  \",\"  \",\"  \"],\"fHeaderPS\":\"\",\"fTitlePS\":\"\",\"fFitFormat\":\"5.4g\",\"fPaintTextFormat\":\"g\",\"fLineScalePS\":3,\"fJoinLinePS\":0,\"fCapLinePS\":0,\"fTimeOffset\":788918400,\"fImageScaling\":1}],\"opt\":[\"\",\" plc pmc hist p\",\"same plc pmc hist p\",\"blNDC\",\"\"]},\"fExecs\":null,\"fName\":\"c1_n5\",\"fTitle\":\"c1_n5\",\"fNumPaletteColor\":2,\"fNextPaletteColor\":0,\"fDISPLAY\":\"$DISPLAY\",\"fDoubleBuffer\":0,\"fRetained\":true,\"fXsizeUser\":0,\"fYsizeUser\":0,\"fXsizeReal\":20,\"fYsizeReal\":14.28571,\"fWindowTopX\":0,\"fWindowTopY\":0,\"fWindowWidth\":0,\"fWindowHeight\":0,\"fCw\":696,\"fCh\":472,\"fCatt\":{\"_typename\":\"TAttCanvas\",\"fXBetween\":2,\"fYBetween\":2,\"fTitleFromTop\":1.2,\"fXdate\":0.2,\"fYdate\":0.3,\"fAdate\":1},\"kMoveOpaque\":true,\"kResizeOpaque\":true,\"fHighLightColor\":2,\"fBatch\":true,\"kShowEventStatus\":false,\"kAutoExec\":true,\"kMenuBar\":true});\n",
       "   Core.settings.HandleKeys = false;\n",
       "   Core.draw(\"root_plot_1659035846857\", obj, \"\");\n",
       "}\n",
       "\n",
       "function script_load_root_plot_1659035846857(src, on_error) {\n",
       "    let script = document.createElement('script');\n",
       "    script.src = src;\n",
       "    script.onload = function() { display_root_plot_1659035846857(JSROOT); };\n",
       "    script.onerror = function() { script.remove(); on_error(); };\n",
       "    document.head.appendChild(script);\n",
       "}\n",
       "\n",
       "if (typeof requirejs !== 'undefined') {\n",
       "\n",
       "    // We are in jupyter notebooks, use require.js which should be configured already\n",
       "    requirejs.config({\n",
       "       paths: { 'JSRootCore' : [ 'scripts/JSRoot.core', 'https://root.cern/js/6.3.4/scripts/JSRoot.core.min', 'https://jsroot.gsi.de/6.3.4/scripts/JSRoot.core.min' ] }\n",
       "    })(['JSRootCore'],  function(Core) {\n",
       "       display_root_plot_1659035846857(Core);\n",
       "    });\n",
       "\n",
       "} else if (typeof JSROOT !== 'undefined') {\n",
       "\n",
       "   // JSROOT already loaded, just use it\n",
       "   display_root_plot_1659035846857(JSROOT);\n",
       "\n",
       "} else {\n",
       "\n",
       "    // We are in jupyterlab without require.js, directly loading jsroot\n",
       "    // Jupyterlab might be installed in a different base_url so we need to know it.\n",
       "    try {\n",
       "        var base_url = JSON.parse(document.getElementById('jupyter-config-data').innerHTML).baseUrl;\n",
       "    } catch(_) {\n",
       "        var base_url = '/';\n",
       "    }\n",
       "\n",
       "    // Try loading a local version of requirejs and fallback to cdn if not possible.\n",
       "    script_load_root_plot_1659035846857(base_url + 'static/scripts/JSRoot.core.js', function(){\n",
       "        console.error('Fail to load JSROOT locally, please check your jupyter_notebook_config.py file');\n",
       "        script_load_root_plot_1659035846857('https://root.cern/js/6.3.4/scripts/JSRoot.core.min.js', function(){\n",
       "            document.getElementById(\"root_plot_1659035846857\").innerHTML = \"Failed to load JSROOT\";\n",
       "        });\n",
       "    });\n",
       "}\n",
       "\n",
       "</script>\n"
      ],
      "text/plain": [
       "<IPython.core.display.HTML object>"
      ]
     },
     "metadata": {},
     "output_type": "display_data"
    }
   ],
   "source": [
    "c1 = ROOT.TCanvas()\n",
    "\n",
    "h21.GetYaxis().SetRangeUser(0.98, 1.02)\n",
    "h21.GetXaxis().SetRangeUser(55, 1800)\n",
    "h21.Draw(\"same plc pmc hist p\")\n",
    "h31.Draw(\"same plc pmc hist p\")\n",
    "c1.SetLogx()\n",
    "c1.Draw()\n",
    "c1.Print(f\"./plots/ratio_{fitParameter}_{fitFunction}.pdf\")"
   ]
  },
  {
   "cell_type": "markdown",
   "metadata": {},
   "source": [
    "### Effect on pT response?"
   ]
  },
  {
   "cell_type": "code",
   "execution_count": null,
   "metadata": {},
   "outputs": [],
   "source": []
  },
  {
   "cell_type": "markdown",
   "metadata": {},
   "source": [
    "# Old stuff"
   ]
  },
  {
   "cell_type": "code",
   "execution_count": 18,
   "metadata": {
    "ExecuteTime": {
     "end_time": "2022-07-28T19:14:25.091879Z",
     "start_time": "2022-07-28T19:14:24.594310Z"
    }
   },
   "outputs": [],
   "source": [
    "def DeclareToCpp(**kwargs):\n",
    "    for k, v in kwargs.items():\n",
    "        ROOT.gInterpreter.Declare(f\"namespace PyVars {{ auto &{k} = *reinterpret_cast<{type(v).__cpp_name__}*>({ROOT.addressof(v)}); }}\")"
   ]
  },
  {
   "cell_type": "code",
   "execution_count": 19,
   "metadata": {
    "ExecuteTime": {
     "end_time": "2022-07-28T19:14:25.948305Z",
     "start_time": "2022-07-28T19:14:25.095440Z"
    }
   },
   "outputs": [],
   "source": [
    "# %jsroot on\n",
    "# h1 = MC_recoHist.GetValue().ProjectionY(f\"_reyuco\", 18, 18)\n",
    "# h1.Scale(1/h1.Integral())\n",
    "# h2 = DT_Hist.GetValue().ProjectionY(f\"_DT\", 18, 18)\n",
    "# h2.Scale(1/h2.Integral())\n",
    "# # h3 = MC_genHist.GetValue().ProjectionY(f\"_reco\", 18, 18)\n",
    "# h4 = h1.Divide(h2)\n",
    "\n",
    "# c = ROOT.TCanvas(\"\", \"\", 600, 600)\n",
    "# c.Divide(2, 1)\n",
    "# c.cd(1)\n",
    "# # prof = df_MC1.Profile1D((\"name\", \"title\", 100, 0, 100), \"GenJet_nConstituents\", \"Jet_nConstituents\").Draw()\n",
    "# # prof.Add(h1, h3)\n",
    "# f = h1.Fit(\"chebyshev4\", \"S\", xmin=5, xmax=55)\n",
    "# h1.Draw()\n",
    "# c.cd(2)\n",
    "# h2.Draw(\"SAME PLC PMC\")\n",
    "# h1.Draw(\"SAME PLC PMC\")\n",
    "# c.Draw()"
   ]
  },
  {
   "cell_type": "code",
   "execution_count": 20,
   "metadata": {
    "ExecuteTime": {
     "end_time": "2022-07-28T19:14:26.056666Z",
     "start_time": "2022-07-28T19:14:25.951804Z"
    }
   },
   "outputs": [],
   "source": [
    "# def tdrAxes(hist, y_low, y_up):\n",
    "#     hist.GetYaxis().SetRangeUser(y_low, y_up)\n",
    "#     hist.GetXaxis().SetRangeUser(15, bins[-1])\n",
    "#     hist.GetXaxis().SetMoreLogLabels()\n",
    "#     hist.GetXaxis().SetNoExponent()\n",
    "\n",
    "\n",
    "# canv = ROOT.TCanvas(\"canv\", \"canv\", 800, 600)\n",
    "\n",
    "# dim = int(np.floor(np.sqrt(cnt)))\n",
    "# canv.Divide(dim, dim)\n",
    "# late = ROOT.TLatex()\n",
    "# late.SetNDC()\n",
    "\n",
    "# skip = 7\n",
    "\n",
    "# for i in range(dim*dim):\n",
    "#     c = canv.cd(i+1)\n",
    "\n",
    "#     h1 = MC_recoHist.GetValue().ProjectionY(\n",
    "#         f\"{i+skip}_reco\", i+skip, i+skip).Draw(\"SAME PLC PMC\")\n",
    "#     h2 = MC_genHist.GetValue().ProjectionY(\n",
    "#         f\"{i+skip}_gen\", i+skip, i+skip).Draw(\"SAME PLC PMC\")\n",
    "#     h3 = DT_Hist.GetValue().ProjectionY(\n",
    "#         f\"{i+skip}_DT\", i+skip, i+skip).Draw(\"SAME PLC PMC\")\n",
    "\n",
    "#     tdrAxes(DT_Hist.GetValue(), 0, 100)\n",
    "\n",
    "#     late.DrawLatex(.575, .7,\n",
    "#                    f'{DT_Hist.GetXaxis().GetBinLowEdge(i+skip)} <= pT < {DT_Hist.GetXaxis().GetBinUpEdge(i+skip)}')\n",
    "\n",
    "# # canv.Print(\"plots.pdf\")\n",
    "# canv.Draw()"
   ]
  }
 ],
 "metadata": {
  "hide_input": false,
  "kernelspec": {
   "display_name": "Python 3",
   "language": "python",
   "name": "python3"
  },
  "language_info": {
   "codemirror_mode": {
    "name": "ipython",
    "version": 3
   },
   "file_extension": ".py",
   "mimetype": "text/x-python",
   "name": "python",
   "nbconvert_exporter": "python",
   "pygments_lexer": "ipython3",
   "version": "3.9.12"
  },
  "latex_envs": {
   "LaTeX_envs_menu_present": true,
   "autoclose": false,
   "autocomplete": true,
   "bibliofile": "biblio.bib",
   "cite_by": "apalike",
   "current_citInitial": 1,
   "eqLabelWithNumbers": true,
   "eqNumInitial": 1,
   "hotkeys": {
    "equation": "Ctrl-E",
    "itemize": "Ctrl-I"
   },
   "labels_anchors": false,
   "latex_user_defs": false,
   "report_style_numbering": false,
   "user_envs_cfg": false
  },
  "sparkconnect": {
   "bundled_options": [
    "MemoryIntensive",
    "ComputeIntensive"
   ],
   "list_of_options": [
    {
     "name": "spark.driver.maxResultSize",
     "value": "0"
    },
    {
     "name": "spark.dynamicAllocation.enabled",
     "value": "true"
    },
    {
     "name": "spark.dynamicAllocation.minExecutors",
     "value": "4"
    },
    {
     "name": "spark.dynamicAllocation.maxExecutors",
     "value": "40"
    },
    {
     "name": "spark.executor.memory",
     "value": "10g"
    },
    {
     "name": "spark.driver.memory",
     "value": "10g"
    },
    {
     "name": "spark.executor.pyspark.memory",
     "value": "10g"
    },
    {
     "name": "spark.executorEnv.ROOT_INCLUDE_PATH",
     "value": "/cvmfs/sft-nightlies.cern.ch/lcg/views/devswan/Thu/x86_64-centos7-gcc11-opt/include/Geant4:/cvmfs/sft.cern.ch/lcg/releases/jsonmcpp/3.10.5-f26c3/x86_64-centos7-gcc11-opt/include:/cvmfs/sft-nightlies.cern.ch/lcg/views/devswan/Thu/x86_64-centos7-gcc11-opt/src/cpp:/cvmfs/sft-nightlies.cern.ch/lcg/views/devswan/Thu/x86_64-centos7-gcc11-opt/include:/cvmfs/sft.cern.ch/lcg/releases/Python/3.9.12-9a1bc/x86_64-centos7-gcc11-opt/include/python3.9:/cvmfs/sft-nightlies.cern.ch/lcg/latest/R/4.1.2-f9ee4/x86_64-centos7-gcc11-opt/lib64/R/include:/cvmfs/sft-nightlies.cern.ch/lcg/latest/R/4.1.2-f9ee4/x86_64-centos7-gcc11-opt/lib64/R/library/RInside/include:/cvmfs/sft-nightlies.cern.ch/lcg/latest/R/4.1.2-f9ee4/x86_64-centos7-gcc11-opt/lib64/R/library/Rcpp/include"
    }
   ]
  },
  "toc": {
   "base_numbering": 1,
   "nav_menu": {},
   "number_sections": true,
   "sideBar": true,
   "skip_h1_title": false,
   "title_cell": "Table of Contents",
   "title_sidebar": "Contents",
   "toc_cell": false,
   "toc_position": {},
   "toc_section_display": true,
   "toc_window_display": false
  },
  "vscode": {
   "interpreter": {
    "hash": "b25499489ed43c477baca2e313e90961e09e5f0c1aac71ad72e5a57fec84bb88"
   }
  }
 },
 "nbformat": 4,
 "nbformat_minor": 2
}
