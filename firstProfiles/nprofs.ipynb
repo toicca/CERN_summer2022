{
 "cells": [
  {
   "cell_type": "markdown",
   "id": "f334e0a8",
   "metadata": {},
   "source": [
    "# Nprofiles"
   ]
  },
  {
   "cell_type": "markdown",
   "id": "518ef82e",
   "metadata": {},
   "source": [
    "This notebook contains an example workflow for analyzing JMENano .root files using ROOTs RDataFrames. Basic usage such as defining and redefining of columns is demonstrated and defining and using custom functions from libraries is also included. Small examples on how to use ROOTs C++ datatypes from Python are also shown."
   ]
  },
  {
   "cell_type": "markdown",
   "id": "89163465",
   "metadata": {},
   "source": [
    "## Libraries and macros"
   ]
  },
  {
   "cell_type": "markdown",
   "id": "eed05fa2",
   "metadata": {},
   "source": [
    "To load Python packages and use them with pyROOT standard `import` statements are used. If you're using a collection of macros defined in a `.C` file, you'll need to open ROOT in the same directory as the `.C` file and use\n",
    "\n",
    "    .L NHelpers.C++\n",
    "\n",
    "This will create a `.so` file that you can load to the notebook using `ROOT.gSystem.Load()`. An alternative, and performance wise slightly slower, approach is to use the `ROOT.gROOT.LoadMacro()` function with the `.C` file to load the macros. Latter approach doesn't require compilation, so it might be preferrable when still developing the library. An example of both approaches is shown below."
   ]
  },
  {
   "cell_type": "code",
   "execution_count": 1,
   "id": "02c2ac5f",
   "metadata": {
    "scrolled": true
   },
   "outputs": [
    {
     "name": "stdout",
     "output_type": "stream",
     "text": [
      "Welcome to JupyROOT 6.26/02\n"
     ]
    }
   ],
   "source": [
    "import ROOT\n",
    "import numpy as np\n",
    "import fnmatch\n",
    "from os import listdir\n",
    "\n",
    "# Load macros using the compiled .so files, notice the change in filename:\n",
    "ROOT.gSystem.Load('../macros/./Nhelpers_C.so')\n",
    "ROOT.gSystem.Load('../macros/./tdrstyle_mod15_C.so')\n",
    "\n",
    "style = ROOT.setTDRStyle()\n",
    "ROOT.gStyle.SetPalette(ROOT.kGreyYellow) # LightTemperature\n",
    "\n",
    "ROOT.EnableImplicitMT(3)"
   ]
  },
  {
   "cell_type": "markdown",
   "id": "6701fed5",
   "metadata": {},
   "source": [
    "## Data"
   ]
  },
  {
   "cell_type": "markdown",
   "id": "d01df5f4",
   "metadata": {},
   "source": [
    "This part of the notebook goes over how to load a larger dataset into a RDataFrame and then how to modify the data and create new data based on the previous."
   ]
  },
  {
   "cell_type": "markdown",
   "id": "093e40e8",
   "metadata": {},
   "source": [
    "###  Reading"
   ]
  },
  {
   "cell_type": "markdown",
   "id": "55f14c17",
   "metadata": {},
   "source": [
    "Data is usually given in multiple files, since the complete dataset might be very large. For this reason ROOT's `TChain` datatype is favourable, as it essentially creates a list of files that can then be passed to the `RDataFrame` constructor. Usage of `TChain` is simple, when constructing it the name of the tree is passed, after which the files are added by calling `.Add(filename)` as shown below.\n",
    "\n",
    "Another thing to utilize is the range of the loop. For testing purposes you might not want to load or analyze the complete dataset, but instead a smaller fraction. The number of files included in the `RDataFrame` can be changed by looping over a smaller set of files."
   ]
  },
  {
   "cell_type": "code",
   "execution_count": 2,
   "id": "fb8be5b4",
   "metadata": {},
   "outputs": [
    {
     "name": "stdout",
     "output_type": "stream",
     "text": [
      "Event count: 684000\n"
     ]
    },
    {
     "name": "stderr",
     "output_type": "stream",
     "text": [
      "Warning in <TClass::Init>: no dictionary for class edm::Hash<1> is available\n",
      "Warning in <TClass::Init>: no dictionary for class edm::ProcessHistory is available\n",
      "Warning in <TClass::Init>: no dictionary for class edm::ProcessConfiguration is available\n",
      "Warning in <TClass::Init>: no dictionary for class edm::ParameterSetBlob is available\n",
      "Warning in <TClass::Init>: no dictionary for class pair<edm::Hash<1>,edm::ParameterSetBlob> is available\n"
     ]
    }
   ],
   "source": [
    "# Simulation data\n",
    "# This line finds all files in the directory that end with .root\n",
    "files = list(fnmatch.filter(listdir(\"../../data/20UL18JMENano_106X_upgrade2018_realistic_v16_L1v1-v1/30000\"), \"*.root\"))\n",
    "\n",
    "# Load the files and create the RDataFrame\n",
    "chain = ROOT.TChain(\"Events\")\n",
    "for file in files[0:1]:\n",
    "    chain.Add(\"../../data/20UL18JMENano_106X_upgrade2018_realistic_v16_L1v1-v1/30000/\"+file)\n",
    "\n",
    "print(f\"Event count: {chain.GetEntries()}\") # Some useful info / confirmation\n",
    "\n",
    "df = ROOT.RDataFrame(chain)"
   ]
  },
  {
   "cell_type": "code",
   "execution_count": 3,
   "id": "a80f21dd",
   "metadata": {},
   "outputs": [],
   "source": [
    "# # Real data\n",
    "# # This line finds all files in the directory that end with .root\n",
    "# files = list(fnmatch.filter(listdir(\"../../data/UL2018_MiniAODv2_JMENanoAODv9-v1/40000\"), \"*.root\"))\n",
    "\n",
    "# # Load the files and create the RDataFrame\n",
    "# chain = ROOT.TChain(\"Events\")\n",
    "# for file in files[0:1]:\n",
    "#     chain.Add(\"../../data/UL2018_MiniAODv2_JMENanoAODv9-v1/23000000/\"+file)\n",
    "\n",
    "# print(f\"Event count: {chain.GetEntries()}\") # Some useful info / confirmation\n",
    "\n",
    "df_real = ROOT.RDataFrame(\"Events\", \"../../data/UL2018_MiniAODv2_JMENanoAODv9-v1/230000/22EC6918-A80A-1F4B-91C4-B2994D3CE191.root\")"
   ]
  },
  {
   "cell_type": "code",
   "execution_count": 122,
   "id": "e3830bba",
   "metadata": {},
   "outputs": [
    {
     "name": "stdout",
     "output_type": "stream",
     "text": [
      "{ 600.500f, 529.000f, 25.0469f, 23.4375f, 21.6406f, 16.4062f, 16.0781f, 14.6875f, 12.2422f, 11.6875f, 11.5625f, 11.1562f, 10.1328f, 9.68750f, 9.36719f, 9.35156f, 9.21094f, 8.85938f, 8.77344f, 8.61719f, 8.45312f }\n",
      "{ 138.375f, 112.438f, 96.3125f, 31.8438f, 19.5781f, 15.3672f, 14.0938f, 12.3125f, 11.7188f, 9.73438f, 9.57031f, 9.22656f, 8.36719f, 8.04688f }\n",
      "{ 159.250f, 117.375f, 81.4375f, 49.2812f, 19.7812f, 19.5781f, 18.8594f, 13.7188f, 11.8828f, 11.0391f, 10.9844f, 10.8281f, 10.5703f, 10.3672f, 9.98438f, 9.02344f, 9.01562f, 8.29688f }\n",
      "{ 307.000f, 225.375f, 46.0312f, 40.3125f, 26.1406f, 14.1250f, 11.4141f, 9.52344f, 9.48438f, 9.39844f, 8.84375f, 8.53125f, 8.12500f }\n",
      "{ 232.500f, 187.375f, 15.8047f, 14.5938f, 14.2734f, 13.4922f, 13.0312f, 12.9062f, 12.7500f, 12.1484f, 12.0078f, 11.8906f, 10.7266f, 10.2344f, 9.26562f, 9.22656f, 9.00781f, 8.60938f, 8.56250f, 8.39062f, 8.05469f }\n",
      "{ 177.375f, 96.1250f, 85.1250f, 19.2656f, 19.2344f, 18.8438f, 16.9375f, 16.0625f, 15.9609f, 12.5312f, 11.7578f, 11.5781f, 11.0625f, 10.9609f, 10.5859f, 10.4141f, 10.3047f, 10.2031f, 10.1250f, 9.87500f, 9.21875f, 8.14844f }\n",
      "{ 411.250f, 231.625f, 43.7500f, 42.9688f, 16.2188f, 13.5312f, 12.1250f, 11.4297f, 11.1797f, 10.7188f, 9.71875f, 9.61719f, 9.13281f, 8.79688f }\n",
      "{ 277.250f, 86.1875f, 23.0312f, 21.1875f, 18.7188f, 15.0547f, 13.4844f, 12.8984f, 12.7969f, 12.5547f, 12.3516f, 10.9609f, 10.7422f, 10.6562f, 9.50000f, 9.07812f, 8.84375f, 8.67188f, 8.63281f, 8.61719f, 8.23438f, 8.10938f }\n",
      "{ 121.000f, 93.5000f, 32.5625f, 28.4844f, 26.8281f, 18.0469f, 17.1094f, 17.0312f, 16.4219f, 16.0625f, 13.1406f, 12.5859f, 11.0312f, 10.8750f, 10.7109f, 10.6641f, 10.1406f, 10.0000f, 9.61719f, 9.55469f, 9.08594f, 8.78125f, 8.74219f, 8.47656f, 8.18750f, 8.18750f }\n",
      "{ 316.500f, 290.500f, 19.6406f, 19.4844f, 17.7188f, 14.3281f, 13.5391f, 13.3516f, 12.3828f, 11.9922f, 11.5078f, 11.3125f, 10.3281f, 10.0469f, 9.64062f, 8.82812f, 8.28125f }\n",
      "{ 115.562f, 109.250f, 15.8203f, 14.3906f, 14.1250f, 13.4688f, 13.3594f, 13.3203f, 12.6406f, 11.9531f, 11.3281f, 10.3984f, 9.59375f, 8.81250f, 8.54688f, 8.39844f, 8.38281f, 8.30469f }\n",
      "{ 43.9375f, 21.4062f, 16.4844f, 14.6797f, 14.5703f, 14.3984f, 14.1875f, 13.4219f, 12.5859f, 10.8438f, 10.5312f, 8.53906f }\n"
     ]
    }
   ],
   "source": [
    "pts = df_real.AsNumpy([\"Jet_pt\"])[\"Jet_pt\"]\n",
    "\n",
    "for i in range(12):\n",
    "    print(pts[i])"
   ]
  },
  {
   "cell_type": "markdown",
   "id": "0ca95bba",
   "metadata": {},
   "source": [
    "### C/C++ variables for analysis (Veto map)"
   ]
  },
  {
   "cell_type": "markdown",
   "id": "91c8d354",
   "metadata": {},
   "source": [
    "When using the `.Define()` and `.Redefine()` you can't use variables defined in Python code. A workaround is to use the `ROOT.gInterpreter.Declare()` function which allows you to define C/C++ variables or functions quickly in Python. The code shown below reads a 2D histogram from a file to a variable `vm` for further use in the analysis."
   ]
  },
  {
   "cell_type": "code",
   "execution_count": 6,
   "id": "6d52af1b",
   "metadata": {},
   "outputs": [
    {
     "data": {
      "text/plain": [
       "True"
      ]
     },
     "execution_count": 6,
     "metadata": {},
     "output_type": "execute_result"
    }
   ],
   "source": [
    "# f = ROOT.TFile(\"../../data/hotjets-UL18.root\")\n",
    "# vm = f.Get(\"h2hot_ul18_plus_hem1516_and_hbp2m1\")\n",
    "\n",
    "read_map_code = \"\"\"\n",
    "TFile f(\"../../data/hotjets-UL18.root\");\n",
    "TH2D *vm = (TH2D*)f.Get(\"h2hot_ul18_plus_hem1516_and_hbp2m1\");\n",
    "auto limits = veto_map(vm, 5);\n",
    "\"\"\"\n",
    "\n",
    "ROOT.gInterpreter.Declare(read_map_code)\n"
   ]
  },
  {
   "cell_type": "markdown",
   "id": "6eb925d4",
   "metadata": {},
   "source": [
    "### Filters"
   ]
  },
  {
   "cell_type": "markdown",
   "id": "ca6db692",
   "metadata": {},
   "source": [
    "When filtering the data the filters are passed as strings to the filter function. The strings can be written directly to the function, or they can be defined before to make quicker changes and possibly increase readability.\n",
    "\n",
    "Here are two examples of how to implement filter strings. The first example, `pass_filt`, is a simple string that includes boolean variables defining what flags from the dataset to use for filtering. The second example has predefined variables that can then be included in the filter string by using Pythons f-string expressions."
   ]
  },
  {
   "cell_type": "code",
   "execution_count": 7,
   "id": "7734665c",
   "metadata": {},
   "outputs": [
    {
     "data": {
      "text/plain": [
       "'Response[(abs(GenJet_eta) < 1.3) && (GenJet_pt > 15.0) && (deltaR < 0.2)]'"
      ]
     },
     "execution_count": 7,
     "metadata": {},
     "output_type": "execute_result"
    }
   ],
   "source": [
    "# First example\n",
    "pass_filt = \"\"\"\n",
    "\t(Flag_goodVertices) &&\n",
    "\t (Flag_globalSuperTightHalo2016Filter) &&\n",
    "\t (Flag_HBHENoiseFilter) &&\n",
    "\t (Flag_HBHENoiseIsoFilter) &&\n",
    "\t (Flag_EcalDeadCellTriggerPrimitiveFilter) &&\n",
    "\t (Flag_BadPFMuonFilter) &&\n",
    "\t (Flag_BadPFMuonDzFilter) &&\n",
    "\t (Flag_globalTightHalo2016Filter) &&\n",
    "\t (Flag_CSCTightHaloFilter) &&\n",
    "\t (Flag_ecalBadCalibFilter) && \n",
    "\t (Flag_eeBadScFilter)\n",
    "\t\"\"\".replace(\"\\n\", \"\").replace(\"\\t\", \"\")\n",
    "\n",
    "# Second example\n",
    "pT_cut = 15.0\n",
    "eta_cut = 1.3\n",
    "deltaR_cut = 0.2\n",
    "cut_str = f'(abs(GenJet_eta) < {eta_cut}) && (GenJet_pt > {pT_cut}) && (deltaR < {deltaR_cut})'\n",
    "\n",
    "# What the program sees\n",
    "\"Response[\"+cut_str+\"]\""
   ]
  },
  {
   "cell_type": "markdown",
   "id": "cf7985f0",
   "metadata": {},
   "source": [
    "### Cuts and pairing"
   ]
  },
  {
   "cell_type": "markdown",
   "id": "0b715d6c",
   "metadata": {},
   "source": [
    "Now with the filters defined the actual transformation of the dataframe needs to be done. The transformation can be done over multiple lines of code, or in a single line as is done in this notebook. For readability these long single line calls should be split using `\\`, but remember that this kind of syntax doesn't allow comments between the lines.\n",
    "\n",
    "What should be taken into note is that:\n",
    "* Custom functions can be called without the `ROOT.` prefix\n",
    "* The transformation is written in C/C++ syntax, and ROOT functions such as `DeltaR()` can be called without the class prefix `ROOT::VecOps::`\n",
    "* f-strings that contain C/C++ syntax can be passed as a string to the transformation."
   ]
  },
  {
   "cell_type": "code",
   "execution_count": 9,
   "id": "1c730b59",
   "metadata": {},
   "outputs": [],
   "source": [
    "# Choose if to use the veto map and/or weights\n",
    "veto = False\n",
    "weights = False\n",
    "\n",
    "# Create an appropriate description for the y-axis\n",
    "y_str = f'Response'\n",
    "if veto or weights:\n",
    "    y_str += \"(\"\n",
    "    if veto:\n",
    "        y_str += \"vetoed\"\n",
    "    if weights:\n",
    "        y_str += \"weighted\"\n",
    "    y_str += \")\"\n",
    "\n",
    "random_choice_code = \"\"\"\n",
    "float rand_choice(float v1, float v2) {\n",
    "    TRandom3 gen;\n",
    "    gen.SetSeed(1510);\n",
    "    double r = gen.Rndm();\n",
    "\n",
    "    if (r > 0.5) {\n",
    "        return v1;\n",
    "    } else {\n",
    "        return v2;\n",
    "    }\n",
    "}\n",
    "\"\"\"\n",
    "\n",
    "rand_oneZero = \"\"\"\n",
    "int rand_oneZero() {\n",
    "    TRandom3 gen;\n",
    "    gen.SetSeed(1556);\n",
    "    double r = gen.Rndm();\n",
    "    if (r > 0.5) {\n",
    "        return 1;\n",
    "    } else {\n",
    "        return 0;\n",
    "    }\n",
    "}\n",
    "\"\"\"\n",
    "\n",
    "trigger_check = \"\"\"\n",
    "bool trigger_check() {\n",
    "\n",
    "}\n",
    "\"\"\"\n",
    "\n",
    "hlt = [40,60,80,140,200,260,320,400,450,500]\n",
    "offline = [30, 84,114,196,272,330,395,468,548,686] # 64\n",
    "hlt_filt = \"false \"\n",
    "\n",
    "for hlt_temp, reco in zip(hlt, offline):\n",
    "    hlt_filt += f\" || ((pTavg > {reco}) && (HLT_PFJet{hlt_temp}))\"\n",
    "\n",
    "#ROOT.gInterpreter.Declare(random_choice_code)\n",
    "#ROOT.gInterpreter.Declare(rand_oneZero)\n",
    "\n",
    "df_real1 = df_real.Filter(\"(Jet_pt.size() >= 2)\") \\\n",
    "        .Define(\"pTavg\", \"(Jet_pt[0] + Jet_pt[1]) * 0.5\") \\\n",
    "        .Filter(\"(Jet_pt.size() == 2) || ((Jet_pt[2] < 15) || (Jet_pt[2] < 0.3*pTavg))\") \\\n",
    "        .Filter(\"ROOT::VecOps::DeltaPhi(Jet_phi[0], Jet_phi[1]) > 2.8\") \\\n",
    "        .Filter(\"(Jet_pt[0] > 15) && (Jet_pt[1] > 15)\") \\\n",
    "        .Filter(\"(abs(Jet_eta[0]) < 1.3) && (abs(Jet_eta[1]) < 1.3)\") \\\n",
    "        .Filter(hlt_filt) \\\n",
    "        .Define(\"rIdx\", \"rand_oneZero()\") \\\n",
    "        .Redefine(\"Jet_nConstChHads\", \"Take(Jet_nConstChHads, rIdx)\") \\\n",
    "        .Define(\"Jet_nConstME\", \"Take(Jet_nConstMuons+Jet_nConstElecs, rIdx)\") \\\n",
    "        .Redefine(\"Jet_nConstPhotons\", \"Take(Jet_nConstPhotons, rIdx)\") \\\n",
    "        .Redefine(\"Jet_nConstNeuHads\", \"Take(Jet_nConstNeuHads, rIdx)\") \\\n",
    "        .Redefine(\"Jet_nConstituents\", \"Take(Jet_nConstituents, rIdx)\") \\\n",
    "        .Define(\"nSum\", \"Take(Jet_nConstChHads + Jet_nConstME + Jet_nConstPhotons + Jet_nConstNeuHads, rIdx)\") \\\n",
    "        .Define(\"pTtag\", \"Take(Jet_pt, rIdx)\")\n",
    "\n",
    "df1 = df.Filter(\"(Jet_pt.size() >= 2)\") \\\n",
    "        .Define(\"pTavg\", \"(Jet_pt[0] + Jet_pt[1]) * 0.5\") \\\n",
    "        .Filter(\"(Jet_pt.size() == 2) || ((Jet_pt[2] < 15) || (Jet_pt[2] < 0.3*pTavg))\") \\\n",
    "        .Filter(\"ROOT::VecOps::DeltaPhi(Jet_phi[0], Jet_phi[1]) > 2.8\") \\\n",
    "        .Filter(\"(Jet_pt[0] > 15) && (Jet_pt[1] > 15)\") \\\n",
    "        .Filter(\"(abs(Jet_eta[0]) < 1.3) && (abs(Jet_eta[1]) < 1.3)\") \\\n",
    "        .Define(\"ChG\", \"flavour_match(Jet_nConstChHads, Jet_partonFlavour, 21)\") \\\n",
    "        .Define(\"ChQ\", \"flavour_match(Jet_nConstChHads, abs(Jet_partonFlavour), {1, 2, 3})\") \\\n",
    "        .Define(\"rIdx\", \"rand_oneZero()\") \\\n",
    "        .Redefine(\"Jet_nConstChHads\", \"Take(Jet_nConstChHads, rIdx)\") \\\n",
    "        .Define(\"Jet_nConstME\", \"Take(Jet_nConstMuons+Jet_nConstElecs, rIdx)\") \\\n",
    "        .Redefine(\"Jet_nConstPhotons\", \"Take(Jet_nConstPhotons, rIdx)\") \\\n",
    "        .Redefine(\"Jet_nConstNeuHads\", \"Take(Jet_nConstNeuHads, rIdx)\") \\\n",
    "        .Redefine(\"Jet_nConstituents\", \"Take(Jet_nConstituents, rIdx)\") \\\n",
    "        .Define(\"nSum\", \"Take(Jet_nConstChHads + Jet_nConstME + Jet_nConstPhotons + Jet_nConstNeuHads, rIdx)\") \\\n",
    "        .Define(\"pTtag\", \"Take(Jet_pt, rIdx)\") \\\n",
    "        .Filter(\"ChQ.size() > 1\") \\\n",
    "        .Filter(\"ChG.size() > 1\") \\\n",
    "        .Redefine(\"ChG\", \"Take(ChG, rIdx)\") \\\n",
    "        .Redefine(\"ChQ\", \"Take(ChQ, rIdx)\") \n",
    "        \n",
    "        \n",
    "# if veto:\n",
    "#         df1 = df1.Redefine(\"Response_cut\", \"veto_map_filt(limits, GenJet_eta, GenJet_phi, Response_cut)\") \\\n",
    "#         .Redefine(\"pt_cut\", \"veto_map_filt(limits, GenJet_eta, GenJet_phi, pt_cut)\")  \\\n",
    "#         .Redefine(\"pFlavour_cut\", \"veto_map_filt(limits, GenJet_eta, GenJet_phi, pFlavour_cut)\") \\\n",
    "#         .Define(\"eta_new\", \"veto_map_filt(limits, GenJet_eta, GenJet_phi, GenJet_eta)\") \\\n",
    "#         .Define(\"phi_new\", \"veto_map_filt(limits, GenJet_eta, GenJet_phi, GenJet_phi)\") \\\n",
    "#         .Filter(\"pt_cut.size() > 0\")"
   ]
  },
  {
   "cell_type": "code",
   "execution_count": 39,
   "id": "b4ccbe73",
   "metadata": {},
   "outputs": [],
   "source": [
    "dfN = df1.AsNumpy([\"Jet_pt\", \"pTtag\"])"
   ]
  },
  {
   "cell_type": "code",
   "execution_count": null,
   "id": "babf5427",
   "metadata": {},
   "outputs": [],
   "source": [
    "for i in range(12):\n",
    "    print(dfN[\"pTtag\"][i])"
   ]
  },
  {
   "cell_type": "markdown",
   "id": "fc7052fe",
   "metadata": {},
   "source": [
    "## Profiles, Histograms and Graphs"
   ]
  },
  {
   "cell_type": "markdown",
   "id": "93bd1831",
   "metadata": {},
   "source": [
    "Now that the data is transformed further reduction and creation of profiles, histograms and graphs can be done. These could be done explicitly for each of the objects, but to reduce the amount of code I've used dictionaries, such that for example `profiles[\"g\"]` includes all the profiles that are related to gluons.\n",
    "\n",
    "Profiles and 2D histograms are calculated first, after which the graphs can be calculated based on the 2D histograms. Weighting of the profiles and 2D histograms also happens here, and since the graphs are based on the histograms, the weights \"follow\".\n",
    "\n",
    "Note that when passing a numpy array to a ROOT or C/C++ function remember to explicitly define the datatype of the array."
   ]
  },
  {
   "cell_type": "markdown",
   "id": "91c372bf",
   "metadata": {},
   "source": [
    "### Profiles"
   ]
  },
  {
   "cell_type": "code",
   "execution_count": 10,
   "id": "9949bf36",
   "metadata": {
    "scrolled": true
   },
   "outputs": [],
   "source": [
    "# Different kinds of flavours for plots. cut includes all flavours\n",
    "prtcl = [\"ChHads\",\"Muons\",\"Photons\",\"NeuHads\",\"ituents\"]\n",
    "\n",
    "# Unfolded bins\n",
    "bins = np.array((1, 5, 6, 8, 10, 12, 15, 18, 21, 24, 28, 32, 37, 43, 49, 56, 64, 74, 84, 97, 114, 133, \\\n",
    "                153, 174, 196, 220, 245, 272, 300, 330, 362, 395, 430, 468, 507, 548, 592, 638, 686, 737, \\\n",
    "                790, 846, 905, 967, 1032, 1101, 1172, 1248, 1327, 1410, 1497, 1588, 1684, 1784, 1890, 2000, \\\n",
    "                2116, 2238, 2366, 2500, 2640, 2787, 2941, 3103, 3273, 3450, 3637, 3832, 4037, 4252, 4477, 4713, \\\n",
    "                4961, 5220, 5492, 5777, 6076, 6389, 6717, 7000), dtype=np.double)\n",
    "\n",
    "# Detector level bins\n",
    "# bins = np.array((1, 2.5, 5, 5.5, 6, 7, 8, 9, 10, 11, 12, 13.5, 15, 16.5, 18, 19.5, 21, 22.5, 24, 26, 28, \\\n",
    "                # 30, 32, 34.4, 37, 39.9, 43, 46.1, 49, 52.5, 56, 60, 64, 69, 74, 79, 84, 90, 97, 105, 114, \\\n",
    "                # 123, 133, 143, 153, 163, 174, 185, 196, 208, 220, 232, 245, 258, 272, 286, 300, 315, 330, \\\n",
    "                # 346, 362, 378, 395, 412, 430, 449, 468, 487, 507, 527, 548, 570, 592, 614, 638, 662, \\\n",
    "                # 686, 711, 737, 763, 790, 818, 846, 875, 905, 935, 967, 999, 1032, 1066, 1101, 1136, 1172, \\\n",
    "                # 1209, 1248, 1287, 1327, 1368, 1410, 1453, 1497, 1542, 1588, 1636, 1684, 1733, 1784, 1836, \\\n",
    "                # 1890, 1944, 2000, 2057, 2116, 2176, 2238, 2301, 2366, 2432, 2500, 2569, 2640, 2712, 2787, \\\n",
    "                # 2863, 2941, 3021, 3103, 3187, 3273, 3360, 3450, 3542, 3637, 3733, 3832, 3933, 4037, 4143, \\\n",
    "                # 4252, 4364, 4477, 4594, 4713, 4836, 4961, 5089, 5220, 5355, 5492, 5633, 5777, 5925, 6076, \\\n",
    "                # 6231, 6389, 6552, 6717, 6886, 7000), dtype=np.double)\n",
    "\n",
    "# linbins\n",
    "# bins = np.linspace(0, 1800, 16, dtype = np.double)\n",
    "\n",
    "# bins = np.array((50, 100, 200, 300, 400, 500, 600, 800, 1000, 1200, 1500, 1800), dtype = np.double)\n",
    "\n",
    "# Too many bins\n",
    "# bins = np.geomspace(15, 7000, 250, dtype=np.double)\n",
    "\n",
    "cnt = len(bins)-1\n",
    "\n",
    "\"\"\"\n",
    "df1 = df.Filter(\"Jet_pt.size() > 2\") \\\n",
    "        .Filter(\"ROOT::VecOps::DeltaPhi(Jet_phi[0], Jet_phi[1]) > 2.8\") \\\n",
    "        .Filter(\"(Jet_pt[0] > 15) && (Jet_pt[1] > 15)\") \\\n",
    "        .Filter(\"(abs(Jet_eta[0]) < 1.3) && (abs(Jet_eta[1]) < 1.3)\") \\\n",
    "        .Define(\"rIdx\", \"rand_oneZero()\") \\\n",
    "        .Redefine(\"Jet_nConstChHads\", \"Take(Jet_nConstChHads, rIdx)\") \\\n",
    "        .Define(\"Jet_nConstME\", \"Take(Jet_nConstMuons+Jet_nConstElecs, rIdx)\") \\\n",
    "        .Redefine(\"Jet_nConstPhotons\", \"Take(Jet_nConstPhotons, rIdx)\") \\\n",
    "        .Redefine(\"Jet_nConstNeuHads\", \"Take(Jet_nConstNeuHads, rIdx)\") \\\n",
    "        .Redefine(\"Jet_nConstituents\", \"Take(Jet_nConstituents, rIdx)\") \\\n",
    "        .Define(\"pTtag\", \"Take(Jet_pt, rIdx)\")\n",
    "\n",
    "    \"\"\"\n",
    "\n",
    "# Tabnine\n",
    "ChHads = df1.Profile1D((\"HadsProfile\", \"Hads\", cnt, bins), \"pTtag\", \"Jet_nConstChHads\")\n",
    "Muons = df1.Profile1D((\"MuonsProfile\", \"Muons\", cnt, bins), \"pTtag\", \"Jet_nConstME\")\n",
    "Photons = df1.Profile1D((\"Photons\", \"Photons\", cnt, bins), \"pTtag\", \"Jet_nConstPhotons\")\n",
    "NeuHads = df1.Profile1D((\"NeuHadsProfile\", \"NeuHads\", cnt, bins), \"pTtag\", \"Jet_nConstNeuHads\")\n",
    "nSum = df1.Profile1D((\"nSumProfile\", \"nSum\", cnt, bins), \"pTtag\",\"nSum\")\n",
    "nConst = df1.Profile1D((\"nConstProfile\", \"nConst\", cnt, bins), \"pTtag\", \"Jet_nConstituents\")\n",
    "\n",
    "ChHads_real = df_real1.Profile1D((\"HadsProfile\", \"Hads\", cnt, bins), \"pTtag\", \"Jet_nConstChHads\")\n",
    "Muons_real = df_real1.Profile1D((\"MuonsProfile\", \"Muons\", cnt, bins), \"pTtag\", \"Jet_nConstME\")\n",
    "Photons_real = df_real1.Profile1D((\"Photons\", \"Photons\", cnt, bins), \"pTtag\", \"Jet_nConstPhotons\")\n",
    "NeuHads_real = df_real1.Profile1D((\"NeuHadsProfile\", \"NeuHads\", cnt, bins), \"pTtag\", \"Jet_nConstNeuHads\")\n",
    "nSum_real = df_real1.Profile1D((\"nSumProfile\", \"nSum\", cnt, bins), \"pTtag\",\"nSum\")\n",
    "nConst_real = df_real1.Profile1D((\"nConstProfile\", \"nConst\", cnt, bins), \"pTtag\", \"Jet_nConstituents\")\n",
    "# ChG = df1.Profile1D((\"ChG\", \"ChG\", cnt, bins), \"pTtag\", \"ChG\")\n",
    "# ChQ = df1.Profile1D((\"ChQ\", \"ChQ\", cnt, bins), \"pTtag\", \"ChQ\")\n"
   ]
  },
  {
   "cell_type": "markdown",
   "id": "784cd074",
   "metadata": {},
   "source": [
    "## Plots\n"
   ]
  },
  {
   "cell_type": "markdown",
   "id": "bad90ea3",
   "metadata": {},
   "source": [
    "### Nptcl"
   ]
  },
  {
   "cell_type": "code",
   "execution_count": 11,
   "id": "3fe7fc94",
   "metadata": {},
   "outputs": [
    {
     "name": "stderr",
     "output_type": "stream",
     "text": [
      "Warning in <TROOT::Append>: Replacing existing TH1: h1 (Potential memory leak).\n",
      "Warning in <TCanvas::Constructor>: Deleting canvas with same name: canvas\n"
     ]
    },
    {
     "data": {
      "image/png": "[encoded data removed]",
      "text/plain": [
       "<IPython.core.display.Image object>"
      ]
     },
     "metadata": {},
     "output_type": "display_data"
    }
   ],
   "source": [
    "%jsroot off\n",
    "# Function for tdrStyle axes and limit setting----------------------\n",
    "def tdrAxes(hist, y_low, y_up):\n",
    "    hist.GetYaxis().SetRangeUser(y_low, y_up)\n",
    "    hist.GetXaxis().SetRangeUser(30, 3500)\n",
    "    hist.GetXaxis().SetMoreLogLabels()\n",
    "    hist.GetXaxis().SetNoExponent()\n",
    "\n",
    "# Plot --------------------------------------------------------------\n",
    "hist = ROOT.TH1D(\"h1\", \"h1 title;p_{T,tag} (GeV);N_{ptcl}\", cnt, bins)\n",
    "\n",
    "\n",
    "ROOT.extraText = \"Work in progress\"\n",
    "ROOT.lumi_13TeV = \"137.8 fb^{-1}\"\n",
    "\n",
    "canv = ROOT.tdrCanvas(\"canvas\", hist, 4, 0, ROOT.kSquare)\n",
    "\n",
    "ROOT.tdrDraw(ChHads.GetPtr(),\"PL\", ROOT.kOpenCircle, ROOT.kRed)\n",
    "# ROOT.tdrDraw(Muons.GetPtr(),\"PL\", ROOT.kOpenCircle, ROOT.kMagenta+1)\n",
    "ROOT.tdrDraw(Photons.GetPtr(),\"PL\", ROOT.kOpenCircle, ROOT.kBlue)\n",
    "ROOT.tdrDraw(NeuHads.GetPtr(),\"PL\", ROOT.kOpenCircle, ROOT.kGreen+2)\n",
    "ROOT.tdrDraw(nConst.GetPtr(),\"PL\", ROOT.kOpenCircle, ROOT.kBlack)\n",
    "ROOT.tdrDraw(nSum.GetPtr(),\"PL\", ROOT.kOpenDiamond, ROOT.kBlack)\n",
    "\n",
    "ROOT.tdrDraw(ChHads_real.GetPtr(),\"PL\", ROOT.kFullCircle, ROOT.kRed)\n",
    "# ROOT.tdrDraw(Muons.GetPtr(),\"PL\", ROOT.kOpenCircle, ROOT.kMagenta+1)\n",
    "ROOT.tdrDraw(Photons_real.GetPtr(),\"PL\", ROOT.kFullCircle, ROOT.kBlue)\n",
    "ROOT.tdrDraw(NeuHads_real.GetPtr(),\"PL\", ROOT.kFullCircle, ROOT.kGreen+2)\n",
    "ROOT.tdrDraw(nConst_real.GetPtr(),\"PL\", ROOT.kFullCircle, ROOT.kBlack)\n",
    "ROOT.tdrDraw(nSum_real.GetPtr(),\"PL\", ROOT.kFullDiamond, ROOT.kBlack)\n",
    "\n",
    "\n",
    "# ROOT.tdrDraw(ChG.GetPtr(),\"PL\", ROOT.kOpenStar, ROOT.kBlack)\n",
    "# ChG.GetPtr().GetXaxis().SetRangeUser(50, 3500)\n",
    "# ROOT.tdrDraw(ChQ.GetPtr(),\"PL\", ROOT.kOpenCircle, ROOT.kRed)\n",
    "# ChQ.GetPtr().GetXaxis().SetRangeUser(50, 3500)\n",
    "\n",
    "tdrAxes(hist, 0, 60)\n",
    "leg = ROOT.tdrLeg(0.2,0.65,0.4,0.9)\n",
    "leg.AddEntry(ChHads.GetPtr(), \"CH\", \"pl\")\n",
    "# leg.AddEntry(Muons.GetPtr(), \"ME\", \"pl\")\n",
    "leg.AddEntry(NeuHads.GetPtr(), \"NH\", \"pl\")\n",
    "leg.AddEntry(Photons.GetPtr(), \"NE\", \"pl\")\n",
    "leg.AddEntry(nConst.GetPtr(), \"nConst\", \"pl\")\n",
    "leg.AddEntry(nSum.GetPtr(), \"nSum\", \"pl\")\n",
    "\n",
    "# leg.AddEntry(ChG.GetPtr(), \"G\", \"pl\")\n",
    "# leg.AddEntry(ChQ.GetPtr(), \"Q\", \"pl\")\n",
    "# leg.AddEntry(ChHads.GetPtr(), \"inclusive\", \"pl\")\n",
    "\n",
    "# for key in graphs:\n",
    "#     leg.AddEntry(graphs[key][\"cut\"], key, \"pl\")\n",
    "\n",
    "ROOT.gStyle.SetPalette(ROOT.kRainBow) #GreyYellow LightTemperature\n",
    "\n",
    "# late = ROOT.TLatex()\n",
    "# late.SetNDC()\n",
    "# late.DrawLatex(.2, .2, \"|#eta| < 1.3; #DeltaR < 0.2; p_{T} > 15 GeV\")\n",
    "\n",
    "canv.SetLogx()\n",
    "canv.Draw()"
   ]
  }
 ],
 "metadata": {
  "interpreter": {
   "hash": "b25499489ed43c477baca2e313e90961e09e5f0c1aac71ad72e5a57fec84bb88"
  },
  "kernelspec": {
   "display_name": "Python 3",
   "language": "python",
   "name": "python3"
  },
  "language_info": {
   "codemirror_mode": {
    "name": "ipython",
    "version": 3
   },
   "file_extension": ".py",
   "mimetype": "text/x-python",
   "name": "python",
   "nbconvert_exporter": "python",
   "pygments_lexer": "ipython3",
   "version": "3.10.4"
  }
 },
 "nbformat": 4,
 "nbformat_minor": 5
}
